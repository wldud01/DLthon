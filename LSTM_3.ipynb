{
 "cells": [
  {
   "cell_type": "code",
   "execution_count": 1,
   "id": "9099348c",
   "metadata": {},
   "outputs": [],
   "source": [
    "import pandas as pd\n",
    "import tensorflow as tf\n",
    "from tensorflow import keras\n",
    "import wandb\n",
    "from wandb.keras import WandbCallback\n",
    "import os\n",
    "import re\n",
    "import sentencepiece as spm\n",
    "import numpy as np\n",
    "import matplotlib.pyplot as plt\n",
    "import seaborn as sns\n",
    "from matplotlib import font_manager, rc\n",
    "from sklearn.model_selection import train_test_split\n",
    "from tensorflow.keras.layers import Embedding, SpatialDropout1D, LSTM, Dense\n",
    "from tensorflow.keras.callbacks import EarlyStopping\n",
    "from sklearn.preprocessing import LabelEncoder\n",
    "from tensorflow.keras.preprocessing.text import Tokenizer\n",
    "from tensorflow.keras.preprocessing.sequence import pad_sequences\n",
    "from tensorflow.keras.models import Sequential\n",
    "from tensorflow.keras.utils import to_categorical\n",
    "from tensorflow.keras.layers import Embedding, LSTM, Dense"
   ]
  },
  {
   "cell_type": "code",
   "execution_count": 2,
   "id": "aa3d7c6f",
   "metadata": {},
   "outputs": [
    {
     "data": {
      "text/html": [
       "<div>\n",
       "<style scoped>\n",
       "    .dataframe tbody tr th:only-of-type {\n",
       "        vertical-align: middle;\n",
       "    }\n",
       "\n",
       "    .dataframe tbody tr th {\n",
       "        vertical-align: top;\n",
       "    }\n",
       "\n",
       "    .dataframe thead th {\n",
       "        text-align: right;\n",
       "    }\n",
       "</style>\n",
       "<table border=\"1\" class=\"dataframe\">\n",
       "  <thead>\n",
       "    <tr style=\"text-align: right;\">\n",
       "      <th></th>\n",
       "      <th>idx</th>\n",
       "      <th>class</th>\n",
       "      <th>conversation</th>\n",
       "    </tr>\n",
       "  </thead>\n",
       "  <tbody>\n",
       "    <tr>\n",
       "      <th>0</th>\n",
       "      <td>0</td>\n",
       "      <td>협박 대화</td>\n",
       "      <td>지금 너 스스로를 죽여달라고 애원하는 것인가?\\n 아닙니다. 죄송합니다.\\n 죽을 ...</td>\n",
       "    </tr>\n",
       "    <tr>\n",
       "      <th>1</th>\n",
       "      <td>1</td>\n",
       "      <td>협박 대화</td>\n",
       "      <td>길동경찰서입니다.\\n9시 40분 마트에 폭발물을 설치할거다.\\n네?\\n똑바로 들어 ...</td>\n",
       "    </tr>\n",
       "    <tr>\n",
       "      <th>2</th>\n",
       "      <td>2</td>\n",
       "      <td>기타 괴롭힘 대화</td>\n",
       "      <td>너 되게 귀여운거 알지? 나보다 작은 남자는 첨봤어.\\n그만해. 니들 놀리는거 재미...</td>\n",
       "    </tr>\n",
       "    <tr>\n",
       "      <th>3</th>\n",
       "      <td>3</td>\n",
       "      <td>갈취 대화</td>\n",
       "      <td>어이 거기\\n예??\\n너 말이야 너. 이리 오라고\\n무슨 일.\\n너 옷 좋아보인다?...</td>\n",
       "    </tr>\n",
       "    <tr>\n",
       "      <th>4</th>\n",
       "      <td>4</td>\n",
       "      <td>갈취 대화</td>\n",
       "      <td>저기요 혹시 날이 너무 뜨겁잖아요? 저희 회사에서 이 선크림 파는데 한 번 손등에 ...</td>\n",
       "    </tr>\n",
       "  </tbody>\n",
       "</table>\n",
       "</div>"
      ],
      "text/plain": [
       "   idx      class                                       conversation\n",
       "0    0      협박 대화  지금 너 스스로를 죽여달라고 애원하는 것인가?\\n 아닙니다. 죄송합니다.\\n 죽을 ...\n",
       "1    1      협박 대화  길동경찰서입니다.\\n9시 40분 마트에 폭발물을 설치할거다.\\n네?\\n똑바로 들어 ...\n",
       "2    2  기타 괴롭힘 대화  너 되게 귀여운거 알지? 나보다 작은 남자는 첨봤어.\\n그만해. 니들 놀리는거 재미...\n",
       "3    3      갈취 대화  어이 거기\\n예??\\n너 말이야 너. 이리 오라고\\n무슨 일.\\n너 옷 좋아보인다?...\n",
       "4    4      갈취 대화  저기요 혹시 날이 너무 뜨겁잖아요? 저희 회사에서 이 선크림 파는데 한 번 손등에 ..."
      ]
     },
     "execution_count": 2,
     "metadata": {},
     "output_type": "execute_result"
    }
   ],
   "source": [
    "train_data_path =\"aiffel/dktc/data/train.csv\"\n",
    "train_data = pd.read_csv(train_data_path)\n",
    "train_data.head()"
   ]
  },
  {
   "cell_type": "code",
   "execution_count": 3,
   "id": "47a2394d",
   "metadata": {},
   "outputs": [],
   "source": [
    "df=train_data"
   ]
  },
  {
   "cell_type": "code",
   "execution_count": 4,
   "id": "e5df5b0b",
   "metadata": {},
   "outputs": [],
   "source": [
    "df['class'] = df['class'].replace('협박 대화', 0, inplace=False)\n",
    "df['class'] = df['class'].replace('갈취 대화', 1, inplace=False)\n",
    "df['class'] = df['class'].replace('직장 내 괴롭힘 대화', 2, inplace=False)\n",
    "df['class'] = df['class'].replace('기타 괴롭힘 대화', 3, inplace=False)"
   ]
  },
  {
   "cell_type": "code",
   "execution_count": 5,
   "id": "83012a4f",
   "metadata": {
    "scrolled": true
   },
   "outputs": [
    {
     "data": {
      "text/html": [
       "<div>\n",
       "<style scoped>\n",
       "    .dataframe tbody tr th:only-of-type {\n",
       "        vertical-align: middle;\n",
       "    }\n",
       "\n",
       "    .dataframe tbody tr th {\n",
       "        vertical-align: top;\n",
       "    }\n",
       "\n",
       "    .dataframe thead th {\n",
       "        text-align: right;\n",
       "    }\n",
       "</style>\n",
       "<table border=\"1\" class=\"dataframe\">\n",
       "  <thead>\n",
       "    <tr style=\"text-align: right;\">\n",
       "      <th></th>\n",
       "      <th>idx</th>\n",
       "      <th>class</th>\n",
       "      <th>conversation</th>\n",
       "    </tr>\n",
       "  </thead>\n",
       "  <tbody>\n",
       "    <tr>\n",
       "      <th>392</th>\n",
       "      <td>392</td>\n",
       "      <td>3</td>\n",
       "      <td>병신이 아이스크림 먹게 돼 있냐?\\n난 먹으면 안 돼? 그만 좀 해.\\n당연히 안 ...</td>\n",
       "    </tr>\n",
       "    <tr>\n",
       "      <th>523</th>\n",
       "      <td>523</td>\n",
       "      <td>2</td>\n",
       "      <td>과장님. 저 이번에 휴가 좀 갔다와도 되겠습니까.?\\n휴가? 왜??\\n좀 쉬다가 오...</td>\n",
       "    </tr>\n",
       "    <tr>\n",
       "      <th>789</th>\n",
       "      <td>789</td>\n",
       "      <td>3</td>\n",
       "      <td>야 얘 이 쪽 손가락 세 개밖에 없다\\n엥 손가락이 세개밖에 없을 수가 있어?\\n봐...</td>\n",
       "    </tr>\n",
       "    <tr>\n",
       "      <th>824</th>\n",
       "      <td>824</td>\n",
       "      <td>3</td>\n",
       "      <td>이야 내동생 여자친구한테 편지쓰네?\\n 아 형 돌려줘.\\n 어디보자. 사랑하는 여친...</td>\n",
       "    </tr>\n",
       "    <tr>\n",
       "      <th>869</th>\n",
       "      <td>869</td>\n",
       "      <td>2</td>\n",
       "      <td>지현씨 나 소개팅 좀 시켜줘봐\\n네? 저 주변에 아는 사람이 없어서요\\n아 상사라 ...</td>\n",
       "    </tr>\n",
       "    <tr>\n",
       "      <th>...</th>\n",
       "      <td>...</td>\n",
       "      <td>...</td>\n",
       "      <td>...</td>\n",
       "    </tr>\n",
       "    <tr>\n",
       "      <th>3797</th>\n",
       "      <td>3797</td>\n",
       "      <td>3</td>\n",
       "      <td>너 이번 방학 때 쌍꺼풀 수술 하고왔지?\\n아닌데?\\n아니긴 뭐가 아니야. 눈이 이...</td>\n",
       "    </tr>\n",
       "    <tr>\n",
       "      <th>3798</th>\n",
       "      <td>3798</td>\n",
       "      <td>3</td>\n",
       "      <td>안녕하세요 지금 먹방 촬영중인데 촬영가능할까요?\\n안돼요\\n한번만 안될까요?\\n안돼...</td>\n",
       "    </tr>\n",
       "    <tr>\n",
       "      <th>3855</th>\n",
       "      <td>3855</td>\n",
       "      <td>3</td>\n",
       "      <td>그 소문 진짜야? 너가 다른 애들 뒷담화하고 다녔다며?\\n응? 나 그런 적 없는데?...</td>\n",
       "    </tr>\n",
       "    <tr>\n",
       "      <th>3874</th>\n",
       "      <td>3874</td>\n",
       "      <td>3</td>\n",
       "      <td>야 니 왤캐 못생겼냐?\\n뭐라그랬냐?\\n으 나 보고 말하지마 니 얼굴보면 토나올거 ...</td>\n",
       "    </tr>\n",
       "    <tr>\n",
       "      <th>3928</th>\n",
       "      <td>3928</td>\n",
       "      <td>3</td>\n",
       "      <td>새파랗게 젊은게 어디 여길 앉아있어\\n저 임산부에요\\n사지 멀쩡한게! 임신이 벼슬이...</td>\n",
       "    </tr>\n",
       "  </tbody>\n",
       "</table>\n",
       "<p>104 rows × 3 columns</p>\n",
       "</div>"
      ],
      "text/plain": [
       "       idx  class                                       conversation\n",
       "392    392      3  병신이 아이스크림 먹게 돼 있냐?\\n난 먹으면 안 돼? 그만 좀 해.\\n당연히 안 ...\n",
       "523    523      2  과장님. 저 이번에 휴가 좀 갔다와도 되겠습니까.?\\n휴가? 왜??\\n좀 쉬다가 오...\n",
       "789    789      3  야 얘 이 쪽 손가락 세 개밖에 없다\\n엥 손가락이 세개밖에 없을 수가 있어?\\n봐...\n",
       "824    824      3  이야 내동생 여자친구한테 편지쓰네?\\n 아 형 돌려줘.\\n 어디보자. 사랑하는 여친...\n",
       "869    869      2  지현씨 나 소개팅 좀 시켜줘봐\\n네? 저 주변에 아는 사람이 없어서요\\n아 상사라 ...\n",
       "...    ...    ...                                                ...\n",
       "3797  3797      3  너 이번 방학 때 쌍꺼풀 수술 하고왔지?\\n아닌데?\\n아니긴 뭐가 아니야. 눈이 이...\n",
       "3798  3798      3  안녕하세요 지금 먹방 촬영중인데 촬영가능할까요?\\n안돼요\\n한번만 안될까요?\\n안돼...\n",
       "3855  3855      3  그 소문 진짜야? 너가 다른 애들 뒷담화하고 다녔다며?\\n응? 나 그런 적 없는데?...\n",
       "3874  3874      3  야 니 왤캐 못생겼냐?\\n뭐라그랬냐?\\n으 나 보고 말하지마 니 얼굴보면 토나올거 ...\n",
       "3928  3928      3  새파랗게 젊은게 어디 여길 앉아있어\\n저 임산부에요\\n사지 멀쩡한게! 임신이 벼슬이...\n",
       "\n",
       "[104 rows x 3 columns]"
      ]
     },
     "execution_count": 5,
     "metadata": {},
     "output_type": "execute_result"
    }
   ],
   "source": [
    "df[df.duplicated('conversation')]"
   ]
  },
  {
   "cell_type": "code",
   "execution_count": 7,
   "id": "5cb51170",
   "metadata": {
    "scrolled": true
   },
   "outputs": [
    {
     "data": {
      "text/html": [
       "<div>\n",
       "<style scoped>\n",
       "    .dataframe tbody tr th:only-of-type {\n",
       "        vertical-align: middle;\n",
       "    }\n",
       "\n",
       "    .dataframe tbody tr th {\n",
       "        vertical-align: top;\n",
       "    }\n",
       "\n",
       "    .dataframe thead th {\n",
       "        text-align: right;\n",
       "    }\n",
       "</style>\n",
       "<table border=\"1\" class=\"dataframe\">\n",
       "  <thead>\n",
       "    <tr style=\"text-align: right;\">\n",
       "      <th></th>\n",
       "      <th>idx</th>\n",
       "      <th>class</th>\n",
       "      <th>conversation</th>\n",
       "    </tr>\n",
       "  </thead>\n",
       "  <tbody>\n",
       "    <tr>\n",
       "      <th>0</th>\n",
       "      <td>0</td>\n",
       "      <td>0</td>\n",
       "      <td>지금 너 스스로를 죽여달라고 애원하는 것인가?\\n 아닙니다. 죄송합니다.\\n 죽을 ...</td>\n",
       "    </tr>\n",
       "    <tr>\n",
       "      <th>1</th>\n",
       "      <td>1</td>\n",
       "      <td>0</td>\n",
       "      <td>길동경찰서입니다.\\n9시 40분 마트에 폭발물을 설치할거다.\\n네?\\n똑바로 들어 ...</td>\n",
       "    </tr>\n",
       "    <tr>\n",
       "      <th>2</th>\n",
       "      <td>2</td>\n",
       "      <td>3</td>\n",
       "      <td>너 되게 귀여운거 알지? 나보다 작은 남자는 첨봤어.\\n그만해. 니들 놀리는거 재미...</td>\n",
       "    </tr>\n",
       "    <tr>\n",
       "      <th>3</th>\n",
       "      <td>3</td>\n",
       "      <td>1</td>\n",
       "      <td>어이 거기\\n예??\\n너 말이야 너. 이리 오라고\\n무슨 일.\\n너 옷 좋아보인다?...</td>\n",
       "    </tr>\n",
       "    <tr>\n",
       "      <th>4</th>\n",
       "      <td>4</td>\n",
       "      <td>1</td>\n",
       "      <td>저기요 혹시 날이 너무 뜨겁잖아요? 저희 회사에서 이 선크림 파는데 한 번 손등에 ...</td>\n",
       "    </tr>\n",
       "    <tr>\n",
       "      <th>...</th>\n",
       "      <td>...</td>\n",
       "      <td>...</td>\n",
       "      <td>...</td>\n",
       "    </tr>\n",
       "    <tr>\n",
       "      <th>3945</th>\n",
       "      <td>3945</td>\n",
       "      <td>3</td>\n",
       "      <td>준하야 넌 대가리가 왜이렇게 크냐?\\n내 머리가 뭐.\\n밥먹으면 대가리만 크냐 너는...</td>\n",
       "    </tr>\n",
       "    <tr>\n",
       "      <th>3946</th>\n",
       "      <td>3946</td>\n",
       "      <td>1</td>\n",
       "      <td>내가 지금 너 아들 김길준 데리고 있어. 살리고 싶으면 계좌에 1억만 보내\\n예.?...</td>\n",
       "    </tr>\n",
       "    <tr>\n",
       "      <th>3947</th>\n",
       "      <td>3947</td>\n",
       "      <td>2</td>\n",
       "      <td>나는 씨 같은 사람 보면 참 신기하더라. 어떻게 저렇게 살지.\\n왜 그래. 들리겠어...</td>\n",
       "    </tr>\n",
       "    <tr>\n",
       "      <th>3948</th>\n",
       "      <td>3948</td>\n",
       "      <td>1</td>\n",
       "      <td>누구맘대로 여기서 장사하래?\\n이게 무슨일입니까?\\n남의 구역에서 장사하려면 자릿세...</td>\n",
       "    </tr>\n",
       "    <tr>\n",
       "      <th>3949</th>\n",
       "      <td>3949</td>\n",
       "      <td>2</td>\n",
       "      <td>희정씨\\n네?\\n주말에 시간이 넘쳐나나봐\\n갑자기 왜그러세요?\\n손이 빤짝빤짝 네일...</td>\n",
       "    </tr>\n",
       "  </tbody>\n",
       "</table>\n",
       "<p>3846 rows × 3 columns</p>\n",
       "</div>"
      ],
      "text/plain": [
       "       idx  class                                       conversation\n",
       "0        0      0  지금 너 스스로를 죽여달라고 애원하는 것인가?\\n 아닙니다. 죄송합니다.\\n 죽을 ...\n",
       "1        1      0  길동경찰서입니다.\\n9시 40분 마트에 폭발물을 설치할거다.\\n네?\\n똑바로 들어 ...\n",
       "2        2      3  너 되게 귀여운거 알지? 나보다 작은 남자는 첨봤어.\\n그만해. 니들 놀리는거 재미...\n",
       "3        3      1  어이 거기\\n예??\\n너 말이야 너. 이리 오라고\\n무슨 일.\\n너 옷 좋아보인다?...\n",
       "4        4      1  저기요 혹시 날이 너무 뜨겁잖아요? 저희 회사에서 이 선크림 파는데 한 번 손등에 ...\n",
       "...    ...    ...                                                ...\n",
       "3945  3945      3  준하야 넌 대가리가 왜이렇게 크냐?\\n내 머리가 뭐.\\n밥먹으면 대가리만 크냐 너는...\n",
       "3946  3946      1  내가 지금 너 아들 김길준 데리고 있어. 살리고 싶으면 계좌에 1억만 보내\\n예.?...\n",
       "3947  3947      2  나는 씨 같은 사람 보면 참 신기하더라. 어떻게 저렇게 살지.\\n왜 그래. 들리겠어...\n",
       "3948  3948      1  누구맘대로 여기서 장사하래?\\n이게 무슨일입니까?\\n남의 구역에서 장사하려면 자릿세...\n",
       "3949  3949      2  희정씨\\n네?\\n주말에 시간이 넘쳐나나봐\\n갑자기 왜그러세요?\\n손이 빤짝빤짝 네일...\n",
       "\n",
       "[3846 rows x 3 columns]"
      ]
     },
     "execution_count": 7,
     "metadata": {},
     "output_type": "execute_result"
    }
   ],
   "source": [
    "df = df.drop_duplicates('conversation')\n",
    "df"
   ]
  },
  {
   "cell_type": "code",
   "execution_count": 8,
   "id": "8a514b26",
   "metadata": {},
   "outputs": [],
   "source": [
    "def clean_sentence(text):\n",
    "    text = re.sub('[^가-힣ㄱ-ㅎㅏ-ㅣa-zA-Z\\s]', '', text)  # 한글, 영문, 공백 제외한 문자 제거\n",
    "    text = text.strip()  # 양 끝 공백 제거\n",
    "    clean_sentence = text.strip()       \n",
    "    \n",
    "    return clean_sentence\n"
   ]
  },
  {
   "cell_type": "code",
   "execution_count": 9,
   "id": "99693a68",
   "metadata": {},
   "outputs": [],
   "source": [
    "df['cleaned_conversation'] = df['conversation'].apply(clean_sentence)\n",
    "df['cleaned_conversation'] = df['cleaned_conversation'].str.replace('\\n', ' ')"
   ]
  },
  {
   "cell_type": "code",
   "execution_count": 10,
   "id": "bd573f93",
   "metadata": {
    "scrolled": false
   },
   "outputs": [
    {
     "data": {
      "text/html": [
       "<div>\n",
       "<style scoped>\n",
       "    .dataframe tbody tr th:only-of-type {\n",
       "        vertical-align: middle;\n",
       "    }\n",
       "\n",
       "    .dataframe tbody tr th {\n",
       "        vertical-align: top;\n",
       "    }\n",
       "\n",
       "    .dataframe thead th {\n",
       "        text-align: right;\n",
       "    }\n",
       "</style>\n",
       "<table border=\"1\" class=\"dataframe\">\n",
       "  <thead>\n",
       "    <tr style=\"text-align: right;\">\n",
       "      <th></th>\n",
       "      <th>idx</th>\n",
       "      <th>class</th>\n",
       "      <th>conversation</th>\n",
       "      <th>cleaned_conversation</th>\n",
       "    </tr>\n",
       "  </thead>\n",
       "  <tbody>\n",
       "    <tr>\n",
       "      <th>0</th>\n",
       "      <td>0</td>\n",
       "      <td>0</td>\n",
       "      <td>지금 너 스스로를 죽여달라고 애원하는 것인가?\\n 아닙니다. 죄송합니다.\\n 죽을 ...</td>\n",
       "      <td>지금 너 스스로를 죽여달라고 애원하는 것인가  아닙니다 죄송합니다  죽을 거면 혼자...</td>\n",
       "    </tr>\n",
       "    <tr>\n",
       "      <th>1</th>\n",
       "      <td>1</td>\n",
       "      <td>0</td>\n",
       "      <td>길동경찰서입니다.\\n9시 40분 마트에 폭발물을 설치할거다.\\n네?\\n똑바로 들어 ...</td>\n",
       "      <td>길동경찰서입니다 시 분 마트에 폭발물을 설치할거다 네 똑바로 들어 한번만 더 얘기한...</td>\n",
       "    </tr>\n",
       "    <tr>\n",
       "      <th>2</th>\n",
       "      <td>2</td>\n",
       "      <td>3</td>\n",
       "      <td>너 되게 귀여운거 알지? 나보다 작은 남자는 첨봤어.\\n그만해. 니들 놀리는거 재미...</td>\n",
       "      <td>너 되게 귀여운거 알지 나보다 작은 남자는 첨봤어 그만해 니들 놀리는거 재미없어 지...</td>\n",
       "    </tr>\n",
       "    <tr>\n",
       "      <th>3</th>\n",
       "      <td>3</td>\n",
       "      <td>1</td>\n",
       "      <td>어이 거기\\n예??\\n너 말이야 너. 이리 오라고\\n무슨 일.\\n너 옷 좋아보인다?...</td>\n",
       "      <td>어이 거기 예 너 말이야 너 이리 오라고 무슨 일 너 옷 좋아보인다 얘 돈 좀 있나...</td>\n",
       "    </tr>\n",
       "    <tr>\n",
       "      <th>4</th>\n",
       "      <td>4</td>\n",
       "      <td>1</td>\n",
       "      <td>저기요 혹시 날이 너무 뜨겁잖아요? 저희 회사에서 이 선크림 파는데 한 번 손등에 ...</td>\n",
       "      <td>저기요 혹시 날이 너무 뜨겁잖아요 저희 회사에서 이 선크림 파는데 한 번 손등에 발...</td>\n",
       "    </tr>\n",
       "    <tr>\n",
       "      <th>...</th>\n",
       "      <td>...</td>\n",
       "      <td>...</td>\n",
       "      <td>...</td>\n",
       "      <td>...</td>\n",
       "    </tr>\n",
       "    <tr>\n",
       "      <th>3945</th>\n",
       "      <td>3945</td>\n",
       "      <td>3</td>\n",
       "      <td>준하야 넌 대가리가 왜이렇게 크냐?\\n내 머리가 뭐.\\n밥먹으면 대가리만 크냐 너는...</td>\n",
       "      <td>준하야 넌 대가리가 왜이렇게 크냐 내 머리가 뭐 밥먹으면 대가리만 크냐 너는 아니 ...</td>\n",
       "    </tr>\n",
       "    <tr>\n",
       "      <th>3946</th>\n",
       "      <td>3946</td>\n",
       "      <td>1</td>\n",
       "      <td>내가 지금 너 아들 김길준 데리고 있어. 살리고 싶으면 계좌에 1억만 보내\\n예.?...</td>\n",
       "      <td>내가 지금 너 아들 김길준 데리고 있어 살리고 싶으면 계좌에 억만 보내 예 선생님 ...</td>\n",
       "    </tr>\n",
       "    <tr>\n",
       "      <th>3947</th>\n",
       "      <td>3947</td>\n",
       "      <td>2</td>\n",
       "      <td>나는 씨 같은 사람 보면 참 신기하더라. 어떻게 저렇게 살지.\\n왜 그래. 들리겠어...</td>\n",
       "      <td>나는 씨 같은 사람 보면 참 신기하더라 어떻게 저렇게 살지 왜 그래 들리겠어 들리라...</td>\n",
       "    </tr>\n",
       "    <tr>\n",
       "      <th>3948</th>\n",
       "      <td>3948</td>\n",
       "      <td>1</td>\n",
       "      <td>누구맘대로 여기서 장사하래?\\n이게 무슨일입니까?\\n남의 구역에서 장사하려면 자릿세...</td>\n",
       "      <td>누구맘대로 여기서 장사하래 이게 무슨일입니까 남의 구역에서 장사하려면 자릿세를 내야...</td>\n",
       "    </tr>\n",
       "    <tr>\n",
       "      <th>3949</th>\n",
       "      <td>3949</td>\n",
       "      <td>2</td>\n",
       "      <td>희정씨\\n네?\\n주말에 시간이 넘쳐나나봐\\n갑자기 왜그러세요?\\n손이 빤짝빤짝 네일...</td>\n",
       "      <td>희정씨 네 주말에 시간이 넘쳐나나봐 갑자기 왜그러세요 손이 빤짝빤짝 네일했니 네 여...</td>\n",
       "    </tr>\n",
       "  </tbody>\n",
       "</table>\n",
       "<p>3846 rows × 4 columns</p>\n",
       "</div>"
      ],
      "text/plain": [
       "       idx  class                                       conversation  \\\n",
       "0        0      0  지금 너 스스로를 죽여달라고 애원하는 것인가?\\n 아닙니다. 죄송합니다.\\n 죽을 ...   \n",
       "1        1      0  길동경찰서입니다.\\n9시 40분 마트에 폭발물을 설치할거다.\\n네?\\n똑바로 들어 ...   \n",
       "2        2      3  너 되게 귀여운거 알지? 나보다 작은 남자는 첨봤어.\\n그만해. 니들 놀리는거 재미...   \n",
       "3        3      1  어이 거기\\n예??\\n너 말이야 너. 이리 오라고\\n무슨 일.\\n너 옷 좋아보인다?...   \n",
       "4        4      1  저기요 혹시 날이 너무 뜨겁잖아요? 저희 회사에서 이 선크림 파는데 한 번 손등에 ...   \n",
       "...    ...    ...                                                ...   \n",
       "3945  3945      3  준하야 넌 대가리가 왜이렇게 크냐?\\n내 머리가 뭐.\\n밥먹으면 대가리만 크냐 너는...   \n",
       "3946  3946      1  내가 지금 너 아들 김길준 데리고 있어. 살리고 싶으면 계좌에 1억만 보내\\n예.?...   \n",
       "3947  3947      2  나는 씨 같은 사람 보면 참 신기하더라. 어떻게 저렇게 살지.\\n왜 그래. 들리겠어...   \n",
       "3948  3948      1  누구맘대로 여기서 장사하래?\\n이게 무슨일입니까?\\n남의 구역에서 장사하려면 자릿세...   \n",
       "3949  3949      2  희정씨\\n네?\\n주말에 시간이 넘쳐나나봐\\n갑자기 왜그러세요?\\n손이 빤짝빤짝 네일...   \n",
       "\n",
       "                                   cleaned_conversation  \n",
       "0     지금 너 스스로를 죽여달라고 애원하는 것인가  아닙니다 죄송합니다  죽을 거면 혼자...  \n",
       "1     길동경찰서입니다 시 분 마트에 폭발물을 설치할거다 네 똑바로 들어 한번만 더 얘기한...  \n",
       "2     너 되게 귀여운거 알지 나보다 작은 남자는 첨봤어 그만해 니들 놀리는거 재미없어 지...  \n",
       "3     어이 거기 예 너 말이야 너 이리 오라고 무슨 일 너 옷 좋아보인다 얘 돈 좀 있나...  \n",
       "4     저기요 혹시 날이 너무 뜨겁잖아요 저희 회사에서 이 선크림 파는데 한 번 손등에 발...  \n",
       "...                                                 ...  \n",
       "3945  준하야 넌 대가리가 왜이렇게 크냐 내 머리가 뭐 밥먹으면 대가리만 크냐 너는 아니 ...  \n",
       "3946  내가 지금 너 아들 김길준 데리고 있어 살리고 싶으면 계좌에 억만 보내 예 선생님 ...  \n",
       "3947  나는 씨 같은 사람 보면 참 신기하더라 어떻게 저렇게 살지 왜 그래 들리겠어 들리라...  \n",
       "3948  누구맘대로 여기서 장사하래 이게 무슨일입니까 남의 구역에서 장사하려면 자릿세를 내야...  \n",
       "3949  희정씨 네 주말에 시간이 넘쳐나나봐 갑자기 왜그러세요 손이 빤짝빤짝 네일했니 네 여...  \n",
       "\n",
       "[3846 rows x 4 columns]"
      ]
     },
     "execution_count": 10,
     "metadata": {},
     "output_type": "execute_result"
    }
   ],
   "source": [
    "df"
   ]
  },
  {
   "cell_type": "code",
   "execution_count": 11,
   "id": "51268806",
   "metadata": {},
   "outputs": [],
   "source": [
    "from konlpy.tag import Okt, Mecab\n",
    "from sklearn.feature_extraction.text import CountVectorizer\n",
    "from collections import Counter\n",
    "import operator\n",
    "\n",
    "# 한국어 형태소 분석기 초기화\n",
    "okt = Okt()\n",
    "mecab = Mecab()\n",
    "\n",
    "def tokenize(text):\n",
    "    tokens = okt.morphs(text)  # 문장을 형태소 단위로 분리\n",
    "    return tokens\n",
    "\n",
    "# 불용어 리스트 정의\n",
    "stop_words = [\n",
    "    \"은\", \"는\", \"이\", \"가\", \"을\", \"를\", \"으로\", \"에\", \"에서\",\n",
    "    \"하다\", \"하는\", \"된\", \"나\", \"고\", \"와\", \"과\", \"너무\", \"있는\", \"같은\", \n",
    "    \"하는\", \"것\", \"그\", \"그리고\", \"하는\", \"하는\", \"말\", \"생각\", \"다\", \"그런\",\n",
    "    \"저\", \"제\", \"네\", \"들\", \"이다\", \"입니다\", \"한다\", \"합니다\", \"돼\", \"이런\",\n",
    "    \"저런\", \"그런\", \"할\", \"수z\", \"있는\", \"또는\", \"아니\", \"합니다\", \"있다\", \"왜\",\n",
    "    \"여기\", \"저기\", \"그렇게\", \"그러니까\", \"뭐\", \"하나\", \"때\", \"수\", \"등\", \"아주\",\n",
    "    \"너\", \"내\", \"야\", \"안\", \"니\", \"도\"\n",
    "    # 추가적인 불용어 단어 추가 가능\n",
    "]\n",
    "\n",
    "def return_words(corpus):\n",
    "    # filter stop words\n",
    "    vect = CountVectorizer(tokenizer=tokenize, stop_words=stopwords, analyzer='word')\n",
    "    bow_vect = vect.fit_transform(corpus)\n",
    "    word_list = vect.get_feature_names()  # 어떤 단어들이 들어가있는지 확인\n",
    "    count_list = bow_vect.toarray().sum(axis=0)  # 인덱스순으로 몇개의 단어가 있는지\n",
    "    word_count_dict = dict(zip(word_list, count_list))  # word, count를 key value로 묶는 것\n",
    "\n",
    "    # 빈도수가 높은 순으로 정렬\n",
    "    sorted_word_count = sorted(word_count_dict.items(), key=operator.itemgetter(1), reverse=True)\n",
    "    print(sorted_word_count)"
   ]
  },
  {
   "cell_type": "code",
   "execution_count": 12,
   "id": "3872af89",
   "metadata": {},
   "outputs": [],
   "source": [
    "df['okt_tk'] = df['cleaned_conversation'].apply(tokenize)"
   ]
  },
  {
   "cell_type": "code",
   "execution_count": 13,
   "id": "4fc48310",
   "metadata": {},
   "outputs": [],
   "source": [
    "def tokenize_mecab(text):\n",
    "    tokens = mecab.morphs(text)  # 문장을 형태소 단위로 분리\n",
    "    return tokens\n",
    "\n",
    "df['mecab_tk'] = df['cleaned_conversation'].apply(tokenize_mecab)"
   ]
  },
  {
   "cell_type": "code",
   "execution_count": 14,
   "id": "2d7e66e2",
   "metadata": {},
   "outputs": [
    {
     "data": {
      "text/html": [
       "<div>\n",
       "<style scoped>\n",
       "    .dataframe tbody tr th:only-of-type {\n",
       "        vertical-align: middle;\n",
       "    }\n",
       "\n",
       "    .dataframe tbody tr th {\n",
       "        vertical-align: top;\n",
       "    }\n",
       "\n",
       "    .dataframe thead th {\n",
       "        text-align: right;\n",
       "    }\n",
       "</style>\n",
       "<table border=\"1\" class=\"dataframe\">\n",
       "  <thead>\n",
       "    <tr style=\"text-align: right;\">\n",
       "      <th></th>\n",
       "      <th>idx</th>\n",
       "      <th>class</th>\n",
       "      <th>conversation</th>\n",
       "      <th>cleaned_conversation</th>\n",
       "      <th>okt_tk</th>\n",
       "      <th>mecab_tk</th>\n",
       "    </tr>\n",
       "  </thead>\n",
       "  <tbody>\n",
       "    <tr>\n",
       "      <th>0</th>\n",
       "      <td>0</td>\n",
       "      <td>0</td>\n",
       "      <td>지금 너 스스로를 죽여달라고 애원하는 것인가?\\n 아닙니다. 죄송합니다.\\n 죽을 ...</td>\n",
       "      <td>지금 너 스스로를 죽여달라고 애원하는 것인가  아닙니다 죄송합니다  죽을 거면 혼자...</td>\n",
       "      <td>[지금, 너, 스스로, 를, 죽여, 달라, 고, 애원, 하는, 것, 인가, 아닙니다...</td>\n",
       "      <td>[지금, 너, 스스로, 를, 죽여, 달, 라고, 애원, 하, 는, 것, 인가, 아닙...</td>\n",
       "    </tr>\n",
       "    <tr>\n",
       "      <th>1</th>\n",
       "      <td>1</td>\n",
       "      <td>0</td>\n",
       "      <td>길동경찰서입니다.\\n9시 40분 마트에 폭발물을 설치할거다.\\n네?\\n똑바로 들어 ...</td>\n",
       "      <td>길동경찰서입니다 시 분 마트에 폭발물을 설치할거다 네 똑바로 들어 한번만 더 얘기한...</td>\n",
       "      <td>[길동, 경찰서, 입니다, 시, 분, 마트, 에, 폭발물, 을, 설치, 할거다, 네...</td>\n",
       "      <td>[길동, 경찰서, 입니다, 시, 분, 마트, 에, 폭발물, 을, 설치, 할, 거, ...</td>\n",
       "    </tr>\n",
       "    <tr>\n",
       "      <th>2</th>\n",
       "      <td>2</td>\n",
       "      <td>3</td>\n",
       "      <td>너 되게 귀여운거 알지? 나보다 작은 남자는 첨봤어.\\n그만해. 니들 놀리는거 재미...</td>\n",
       "      <td>너 되게 귀여운거 알지 나보다 작은 남자는 첨봤어 그만해 니들 놀리는거 재미없어 지...</td>\n",
       "      <td>[너, 되게, 귀여운거, 알, 지, 나, 보다, 작은, 남자, 는, 첨, 봤어, 그...</td>\n",
       "      <td>[너, 되게, 귀여운, 거, 알, 지, 나, 보다, 작, 은, 남자, 는, 첨, 봤...</td>\n",
       "    </tr>\n",
       "    <tr>\n",
       "      <th>3</th>\n",
       "      <td>3</td>\n",
       "      <td>1</td>\n",
       "      <td>어이 거기\\n예??\\n너 말이야 너. 이리 오라고\\n무슨 일.\\n너 옷 좋아보인다?...</td>\n",
       "      <td>어이 거기 예 너 말이야 너 이리 오라고 무슨 일 너 옷 좋아보인다 얘 돈 좀 있나...</td>\n",
       "      <td>[어이, 거기, 예, 너, 말, 이야, 너, 이리, 오라, 고, 무슨, 일, 너, ...</td>\n",
       "      <td>[어, 이, 거기, 예, 너, 말, 이, 야, 너, 이리, 오, 라고, 무슨, 일,...</td>\n",
       "    </tr>\n",
       "    <tr>\n",
       "      <th>4</th>\n",
       "      <td>4</td>\n",
       "      <td>1</td>\n",
       "      <td>저기요 혹시 날이 너무 뜨겁잖아요? 저희 회사에서 이 선크림 파는데 한 번 손등에 ...</td>\n",
       "      <td>저기요 혹시 날이 너무 뜨겁잖아요 저희 회사에서 이 선크림 파는데 한 번 손등에 발...</td>\n",
       "      <td>[저기, 요, 혹시, 날, 이, 너무, 뜨겁잖아요, 저희, 회사, 에서, 이, 선크...</td>\n",
       "      <td>[저기, 요, 혹시, 날, 이, 너무, 뜨겁, 잖아요, 저희, 회사, 에서, 이, ...</td>\n",
       "    </tr>\n",
       "    <tr>\n",
       "      <th>...</th>\n",
       "      <td>...</td>\n",
       "      <td>...</td>\n",
       "      <td>...</td>\n",
       "      <td>...</td>\n",
       "      <td>...</td>\n",
       "      <td>...</td>\n",
       "    </tr>\n",
       "    <tr>\n",
       "      <th>3945</th>\n",
       "      <td>3945</td>\n",
       "      <td>3</td>\n",
       "      <td>준하야 넌 대가리가 왜이렇게 크냐?\\n내 머리가 뭐.\\n밥먹으면 대가리만 크냐 너는...</td>\n",
       "      <td>준하야 넌 대가리가 왜이렇게 크냐 내 머리가 뭐 밥먹으면 대가리만 크냐 너는 아니 ...</td>\n",
       "      <td>[준, 하야, 넌, 대가리, 가, 왜, 이렇게, 크냐, 내, 머리, 가, 뭐, 밥,...</td>\n",
       "      <td>[준, 하, 야, 넌, 대가리, 가, 왜, 이렇게, 크, 냐, 내, 머리, 가, 뭐...</td>\n",
       "    </tr>\n",
       "    <tr>\n",
       "      <th>3946</th>\n",
       "      <td>3946</td>\n",
       "      <td>1</td>\n",
       "      <td>내가 지금 너 아들 김길준 데리고 있어. 살리고 싶으면 계좌에 1억만 보내\\n예.?...</td>\n",
       "      <td>내가 지금 너 아들 김길준 데리고 있어 살리고 싶으면 계좌에 억만 보내 예 선생님 ...</td>\n",
       "      <td>[내, 가, 지금, 너, 아들, 김길준, 데리, 고, 있어, 살리고, 싶으면, 계좌...</td>\n",
       "      <td>[내, 가, 지금, 너, 아들, 김길준, 데리, 고, 있, 어, 살리, 고, 싶, ...</td>\n",
       "    </tr>\n",
       "    <tr>\n",
       "      <th>3947</th>\n",
       "      <td>3947</td>\n",
       "      <td>2</td>\n",
       "      <td>나는 씨 같은 사람 보면 참 신기하더라. 어떻게 저렇게 살지.\\n왜 그래. 들리겠어...</td>\n",
       "      <td>나는 씨 같은 사람 보면 참 신기하더라 어떻게 저렇게 살지 왜 그래 들리겠어 들리라...</td>\n",
       "      <td>[나, 는, 씨, 같은, 사람, 보면, 참, 신기하더라, 어떻게, 저렇게, 살, 지...</td>\n",
       "      <td>[나, 는, 씨, 같, 은, 사람, 보, 면, 참, 신기, 하, 더라, 어떻게, 저...</td>\n",
       "    </tr>\n",
       "    <tr>\n",
       "      <th>3948</th>\n",
       "      <td>3948</td>\n",
       "      <td>1</td>\n",
       "      <td>누구맘대로 여기서 장사하래?\\n이게 무슨일입니까?\\n남의 구역에서 장사하려면 자릿세...</td>\n",
       "      <td>누구맘대로 여기서 장사하래 이게 무슨일입니까 남의 구역에서 장사하려면 자릿세를 내야...</td>\n",
       "      <td>[누구, 맘대로, 여기, 서, 장사, 하래, 이, 게, 무슨, 일, 입, 니까, 남...</td>\n",
       "      <td>[누구, 맘대로, 여기, 서, 장사, 하, 래, 이게, 무슨, 일, 입니까, 남, ...</td>\n",
       "    </tr>\n",
       "    <tr>\n",
       "      <th>3949</th>\n",
       "      <td>3949</td>\n",
       "      <td>2</td>\n",
       "      <td>희정씨\\n네?\\n주말에 시간이 넘쳐나나봐\\n갑자기 왜그러세요?\\n손이 빤짝빤짝 네일...</td>\n",
       "      <td>희정씨 네 주말에 시간이 넘쳐나나봐 갑자기 왜그러세요 손이 빤짝빤짝 네일했니 네 여...</td>\n",
       "      <td>[희, 정씨, 네, 주말, 에, 시간, 이, 넘쳐나나, 봐, 갑자기, 왜, 그러세요...</td>\n",
       "      <td>[희정, 씨, 네, 주말, 에, 시간, 이, 넘쳐나, 나, 봐, 갑자기, 왜, 그러...</td>\n",
       "    </tr>\n",
       "  </tbody>\n",
       "</table>\n",
       "<p>3846 rows × 6 columns</p>\n",
       "</div>"
      ],
      "text/plain": [
       "       idx  class                                       conversation  \\\n",
       "0        0      0  지금 너 스스로를 죽여달라고 애원하는 것인가?\\n 아닙니다. 죄송합니다.\\n 죽을 ...   \n",
       "1        1      0  길동경찰서입니다.\\n9시 40분 마트에 폭발물을 설치할거다.\\n네?\\n똑바로 들어 ...   \n",
       "2        2      3  너 되게 귀여운거 알지? 나보다 작은 남자는 첨봤어.\\n그만해. 니들 놀리는거 재미...   \n",
       "3        3      1  어이 거기\\n예??\\n너 말이야 너. 이리 오라고\\n무슨 일.\\n너 옷 좋아보인다?...   \n",
       "4        4      1  저기요 혹시 날이 너무 뜨겁잖아요? 저희 회사에서 이 선크림 파는데 한 번 손등에 ...   \n",
       "...    ...    ...                                                ...   \n",
       "3945  3945      3  준하야 넌 대가리가 왜이렇게 크냐?\\n내 머리가 뭐.\\n밥먹으면 대가리만 크냐 너는...   \n",
       "3946  3946      1  내가 지금 너 아들 김길준 데리고 있어. 살리고 싶으면 계좌에 1억만 보내\\n예.?...   \n",
       "3947  3947      2  나는 씨 같은 사람 보면 참 신기하더라. 어떻게 저렇게 살지.\\n왜 그래. 들리겠어...   \n",
       "3948  3948      1  누구맘대로 여기서 장사하래?\\n이게 무슨일입니까?\\n남의 구역에서 장사하려면 자릿세...   \n",
       "3949  3949      2  희정씨\\n네?\\n주말에 시간이 넘쳐나나봐\\n갑자기 왜그러세요?\\n손이 빤짝빤짝 네일...   \n",
       "\n",
       "                                   cleaned_conversation  \\\n",
       "0     지금 너 스스로를 죽여달라고 애원하는 것인가  아닙니다 죄송합니다  죽을 거면 혼자...   \n",
       "1     길동경찰서입니다 시 분 마트에 폭발물을 설치할거다 네 똑바로 들어 한번만 더 얘기한...   \n",
       "2     너 되게 귀여운거 알지 나보다 작은 남자는 첨봤어 그만해 니들 놀리는거 재미없어 지...   \n",
       "3     어이 거기 예 너 말이야 너 이리 오라고 무슨 일 너 옷 좋아보인다 얘 돈 좀 있나...   \n",
       "4     저기요 혹시 날이 너무 뜨겁잖아요 저희 회사에서 이 선크림 파는데 한 번 손등에 발...   \n",
       "...                                                 ...   \n",
       "3945  준하야 넌 대가리가 왜이렇게 크냐 내 머리가 뭐 밥먹으면 대가리만 크냐 너는 아니 ...   \n",
       "3946  내가 지금 너 아들 김길준 데리고 있어 살리고 싶으면 계좌에 억만 보내 예 선생님 ...   \n",
       "3947  나는 씨 같은 사람 보면 참 신기하더라 어떻게 저렇게 살지 왜 그래 들리겠어 들리라...   \n",
       "3948  누구맘대로 여기서 장사하래 이게 무슨일입니까 남의 구역에서 장사하려면 자릿세를 내야...   \n",
       "3949  희정씨 네 주말에 시간이 넘쳐나나봐 갑자기 왜그러세요 손이 빤짝빤짝 네일했니 네 여...   \n",
       "\n",
       "                                                 okt_tk  \\\n",
       "0     [지금, 너, 스스로, 를, 죽여, 달라, 고, 애원, 하는, 것, 인가, 아닙니다...   \n",
       "1     [길동, 경찰서, 입니다, 시, 분, 마트, 에, 폭발물, 을, 설치, 할거다, 네...   \n",
       "2     [너, 되게, 귀여운거, 알, 지, 나, 보다, 작은, 남자, 는, 첨, 봤어, 그...   \n",
       "3     [어이, 거기, 예, 너, 말, 이야, 너, 이리, 오라, 고, 무슨, 일, 너, ...   \n",
       "4     [저기, 요, 혹시, 날, 이, 너무, 뜨겁잖아요, 저희, 회사, 에서, 이, 선크...   \n",
       "...                                                 ...   \n",
       "3945  [준, 하야, 넌, 대가리, 가, 왜, 이렇게, 크냐, 내, 머리, 가, 뭐, 밥,...   \n",
       "3946  [내, 가, 지금, 너, 아들, 김길준, 데리, 고, 있어, 살리고, 싶으면, 계좌...   \n",
       "3947  [나, 는, 씨, 같은, 사람, 보면, 참, 신기하더라, 어떻게, 저렇게, 살, 지...   \n",
       "3948  [누구, 맘대로, 여기, 서, 장사, 하래, 이, 게, 무슨, 일, 입, 니까, 남...   \n",
       "3949  [희, 정씨, 네, 주말, 에, 시간, 이, 넘쳐나나, 봐, 갑자기, 왜, 그러세요...   \n",
       "\n",
       "                                               mecab_tk  \n",
       "0     [지금, 너, 스스로, 를, 죽여, 달, 라고, 애원, 하, 는, 것, 인가, 아닙...  \n",
       "1     [길동, 경찰서, 입니다, 시, 분, 마트, 에, 폭발물, 을, 설치, 할, 거, ...  \n",
       "2     [너, 되게, 귀여운, 거, 알, 지, 나, 보다, 작, 은, 남자, 는, 첨, 봤...  \n",
       "3     [어, 이, 거기, 예, 너, 말, 이, 야, 너, 이리, 오, 라고, 무슨, 일,...  \n",
       "4     [저기, 요, 혹시, 날, 이, 너무, 뜨겁, 잖아요, 저희, 회사, 에서, 이, ...  \n",
       "...                                                 ...  \n",
       "3945  [준, 하, 야, 넌, 대가리, 가, 왜, 이렇게, 크, 냐, 내, 머리, 가, 뭐...  \n",
       "3946  [내, 가, 지금, 너, 아들, 김길준, 데리, 고, 있, 어, 살리, 고, 싶, ...  \n",
       "3947  [나, 는, 씨, 같, 은, 사람, 보, 면, 참, 신기, 하, 더라, 어떻게, 저...  \n",
       "3948  [누구, 맘대로, 여기, 서, 장사, 하, 래, 이게, 무슨, 일, 입니까, 남, ...  \n",
       "3949  [희정, 씨, 네, 주말, 에, 시간, 이, 넘쳐나, 나, 봐, 갑자기, 왜, 그러...  \n",
       "\n",
       "[3846 rows x 6 columns]"
      ]
     },
     "execution_count": 14,
     "metadata": {},
     "output_type": "execute_result"
    }
   ],
   "source": [
    "df"
   ]
  },
  {
   "cell_type": "code",
   "execution_count": 16,
   "id": "33465ea7",
   "metadata": {},
   "outputs": [],
   "source": [
    "#500자 이상 제거 \n",
    "filtered_df = df[df['cleaned_conversation'].apply(len) <= 500]"
   ]
  },
  {
   "cell_type": "code",
   "execution_count": 17,
   "id": "19a7bd9a",
   "metadata": {
    "scrolled": true
   },
   "outputs": [
    {
     "data": {
      "text/html": [
       "<div>\n",
       "<style scoped>\n",
       "    .dataframe tbody tr th:only-of-type {\n",
       "        vertical-align: middle;\n",
       "    }\n",
       "\n",
       "    .dataframe tbody tr th {\n",
       "        vertical-align: top;\n",
       "    }\n",
       "\n",
       "    .dataframe thead th {\n",
       "        text-align: right;\n",
       "    }\n",
       "</style>\n",
       "<table border=\"1\" class=\"dataframe\">\n",
       "  <thead>\n",
       "    <tr style=\"text-align: right;\">\n",
       "      <th></th>\n",
       "      <th>idx</th>\n",
       "      <th>class</th>\n",
       "      <th>conversation</th>\n",
       "      <th>cleaned_conversation</th>\n",
       "      <th>okt_tk</th>\n",
       "      <th>mecab_tk</th>\n",
       "    </tr>\n",
       "  </thead>\n",
       "  <tbody>\n",
       "    <tr>\n",
       "      <th>0</th>\n",
       "      <td>0</td>\n",
       "      <td>0</td>\n",
       "      <td>지금 너 스스로를 죽여달라고 애원하는 것인가?\\n 아닙니다. 죄송합니다.\\n 죽을 ...</td>\n",
       "      <td>지금 너 스스로를 죽여달라고 애원하는 것인가  아닙니다 죄송합니다  죽을 거면 혼자...</td>\n",
       "      <td>[지금, 너, 스스로, 를, 죽여, 달라, 고, 애원, 하는, 것, 인가, 아닙니다...</td>\n",
       "      <td>[지금, 너, 스스로, 를, 죽여, 달, 라고, 애원, 하, 는, 것, 인가, 아닙...</td>\n",
       "    </tr>\n",
       "    <tr>\n",
       "      <th>1</th>\n",
       "      <td>1</td>\n",
       "      <td>0</td>\n",
       "      <td>길동경찰서입니다.\\n9시 40분 마트에 폭발물을 설치할거다.\\n네?\\n똑바로 들어 ...</td>\n",
       "      <td>길동경찰서입니다 시 분 마트에 폭발물을 설치할거다 네 똑바로 들어 한번만 더 얘기한...</td>\n",
       "      <td>[길동, 경찰서, 입니다, 시, 분, 마트, 에, 폭발물, 을, 설치, 할거다, 네...</td>\n",
       "      <td>[길동, 경찰서, 입니다, 시, 분, 마트, 에, 폭발물, 을, 설치, 할, 거, ...</td>\n",
       "    </tr>\n",
       "    <tr>\n",
       "      <th>2</th>\n",
       "      <td>2</td>\n",
       "      <td>3</td>\n",
       "      <td>너 되게 귀여운거 알지? 나보다 작은 남자는 첨봤어.\\n그만해. 니들 놀리는거 재미...</td>\n",
       "      <td>너 되게 귀여운거 알지 나보다 작은 남자는 첨봤어 그만해 니들 놀리는거 재미없어 지...</td>\n",
       "      <td>[너, 되게, 귀여운거, 알, 지, 나, 보다, 작은, 남자, 는, 첨, 봤어, 그...</td>\n",
       "      <td>[너, 되게, 귀여운, 거, 알, 지, 나, 보다, 작, 은, 남자, 는, 첨, 봤...</td>\n",
       "    </tr>\n",
       "    <tr>\n",
       "      <th>3</th>\n",
       "      <td>3</td>\n",
       "      <td>1</td>\n",
       "      <td>어이 거기\\n예??\\n너 말이야 너. 이리 오라고\\n무슨 일.\\n너 옷 좋아보인다?...</td>\n",
       "      <td>어이 거기 예 너 말이야 너 이리 오라고 무슨 일 너 옷 좋아보인다 얘 돈 좀 있나...</td>\n",
       "      <td>[어이, 거기, 예, 너, 말, 이야, 너, 이리, 오라, 고, 무슨, 일, 너, ...</td>\n",
       "      <td>[어, 이, 거기, 예, 너, 말, 이, 야, 너, 이리, 오, 라고, 무슨, 일,...</td>\n",
       "    </tr>\n",
       "    <tr>\n",
       "      <th>4</th>\n",
       "      <td>4</td>\n",
       "      <td>1</td>\n",
       "      <td>저기요 혹시 날이 너무 뜨겁잖아요? 저희 회사에서 이 선크림 파는데 한 번 손등에 ...</td>\n",
       "      <td>저기요 혹시 날이 너무 뜨겁잖아요 저희 회사에서 이 선크림 파는데 한 번 손등에 발...</td>\n",
       "      <td>[저기, 요, 혹시, 날, 이, 너무, 뜨겁잖아요, 저희, 회사, 에서, 이, 선크...</td>\n",
       "      <td>[저기, 요, 혹시, 날, 이, 너무, 뜨겁, 잖아요, 저희, 회사, 에서, 이, ...</td>\n",
       "    </tr>\n",
       "    <tr>\n",
       "      <th>...</th>\n",
       "      <td>...</td>\n",
       "      <td>...</td>\n",
       "      <td>...</td>\n",
       "      <td>...</td>\n",
       "      <td>...</td>\n",
       "      <td>...</td>\n",
       "    </tr>\n",
       "    <tr>\n",
       "      <th>3945</th>\n",
       "      <td>3945</td>\n",
       "      <td>3</td>\n",
       "      <td>준하야 넌 대가리가 왜이렇게 크냐?\\n내 머리가 뭐.\\n밥먹으면 대가리만 크냐 너는...</td>\n",
       "      <td>준하야 넌 대가리가 왜이렇게 크냐 내 머리가 뭐 밥먹으면 대가리만 크냐 너는 아니 ...</td>\n",
       "      <td>[준, 하야, 넌, 대가리, 가, 왜, 이렇게, 크냐, 내, 머리, 가, 뭐, 밥,...</td>\n",
       "      <td>[준, 하, 야, 넌, 대가리, 가, 왜, 이렇게, 크, 냐, 내, 머리, 가, 뭐...</td>\n",
       "    </tr>\n",
       "    <tr>\n",
       "      <th>3946</th>\n",
       "      <td>3946</td>\n",
       "      <td>1</td>\n",
       "      <td>내가 지금 너 아들 김길준 데리고 있어. 살리고 싶으면 계좌에 1억만 보내\\n예.?...</td>\n",
       "      <td>내가 지금 너 아들 김길준 데리고 있어 살리고 싶으면 계좌에 억만 보내 예 선생님 ...</td>\n",
       "      <td>[내, 가, 지금, 너, 아들, 김길준, 데리, 고, 있어, 살리고, 싶으면, 계좌...</td>\n",
       "      <td>[내, 가, 지금, 너, 아들, 김길준, 데리, 고, 있, 어, 살리, 고, 싶, ...</td>\n",
       "    </tr>\n",
       "    <tr>\n",
       "      <th>3947</th>\n",
       "      <td>3947</td>\n",
       "      <td>2</td>\n",
       "      <td>나는 씨 같은 사람 보면 참 신기하더라. 어떻게 저렇게 살지.\\n왜 그래. 들리겠어...</td>\n",
       "      <td>나는 씨 같은 사람 보면 참 신기하더라 어떻게 저렇게 살지 왜 그래 들리겠어 들리라...</td>\n",
       "      <td>[나, 는, 씨, 같은, 사람, 보면, 참, 신기하더라, 어떻게, 저렇게, 살, 지...</td>\n",
       "      <td>[나, 는, 씨, 같, 은, 사람, 보, 면, 참, 신기, 하, 더라, 어떻게, 저...</td>\n",
       "    </tr>\n",
       "    <tr>\n",
       "      <th>3948</th>\n",
       "      <td>3948</td>\n",
       "      <td>1</td>\n",
       "      <td>누구맘대로 여기서 장사하래?\\n이게 무슨일입니까?\\n남의 구역에서 장사하려면 자릿세...</td>\n",
       "      <td>누구맘대로 여기서 장사하래 이게 무슨일입니까 남의 구역에서 장사하려면 자릿세를 내야...</td>\n",
       "      <td>[누구, 맘대로, 여기, 서, 장사, 하래, 이, 게, 무슨, 일, 입, 니까, 남...</td>\n",
       "      <td>[누구, 맘대로, 여기, 서, 장사, 하, 래, 이게, 무슨, 일, 입니까, 남, ...</td>\n",
       "    </tr>\n",
       "    <tr>\n",
       "      <th>3949</th>\n",
       "      <td>3949</td>\n",
       "      <td>2</td>\n",
       "      <td>희정씨\\n네?\\n주말에 시간이 넘쳐나나봐\\n갑자기 왜그러세요?\\n손이 빤짝빤짝 네일...</td>\n",
       "      <td>희정씨 네 주말에 시간이 넘쳐나나봐 갑자기 왜그러세요 손이 빤짝빤짝 네일했니 네 여...</td>\n",
       "      <td>[희, 정씨, 네, 주말, 에, 시간, 이, 넘쳐나나, 봐, 갑자기, 왜, 그러세요...</td>\n",
       "      <td>[희정, 씨, 네, 주말, 에, 시간, 이, 넘쳐나, 나, 봐, 갑자기, 왜, 그러...</td>\n",
       "    </tr>\n",
       "  </tbody>\n",
       "</table>\n",
       "<p>3750 rows × 6 columns</p>\n",
       "</div>"
      ],
      "text/plain": [
       "       idx  class                                       conversation  \\\n",
       "0        0      0  지금 너 스스로를 죽여달라고 애원하는 것인가?\\n 아닙니다. 죄송합니다.\\n 죽을 ...   \n",
       "1        1      0  길동경찰서입니다.\\n9시 40분 마트에 폭발물을 설치할거다.\\n네?\\n똑바로 들어 ...   \n",
       "2        2      3  너 되게 귀여운거 알지? 나보다 작은 남자는 첨봤어.\\n그만해. 니들 놀리는거 재미...   \n",
       "3        3      1  어이 거기\\n예??\\n너 말이야 너. 이리 오라고\\n무슨 일.\\n너 옷 좋아보인다?...   \n",
       "4        4      1  저기요 혹시 날이 너무 뜨겁잖아요? 저희 회사에서 이 선크림 파는데 한 번 손등에 ...   \n",
       "...    ...    ...                                                ...   \n",
       "3945  3945      3  준하야 넌 대가리가 왜이렇게 크냐?\\n내 머리가 뭐.\\n밥먹으면 대가리만 크냐 너는...   \n",
       "3946  3946      1  내가 지금 너 아들 김길준 데리고 있어. 살리고 싶으면 계좌에 1억만 보내\\n예.?...   \n",
       "3947  3947      2  나는 씨 같은 사람 보면 참 신기하더라. 어떻게 저렇게 살지.\\n왜 그래. 들리겠어...   \n",
       "3948  3948      1  누구맘대로 여기서 장사하래?\\n이게 무슨일입니까?\\n남의 구역에서 장사하려면 자릿세...   \n",
       "3949  3949      2  희정씨\\n네?\\n주말에 시간이 넘쳐나나봐\\n갑자기 왜그러세요?\\n손이 빤짝빤짝 네일...   \n",
       "\n",
       "                                   cleaned_conversation  \\\n",
       "0     지금 너 스스로를 죽여달라고 애원하는 것인가  아닙니다 죄송합니다  죽을 거면 혼자...   \n",
       "1     길동경찰서입니다 시 분 마트에 폭발물을 설치할거다 네 똑바로 들어 한번만 더 얘기한...   \n",
       "2     너 되게 귀여운거 알지 나보다 작은 남자는 첨봤어 그만해 니들 놀리는거 재미없어 지...   \n",
       "3     어이 거기 예 너 말이야 너 이리 오라고 무슨 일 너 옷 좋아보인다 얘 돈 좀 있나...   \n",
       "4     저기요 혹시 날이 너무 뜨겁잖아요 저희 회사에서 이 선크림 파는데 한 번 손등에 발...   \n",
       "...                                                 ...   \n",
       "3945  준하야 넌 대가리가 왜이렇게 크냐 내 머리가 뭐 밥먹으면 대가리만 크냐 너는 아니 ...   \n",
       "3946  내가 지금 너 아들 김길준 데리고 있어 살리고 싶으면 계좌에 억만 보내 예 선생님 ...   \n",
       "3947  나는 씨 같은 사람 보면 참 신기하더라 어떻게 저렇게 살지 왜 그래 들리겠어 들리라...   \n",
       "3948  누구맘대로 여기서 장사하래 이게 무슨일입니까 남의 구역에서 장사하려면 자릿세를 내야...   \n",
       "3949  희정씨 네 주말에 시간이 넘쳐나나봐 갑자기 왜그러세요 손이 빤짝빤짝 네일했니 네 여...   \n",
       "\n",
       "                                                 okt_tk  \\\n",
       "0     [지금, 너, 스스로, 를, 죽여, 달라, 고, 애원, 하는, 것, 인가, 아닙니다...   \n",
       "1     [길동, 경찰서, 입니다, 시, 분, 마트, 에, 폭발물, 을, 설치, 할거다, 네...   \n",
       "2     [너, 되게, 귀여운거, 알, 지, 나, 보다, 작은, 남자, 는, 첨, 봤어, 그...   \n",
       "3     [어이, 거기, 예, 너, 말, 이야, 너, 이리, 오라, 고, 무슨, 일, 너, ...   \n",
       "4     [저기, 요, 혹시, 날, 이, 너무, 뜨겁잖아요, 저희, 회사, 에서, 이, 선크...   \n",
       "...                                                 ...   \n",
       "3945  [준, 하야, 넌, 대가리, 가, 왜, 이렇게, 크냐, 내, 머리, 가, 뭐, 밥,...   \n",
       "3946  [내, 가, 지금, 너, 아들, 김길준, 데리, 고, 있어, 살리고, 싶으면, 계좌...   \n",
       "3947  [나, 는, 씨, 같은, 사람, 보면, 참, 신기하더라, 어떻게, 저렇게, 살, 지...   \n",
       "3948  [누구, 맘대로, 여기, 서, 장사, 하래, 이, 게, 무슨, 일, 입, 니까, 남...   \n",
       "3949  [희, 정씨, 네, 주말, 에, 시간, 이, 넘쳐나나, 봐, 갑자기, 왜, 그러세요...   \n",
       "\n",
       "                                               mecab_tk  \n",
       "0     [지금, 너, 스스로, 를, 죽여, 달, 라고, 애원, 하, 는, 것, 인가, 아닙...  \n",
       "1     [길동, 경찰서, 입니다, 시, 분, 마트, 에, 폭발물, 을, 설치, 할, 거, ...  \n",
       "2     [너, 되게, 귀여운, 거, 알, 지, 나, 보다, 작, 은, 남자, 는, 첨, 봤...  \n",
       "3     [어, 이, 거기, 예, 너, 말, 이, 야, 너, 이리, 오, 라고, 무슨, 일,...  \n",
       "4     [저기, 요, 혹시, 날, 이, 너무, 뜨겁, 잖아요, 저희, 회사, 에서, 이, ...  \n",
       "...                                                 ...  \n",
       "3945  [준, 하, 야, 넌, 대가리, 가, 왜, 이렇게, 크, 냐, 내, 머리, 가, 뭐...  \n",
       "3946  [내, 가, 지금, 너, 아들, 김길준, 데리, 고, 있, 어, 살리, 고, 싶, ...  \n",
       "3947  [나, 는, 씨, 같, 은, 사람, 보, 면, 참, 신기, 하, 더라, 어떻게, 저...  \n",
       "3948  [누구, 맘대로, 여기, 서, 장사, 하, 래, 이게, 무슨, 일, 입니까, 남, ...  \n",
       "3949  [희정, 씨, 네, 주말, 에, 시간, 이, 넘쳐나, 나, 봐, 갑자기, 왜, 그러...  \n",
       "\n",
       "[3750 rows x 6 columns]"
      ]
     },
     "execution_count": 17,
     "metadata": {},
     "output_type": "execute_result"
    }
   ],
   "source": [
    "filtered_df"
   ]
  },
  {
   "cell_type": "markdown",
   "id": "d9c39072",
   "metadata": {},
   "source": [
    "# Sentencepiece"
   ]
  },
  {
   "cell_type": "code",
   "execution_count": 31,
   "id": "f81eaa8b",
   "metadata": {},
   "outputs": [],
   "source": [
    "def generate_tokenizer(corpus,\n",
    "                        vocab_size,\n",
    "                        lang=\"ko\",\n",
    "                        pad_id=0,\n",
    "                        bos_id=1,\n",
    "                        eos_id=2,\n",
    "                        unk_id=3):\n",
    "\n",
    "    with open(f\"{lang}_corpus.txt\", \"w\") as f:\n",
    "        for sentence in corpus:\n",
    "            f.write(sentence + \"\\n\")\n",
    "    \n",
    "    model_prefix = f\"{lang}_tokenizer\"\n",
    "    \n",
    "    # Train SentencePiece tokenizer\n",
    "    spm.SentencePieceTrainer.train(\n",
    "        f\"--input={lang}_corpus.txt --model_prefix={model_prefix} --vocab_size={vocab_size}\" + \n",
    "        f\" --pad_id={pad_id} --pad_piece=[PAD]\" +\n",
    "        f\" --unk_id={unk_id} --unk_piece=[UNK]\" +\n",
    "        f\" --bos_id={bos_id} --bos_piece=[BOS]\" +\n",
    "        f\" --eos_id={eos_id} --eos_piece=[EOS]\" +\n",
    "        \" --model_type=unigram --max_sentence_length=999999\")\n",
    "\n",
    "    # Load tokenizer\n",
    "    tokenizer = spm.SentencePieceProcessor()\n",
    "    tokenizer.load(f\"{model_prefix}.model\")\n",
    "    \n",
    "    return tokenizer"
   ]
  },
  {
   "cell_type": "code",
   "execution_count": 32,
   "id": "6262c0a6",
   "metadata": {},
   "outputs": [],
   "source": [
    "sentence_train = filtered_df['cleaned_conversation']\n",
    "y_train = filtered_df['class']"
   ]
  },
  {
   "cell_type": "code",
   "execution_count": 33,
   "id": "8d2dcaee",
   "metadata": {},
   "outputs": [
    {
     "name": "stderr",
     "output_type": "stream",
     "text": [
      "sentencepiece_trainer.cc(177) LOG(INFO) Running command: --input=ko_corpus.txt --model_prefix=ko_tokenizer --vocab_size=20000 --pad_id=0 --pad_piece=[PAD] --unk_id=3 --unk_piece=[UNK] --bos_id=1 --bos_piece=[BOS] --eos_id=2 --eos_piece=[EOS] --model_type=unigram --max_sentence_length=999999\n",
      "sentencepiece_trainer.cc(77) LOG(INFO) Starts training with : \n",
      "trainer_spec {\n",
      "  input: ko_corpus.txt\n",
      "  input_format: \n",
      "  model_prefix: ko_tokenizer\n",
      "  model_type: UNIGRAM\n",
      "  vocab_size: 20000\n",
      "  self_test_sample_size: 0\n",
      "  character_coverage: 0.9995\n",
      "  input_sentence_size: 0\n",
      "  shuffle_input_sentence: 1\n",
      "  seed_sentencepiece_size: 1000000\n",
      "  shrinking_factor: 0.75\n",
      "  max_sentence_length: 999999\n",
      "  num_threads: 16\n",
      "  num_sub_iterations: 2\n",
      "  max_sentencepiece_length: 16\n",
      "  split_by_unicode_script: 1\n",
      "  split_by_number: 1\n",
      "  split_by_whitespace: 1\n",
      "  split_digits: 0\n",
      "  treat_whitespace_as_suffix: 0\n",
      "  allow_whitespace_only_pieces: 0\n",
      "  required_chars: \n",
      "  byte_fallback: 0\n",
      "  vocabulary_output_piece_score: 1\n",
      "  train_extremely_large_corpus: 0\n",
      "  hard_vocab_limit: 1\n",
      "  use_all_vocab: 0\n",
      "  unk_id: 3\n",
      "  bos_id: 1\n",
      "  eos_id: 2\n",
      "  pad_id: 0\n",
      "  unk_piece: [UNK]\n",
      "  bos_piece: [BOS]\n",
      "  eos_piece: [EOS]\n",
      "  pad_piece: [PAD]\n",
      "  unk_surface:  ⁇ \n",
      "}\n",
      "normalizer_spec {\n",
      "  name: nmt_nfkc\n",
      "  add_dummy_prefix: 1\n",
      "  remove_extra_whitespaces: 1\n",
      "  escape_whitespaces: 1\n",
      "  normalization_rule_tsv: \n",
      "}\n",
      "denormalizer_spec {}\n",
      "trainer_interface.cc(329) LOG(INFO) SentenceIterator is not specified. Using MultiFileSentenceIterator.\n",
      "trainer_interface.cc(178) LOG(INFO) Loading corpus: ko_corpus.txt\n",
      "trainer_interface.cc(385) LOG(INFO) Loaded all 3750 sentences\n",
      "trainer_interface.cc(400) LOG(INFO) Adding meta_piece: [PAD]\n",
      "trainer_interface.cc(400) LOG(INFO) Adding meta_piece: [BOS]\n",
      "trainer_interface.cc(400) LOG(INFO) Adding meta_piece: [EOS]\n",
      "trainer_interface.cc(400) LOG(INFO) Adding meta_piece: [UNK]\n",
      "trainer_interface.cc(405) LOG(INFO) Normalizing sentences...\n",
      "trainer_interface.cc(466) LOG(INFO) all chars count=767023\n",
      "trainer_interface.cc(477) LOG(INFO) Done: 99.9501% characters are covered.\n",
      "trainer_interface.cc(487) LOG(INFO) Alphabet size=1168\n",
      "trainer_interface.cc(488) LOG(INFO) Final character coverage=0.999501\n",
      "trainer_interface.cc(520) LOG(INFO) Done! preprocessed 3750 sentences.\n",
      "unigram_model_trainer.cc(139) LOG(INFO) Making suffix array...\n",
      "unigram_model_trainer.cc(143) LOG(INFO) Extracting frequent sub strings...\n",
      "unigram_model_trainer.cc(194) LOG(INFO) Initialized 41331 seed sentencepieces\n",
      "trainer_interface.cc(526) LOG(INFO) Tokenizing input sentences with whitespace: 3750\n",
      "trainer_interface.cc(537) LOG(INFO) Done! 48885\n",
      "unigram_model_trainer.cc(489) LOG(INFO) Using 48885 sentences for EM training\n",
      "unigram_model_trainer.cc(505) LOG(INFO) EM sub_iter=0 size=23263 obj=11.6659 num_tokens=96321 num_tokens/piece=4.14052\n",
      "unigram_model_trainer.cc(505) LOG(INFO) EM sub_iter=1 size=20913 obj=10.9269 num_tokens=96685 num_tokens/piece=4.6232\n",
      "trainer_interface.cc(615) LOG(INFO) Saving model: ko_tokenizer.model\n",
      "trainer_interface.cc(626) LOG(INFO) Saving vocabs: ko_tokenizer.vocab\n"
     ]
    }
   ],
   "source": [
    "VOCAB_SIZE = 20000\n",
    "tokenizer = generate_tokenizer(sentence_train, VOCAB_SIZE, 'ko')"
   ]
  },
  {
   "cell_type": "code",
   "execution_count": 34,
   "id": "31f8a48a",
   "metadata": {},
   "outputs": [],
   "source": [
    "# 패딩처리\n",
    "padding_train = tf.keras.preprocessing.sequence.pad_sequences(\n",
    "    [tokenizer.encode_as_ids(sentence) for sentence in sentence_train],\n",
    "    padding='post'\n",
    ")"
   ]
  },
  {
   "cell_type": "code",
   "execution_count": 35,
   "id": "b16f50e0",
   "metadata": {},
   "outputs": [
    {
     "name": "stdout",
     "output_type": "stream",
     "text": [
      "(3000, 191) (3000,)\n",
      "(750, 191) (750,)\n"
     ]
    }
   ],
   "source": [
    "#train test split 이용하여 데이터 나누기 \n",
    "X_train, X_val, y_train, y_val = train_test_split(padding_train,y_train, test_size = 0.20, random_state = 42)\n",
    "print(X_train.shape,y_train.shape)\n",
    "print(X_val.shape,y_val.shape)"
   ]
  },
  {
   "cell_type": "code",
   "execution_count": 39,
   "id": "dcc24684",
   "metadata": {},
   "outputs": [
    {
     "name": "stdout",
     "output_type": "stream",
     "text": [
      "WARNING:tensorflow:Layer lstm_1 will not use cuDNN kernels since it doesn't meet the criteria. It will use a generic GPU kernel as fallback when running on GPU.\n",
      "Model: \"sequential_2\"\n",
      "_________________________________________________________________\n",
      "Layer (type)                 Output Shape              Param #   \n",
      "=================================================================\n",
      "embedding_1 (Embedding)      (None, 191, 256)          12800000  \n",
      "_________________________________________________________________\n",
      "spatial_dropout1d_1 (Spatial (None, 191, 256)          0         \n",
      "_________________________________________________________________\n",
      "lstm_1 (LSTM)                (None, 100)               142800    \n",
      "_________________________________________________________________\n",
      "dense_1 (Dense)              (None, 4)                 404       \n",
      "=================================================================\n",
      "Total params: 12,943,204\n",
      "Trainable params: 12,943,204\n",
      "Non-trainable params: 0\n",
      "_________________________________________________________________\n"
     ]
    }
   ],
   "source": [
    "#모델 만들기 \n",
    "MAX_NB_WORDS = 50000\n",
    "MAX_SEQUENCE_LENGTH = 500\n",
    "EMBEDDING_DIM = 256\n",
    "\n",
    "model = Sequential()\n",
    "model.add(Embedding(MAX_NB_WORDS, EMBEDDING_DIM, input_length=X_train.shape[1])) #X_train.shape[1]\n",
    "model.add(SpatialDropout1D(0.3))\n",
    "model.add(LSTM(100, dropout=0.2, recurrent_dropout=0.2))\n",
    "model.add(Dense(4, activation='softmax'))\n",
    "\n",
    "\n",
    "model.compile(optimizer='adam', loss='sparse_categorical_crossentropy', metrics=['accuracy'])\n",
    "\n",
    "model.summary()"
   ]
  },
  {
   "cell_type": "code",
   "execution_count": 40,
   "id": "fc0620cf",
   "metadata": {},
   "outputs": [
    {
     "name": "stdout",
     "output_type": "stream",
     "text": [
      "Epoch 1/100\n",
      "43/43 [==============================] - 47s 720ms/step - loss: 1.3916 - accuracy: 0.2433 - val_loss: 1.3852 - val_accuracy: 0.2500\n",
      "Epoch 2/100\n",
      "43/43 [==============================] - 30s 704ms/step - loss: 1.3877 - accuracy: 0.2552 - val_loss: 1.3851 - val_accuracy: 0.2900\n",
      "Epoch 3/100\n",
      "43/43 [==============================] - 30s 700ms/step - loss: 1.3872 - accuracy: 0.2541 - val_loss: 1.3825 - val_accuracy: 0.2900\n",
      "Epoch 4/100\n",
      "43/43 [==============================] - 30s 698ms/step - loss: 1.3876 - accuracy: 0.2478 - val_loss: 1.3850 - val_accuracy: 0.2867\n",
      "Epoch 5/100\n",
      "43/43 [==============================] - 30s 700ms/step - loss: 1.3859 - accuracy: 0.2485 - val_loss: 1.3830 - val_accuracy: 0.2900\n",
      "Epoch 6/100\n",
      "43/43 [==============================] - 30s 704ms/step - loss: 1.3866 - accuracy: 0.2585 - val_loss: 1.3837 - val_accuracy: 0.2900\n"
     ]
    }
   ],
   "source": [
    "#모델 학습\n",
    "epochs = 100\n",
    "batch_size = 64\n",
    "\n",
    "history = model.fit(X_train, y_train, epochs=epochs, batch_size=batch_size,validation_split=0.1, callbacks= [EarlyStopping(monitor='val_loss', patience=3, min_delta=0.0001)])"
   ]
  },
  {
   "cell_type": "code",
   "execution_count": 41,
   "id": "16b8de33",
   "metadata": {},
   "outputs": [
    {
     "data": {
      "image/png": "[encoded data removed]",
      "text/plain": [
       "<Figure size 432x288 with 1 Axes>"
      ]
     },
     "metadata": {
      "needs_background": "light"
     },
     "output_type": "display_data"
    },
    {
     "data": {
      "image/png": "[encoded data removed]",
      "text/plain": [
       "<Figure size 432x288 with 1 Axes>"
      ]
     },
     "metadata": {
      "needs_background": "light"
     },
     "output_type": "display_data"
    }
   ],
   "source": [
    "plt.title('Loss')\n",
    "plt.plot(history.history['loss'], label='train')\n",
    "plt.plot(history.history['val_loss'], label='test')\n",
    "plt.legend()\n",
    "plt.show();\n",
    "\n",
    "\n",
    "plt.title('Accuracy')\n",
    "plt.plot(history.history['accuracy'], label='train')\n",
    "plt.plot(history.history['val_accuracy'], label='test')\n",
    "plt.legend()\n",
    "plt.show()"
   ]
  },
  {
   "cell_type": "code",
   "execution_count": null,
   "id": "1fef8af6",
   "metadata": {},
   "outputs": [],
   "source": []
  },
  {
   "cell_type": "code",
   "execution_count": null,
   "id": "e701eb96",
   "metadata": {},
   "outputs": [],
   "source": []
  },
  {
   "cell_type": "code",
   "execution_count": null,
   "id": "c0ba7e41",
   "metadata": {},
   "outputs": [],
   "source": [
    "# OKT"
   ]
  },
  {
   "cell_type": "code",
   "execution_count": 19,
   "id": "14495d17",
   "metadata": {},
   "outputs": [],
   "source": [
    "tokenizer = tf.keras.preprocessing.text.Tokenizer(filters='', oov_token=\"<OOV>\")"
   ]
  },
  {
   "cell_type": "code",
   "execution_count": 24,
   "id": "9932a1bd",
   "metadata": {},
   "outputs": [],
   "source": [
    "tokenizer.fit_on_texts(filtered_df['okt_tk'])\n",
    "sequences = tokenizer.texts_to_sequences(filtered_df['okt_tk'])\n",
    "padded_sequences = tf.keras.preprocessing.sequence.pad_sequences(sequences, padding='post')"
   ]
  },
  {
   "cell_type": "code",
   "execution_count": 43,
   "id": "a87a85d0",
   "metadata": {
    "scrolled": true
   },
   "outputs": [
    {
     "data": {
      "text/plain": [
       "(3750, 199)"
      ]
     },
     "execution_count": 43,
     "metadata": {},
     "output_type": "execute_result"
    }
   ],
   "source": [
    "padded_sequences.shape"
   ]
  },
  {
   "cell_type": "code",
   "execution_count": 46,
   "id": "bec408d5",
   "metadata": {},
   "outputs": [],
   "source": [
    "y_train = filtered_df['class']"
   ]
  },
  {
   "cell_type": "code",
   "execution_count": 47,
   "id": "a7488624",
   "metadata": {},
   "outputs": [
    {
     "name": "stdout",
     "output_type": "stream",
     "text": [
      "(3000, 199) (3000,)\n",
      "(750, 199) (750,)\n"
     ]
    }
   ],
   "source": [
    "#train test split 이용하여 데이터 나누기 \n",
    "X_train_o, X_val_o, y_train_o, y_val_o = train_test_split(padded_sequences, y_train, test_size = 0.20, random_state = 42)\n",
    "print(X_train_o.shape,y_train_o.shape)\n",
    "print(X_val_o.shape,y_val_o.shape)"
   ]
  },
  {
   "cell_type": "code",
   "execution_count": 48,
   "id": "af8991a1",
   "metadata": {},
   "outputs": [
    {
     "name": "stdout",
     "output_type": "stream",
     "text": [
      "WARNING:tensorflow:Layer lstm_2 will not use cuDNN kernels since it doesn't meet the criteria. It will use a generic GPU kernel as fallback when running on GPU.\n",
      "Model: \"sequential_3\"\n",
      "_________________________________________________________________\n",
      "Layer (type)                 Output Shape              Param #   \n",
      "=================================================================\n",
      "embedding_2 (Embedding)      (None, 191, 256)          12800000  \n",
      "_________________________________________________________________\n",
      "spatial_dropout1d_2 (Spatial (None, 191, 256)          0         \n",
      "_________________________________________________________________\n",
      "lstm_2 (LSTM)                (None, 100)               142800    \n",
      "_________________________________________________________________\n",
      "dense_2 (Dense)              (None, 4)                 404       \n",
      "=================================================================\n",
      "Total params: 12,943,204\n",
      "Trainable params: 12,943,204\n",
      "Non-trainable params: 0\n",
      "_________________________________________________________________\n"
     ]
    }
   ],
   "source": [
    "#모델 만들기 \n",
    "MAX_NB_WORDS = 50000\n",
    "MAX_SEQUENCE_LENGTH = 500\n",
    "EMBEDDING_DIM = 256\n",
    "\n",
    "model_o = Sequential()\n",
    "model_o.add(Embedding(MAX_NB_WORDS, EMBEDDING_DIM, input_length=X_train_o.shape[1])) #X_train.shape[1]\n",
    "model_o.add(SpatialDropout1D(0.3))\n",
    "model_o.add(LSTM(100, dropout=0.2, recurrent_dropout=0.2))\n",
    "model_o.add(Dense(4, activation='softmax'))\n",
    "\n",
    "\n",
    "model_o.compile(optimizer='adam', loss='sparse_categorical_crossentropy', metrics=['accuracy'])\n",
    "\n",
    "model_o.summary()"
   ]
  },
  {
   "cell_type": "code",
   "execution_count": 49,
   "id": "5860ea77",
   "metadata": {},
   "outputs": [
    {
     "name": "stdout",
     "output_type": "stream",
     "text": [
      "Epoch 1/100\n",
      "WARNING:tensorflow:Model was constructed with shape (None, 191) for input KerasTensor(type_spec=TensorSpec(shape=(None, 191), dtype=tf.float32, name='embedding_2_input'), name='embedding_2_input', description=\"created by layer 'embedding_2_input'\"), but it was called on an input with incompatible shape (None, 199).\n",
      "WARNING:tensorflow:Model was constructed with shape (None, 191) for input KerasTensor(type_spec=TensorSpec(shape=(None, 191), dtype=tf.float32, name='embedding_2_input'), name='embedding_2_input', description=\"created by layer 'embedding_2_input'\"), but it was called on an input with incompatible shape (None, 199).\n",
      "43/43 [==============================] - ETA: 0s - loss: 1.3887 - accuracy: 0.2496WARNING:tensorflow:Model was constructed with shape (None, 191) for input KerasTensor(type_spec=TensorSpec(shape=(None, 191), dtype=tf.float32, name='embedding_2_input'), name='embedding_2_input', description=\"created by layer 'embedding_2_input'\"), but it was called on an input with incompatible shape (None, 199).\n",
      "43/43 [==============================] - 35s 739ms/step - loss: 1.3887 - accuracy: 0.2496 - val_loss: 1.3867 - val_accuracy: 0.2500\n",
      "Epoch 2/100\n",
      "43/43 [==============================] - 31s 732ms/step - loss: 1.3865 - accuracy: 0.2619 - val_loss: 1.3845 - val_accuracy: 0.2900\n",
      "Epoch 3/100\n",
      "43/43 [==============================] - 31s 731ms/step - loss: 1.3879 - accuracy: 0.2452 - val_loss: 1.3839 - val_accuracy: 0.2900\n",
      "Epoch 4/100\n",
      "43/43 [==============================] - 31s 726ms/step - loss: 1.3863 - accuracy: 0.2589 - val_loss: 1.3857 - val_accuracy: 0.2300\n",
      "Epoch 5/100\n",
      "43/43 [==============================] - 31s 729ms/step - loss: 1.3857 - accuracy: 0.2596 - val_loss: 1.3846 - val_accuracy: 0.2900\n",
      "Epoch 6/100\n",
      "43/43 [==============================] - 32s 738ms/step - loss: 1.3878 - accuracy: 0.2489 - val_loss: 1.3856 - val_accuracy: 0.2300\n"
     ]
    }
   ],
   "source": [
    "#모델 학습\n",
    "epochs = 100\n",
    "batch_size = 64\n",
    "\n",
    "history_o = model_o.fit(X_train_o, y_train_o, epochs=epochs, batch_size=batch_size,validation_split=0.1, callbacks= [EarlyStopping(monitor='val_loss', patience=3, min_delta=0.0001)])"
   ]
  },
  {
   "cell_type": "code",
   "execution_count": 56,
   "id": "7a684d4d",
   "metadata": {},
   "outputs": [
    {
     "data": {
      "image/png": "[encoded data removed]",
      "text/plain": [
       "<Figure size 432x288 with 1 Axes>"
      ]
     },
     "metadata": {
      "needs_background": "light"
     },
     "output_type": "display_data"
    },
    {
     "data": {
      "image/png": "[encoded data removed]",
      "text/plain": [
       "<Figure size 432x288 with 1 Axes>"
      ]
     },
     "metadata": {
      "needs_background": "light"
     },
     "output_type": "display_data"
    }
   ],
   "source": [
    "plt.title('Loss')\n",
    "plt.plot(history_o.history['loss'], label='train')\n",
    "plt.plot(history_o.history['val_loss'], label='test')\n",
    "plt.legend()\n",
    "plt.show();\n",
    "\n",
    "\n",
    "plt.title('Accuracy')\n",
    "plt.plot(history_o.history['accuracy'], label='train')\n",
    "plt.plot(history_o.history['val_accuracy'], label='test')\n",
    "plt.legend()\n",
    "plt.show()"
   ]
  },
  {
   "cell_type": "code",
   "execution_count": null,
   "id": "40791f2d",
   "metadata": {},
   "outputs": [],
   "source": []
  },
  {
   "cell_type": "code",
   "execution_count": null,
   "id": "640c76e0",
   "metadata": {},
   "outputs": [],
   "source": []
  },
  {
   "cell_type": "code",
   "execution_count": null,
   "id": "3324687a",
   "metadata": {},
   "outputs": [],
   "source": []
  },
  {
   "cell_type": "code",
   "execution_count": null,
   "id": "018125cf",
   "metadata": {},
   "outputs": [],
   "source": []
  },
  {
   "cell_type": "code",
   "execution_count": null,
   "id": "fece8d57",
   "metadata": {},
   "outputs": [],
   "source": [
    "# mecab"
   ]
  },
  {
   "cell_type": "code",
   "execution_count": 26,
   "id": "49744b54",
   "metadata": {},
   "outputs": [],
   "source": [
    "tokenizer.fit_on_texts(filtered_df['mecab_tk'])\n",
    "sequences1 = tokenizer.texts_to_sequences(filtered_df['mecab_tk'])\n",
    "padded_sequences1 = tf.keras.preprocessing.sequence.pad_sequences(sequences, padding='post')"
   ]
  },
  {
   "cell_type": "code",
   "execution_count": 27,
   "id": "9cca4e03",
   "metadata": {},
   "outputs": [
    {
     "data": {
      "text/plain": [
       "array([[   33,     4,  2068, ...,     0,     0,     0],\n",
       "       [  373,  1320,   236, ...,     0,     0,     0],\n",
       "       [    4,   802, 11354, ...,     0,     0,     0],\n",
       "       ...,\n",
       "       [    9,    16,    68, ...,     0,     0,     0],\n",
       "       [  174,  1470,    65, ...,     0,     0,     0],\n",
       "       [ 2273,  2993,     8, ...,     0,     0,     0]], dtype=int32)"
      ]
     },
     "execution_count": 27,
     "metadata": {},
     "output_type": "execute_result"
    }
   ],
   "source": [
    "padded_sequences1"
   ]
  },
  {
   "cell_type": "code",
   "execution_count": 51,
   "id": "d2a81e14",
   "metadata": {},
   "outputs": [],
   "source": [
    "y_train = filtered_df['class']"
   ]
  },
  {
   "cell_type": "code",
   "execution_count": 52,
   "id": "1eb2e879",
   "metadata": {},
   "outputs": [
    {
     "name": "stdout",
     "output_type": "stream",
     "text": [
      "(3000, 199) (3000,)\n",
      "(750, 199) (750,)\n"
     ]
    }
   ],
   "source": [
    "#train test split 이용하여 데이터 나누기 \n",
    "X_train_m, X_val_m, y_train_m, y_val_m = train_test_split(padded_sequences1, y_train, test_size = 0.20, random_state = 42)\n",
    "print(X_train_m.shape,y_train_m.shape)\n",
    "print(X_val_m.shape,y_val_m.shape)"
   ]
  },
  {
   "cell_type": "code",
   "execution_count": 53,
   "id": "c22970ed",
   "metadata": {},
   "outputs": [
    {
     "name": "stdout",
     "output_type": "stream",
     "text": [
      "WARNING:tensorflow:Layer lstm_3 will not use cuDNN kernels since it doesn't meet the criteria. It will use a generic GPU kernel as fallback when running on GPU.\n",
      "Model: \"sequential_4\"\n",
      "_________________________________________________________________\n",
      "Layer (type)                 Output Shape              Param #   \n",
      "=================================================================\n",
      "embedding_3 (Embedding)      (None, 199, 256)          12800000  \n",
      "_________________________________________________________________\n",
      "spatial_dropout1d_3 (Spatial (None, 199, 256)          0         \n",
      "_________________________________________________________________\n",
      "lstm_3 (LSTM)                (None, 100)               142800    \n",
      "_________________________________________________________________\n",
      "dense_3 (Dense)              (None, 4)                 404       \n",
      "=================================================================\n",
      "Total params: 12,943,204\n",
      "Trainable params: 12,943,204\n",
      "Non-trainable params: 0\n",
      "_________________________________________________________________\n"
     ]
    }
   ],
   "source": [
    "#모델 만들기 \n",
    "MAX_NB_WORDS = 50000\n",
    "MAX_SEQUENCE_LENGTH = 500\n",
    "EMBEDDING_DIM = 256\n",
    "\n",
    "model_m = Sequential()\n",
    "model_m.add(Embedding(MAX_NB_WORDS, EMBEDDING_DIM, input_length=X_train_m.shape[1])) #X_train.shape[1]\n",
    "model_m.add(SpatialDropout1D(0.3))\n",
    "model_m.add(LSTM(100, dropout=0.2, recurrent_dropout=0.2))\n",
    "model_m.add(Dense(4, activation='softmax'))\n",
    "\n",
    "\n",
    "model_m.compile(optimizer='adam', loss='sparse_categorical_crossentropy', metrics=['accuracy'])\n",
    "\n",
    "model_m.summary()"
   ]
  },
  {
   "cell_type": "code",
   "execution_count": 54,
   "id": "80536cf8",
   "metadata": {},
   "outputs": [
    {
     "name": "stdout",
     "output_type": "stream",
     "text": [
      "Epoch 1/100\n",
      "43/43 [==============================] - 34s 737ms/step - loss: 1.3880 - accuracy: 0.2526 - val_loss: 1.3868 - val_accuracy: 0.2900\n",
      "Epoch 2/100\n",
      "43/43 [==============================] - 31s 723ms/step - loss: 1.3866 - accuracy: 0.2593 - val_loss: 1.3855 - val_accuracy: 0.2500\n",
      "Epoch 3/100\n",
      "43/43 [==============================] - 31s 721ms/step - loss: 1.3864 - accuracy: 0.2548 - val_loss: 1.3832 - val_accuracy: 0.2900\n",
      "Epoch 4/100\n",
      "43/43 [==============================] - 31s 716ms/step - loss: 1.3862 - accuracy: 0.2504 - val_loss: 1.3850 - val_accuracy: 0.2900\n",
      "Epoch 5/100\n",
      "43/43 [==============================] - 31s 722ms/step - loss: 1.3865 - accuracy: 0.2515 - val_loss: 1.3843 - val_accuracy: 0.2900\n",
      "Epoch 6/100\n",
      "43/43 [==============================] - 31s 723ms/step - loss: 1.3851 - accuracy: 0.2648 - val_loss: 1.3835 - val_accuracy: 0.2900\n"
     ]
    }
   ],
   "source": [
    "#모델 학습\n",
    "epochs = 100\n",
    "batch_size = 64\n",
    "\n",
    "history_m = model_m.fit(X_train_m, y_train_m, epochs=epochs, batch_size=batch_size,validation_split=0.1, callbacks= [EarlyStopping(monitor='val_loss', patience=3, min_delta=0.0001)])"
   ]
  },
  {
   "cell_type": "code",
   "execution_count": 55,
   "id": "bc05c3c4",
   "metadata": {},
   "outputs": [
    {
     "data": {
      "image/png": "[encoded data removed]",
      "text/plain": [
       "<Figure size 432x288 with 1 Axes>"
      ]
     },
     "metadata": {
      "needs_background": "light"
     },
     "output_type": "display_data"
    },
    {
     "data": {
      "image/png": "[encoded data removed]",
      "text/plain": [
       "<Figure size 432x288 with 1 Axes>"
      ]
     },
     "metadata": {
      "needs_background": "light"
     },
     "output_type": "display_data"
    }
   ],
   "source": [
    "plt.title('Loss')\n",
    "plt.plot(history_m.history['loss'], label='train')\n",
    "plt.plot(history_m.history['val_loss'], label='test')\n",
    "plt.legend()\n",
    "plt.show();\n",
    "\n",
    "\n",
    "plt.title('Accuracy')\n",
    "plt.plot(history_m.history['accuracy'], label='train')\n",
    "plt.plot(history_m.history['val_accuracy'], label='test')\n",
    "plt.legend()\n",
    "plt.show()"
   ]
  },
  {
   "cell_type": "code",
   "execution_count": null,
   "id": "2d68c756",
   "metadata": {},
   "outputs": [],
   "source": []
  },
  {
   "cell_type": "code",
   "execution_count": null,
   "id": "1bd66ea3",
   "metadata": {},
   "outputs": [],
   "source": []
  },
  {
   "cell_type": "code",
   "execution_count": null,
   "id": "56f49081",
   "metadata": {},
   "outputs": [],
   "source": []
  },
  {
   "cell_type": "code",
   "execution_count": 11,
   "id": "39513179",
   "metadata": {},
   "outputs": [
    {
     "data": {
      "text/plain": [
       "'길동경찰서입니다 시 분 마트에 폭발물을 설치할거다 네 똑바로 들어 한번만 더 얘기한다 장난전화 걸지 마시죠  시 분 마트에 폭발물이 터지면 다 죽는거야  장난전화는 업무방해죄에 해당됩니다 판단은 너에게 달려있다 길동경찰서에도 폭발물 터지면 꽤나 재미있겠지 선생님 진정하세요 난 이야기했어 경고했다는 말이야'"
      ]
     },
     "execution_count": 11,
     "metadata": {},
     "output_type": "execute_result"
    }
   ],
   "source": [
    "X_train[1]"
   ]
  },
  {
   "cell_type": "code",
   "execution_count": 12,
   "id": "4dc3f64d",
   "metadata": {},
   "outputs": [
    {
     "name": "stdout",
     "output_type": "stream",
     "text": [
      "원본데이터크기: 3846\n",
      "전처리후데이터크기: 3750\n"
     ]
    }
   ],
   "source": [
    "#500자 이상 제거 \n",
    "filtered_train = X_train[X_train.apply(len) <= 500]\n",
    "filtered_y_train = df['class'][X_train.apply(len) <= 500]\n",
    "print(\"원본데이터크기:\", len(X_train))\n",
    "print(\"전처리후데이터크기:\", len(filtered_train))"
   ]
  },
  {
   "cell_type": "code",
   "execution_count": 13,
   "id": "59cae757",
   "metadata": {},
   "outputs": [],
   "source": [
    "def generate_tokenizer(corpus,\n",
    "                        vocab_size,\n",
    "                        lang=\"ko\",\n",
    "                        pad_id=0,\n",
    "                        bos_id=1,\n",
    "                        eos_id=2,\n",
    "                        unk_id=3):\n",
    "\n",
    "    with open(f\"{lang}_corpus.txt\", \"w\") as f:\n",
    "        for sentence in corpus:\n",
    "            f.write(sentence + \"\\n\")\n",
    "    \n",
    "    model_prefix = f\"{lang}_tokenizer\"\n",
    "    \n",
    "    # Train SentencePiece tokenizer\n",
    "    spm.SentencePieceTrainer.train(\n",
    "        f\"--input={lang}_corpus.txt --model_prefix={model_prefix} --vocab_size={vocab_size}\" + \n",
    "        f\" --pad_id={pad_id} --pad_piece=[PAD]\" +\n",
    "        f\" --unk_id={unk_id} --unk_piece=[UNK]\" +\n",
    "        f\" --bos_id={bos_id} --bos_piece=[BOS]\" +\n",
    "        f\" --eos_id={eos_id} --eos_piece=[EOS]\" +\n",
    "        \" --model_type=unigram --max_sentence_length=999999\")\n",
    "\n",
    "    # Load tokenizer\n",
    "    tokenizer = spm.SentencePieceProcessor()\n",
    "    tokenizer.load(f\"{model_prefix}.model\")\n",
    "    \n",
    "    return tokenizer"
   ]
  },
  {
   "cell_type": "code",
   "execution_count": 14,
   "id": "3a9ae12a",
   "metadata": {},
   "outputs": [
    {
     "name": "stderr",
     "output_type": "stream",
     "text": [
      "sentencepiece_trainer.cc(177) LOG(INFO) Running command: --input=ko_corpus.txt --model_prefix=ko_tokenizer --vocab_size=20000 --pad_id=0 --pad_piece=[PAD] --unk_id=3 --unk_piece=[UNK] --bos_id=1 --bos_piece=[BOS] --eos_id=2 --eos_piece=[EOS] --model_type=unigram --max_sentence_length=999999\n",
      "sentencepiece_trainer.cc(77) LOG(INFO) Starts training with : \n",
      "trainer_spec {\n",
      "  input: ko_corpus.txt\n",
      "  input_format: \n",
      "  model_prefix: ko_tokenizer\n",
      "  model_type: UNIGRAM\n",
      "  vocab_size: 20000\n",
      "  self_test_sample_size: 0\n",
      "  character_coverage: 0.9995\n",
      "  input_sentence_size: 0\n",
      "  shuffle_input_sentence: 1\n",
      "  seed_sentencepiece_size: 1000000\n",
      "  shrinking_factor: 0.75\n",
      "  max_sentence_length: 999999\n",
      "  num_threads: 16\n",
      "  num_sub_iterations: 2\n",
      "  max_sentencepiece_length: 16\n",
      "  split_by_unicode_script: 1\n",
      "  split_by_number: 1\n",
      "  split_by_whitespace: 1\n",
      "  split_digits: 0\n",
      "  treat_whitespace_as_suffix: 0\n",
      "  allow_whitespace_only_pieces: 0\n",
      "  required_chars: \n",
      "  byte_fallback: 0\n",
      "  vocabulary_output_piece_score: 1\n",
      "  train_extremely_large_corpus: 0\n",
      "  hard_vocab_limit: 1\n",
      "  use_all_vocab: 0\n",
      "  unk_id: 3\n",
      "  bos_id: 1\n",
      "  eos_id: 2\n",
      "  pad_id: 0\n",
      "  unk_piece: [UNK]\n",
      "  bos_piece: [BOS]\n",
      "  eos_piece: [EOS]\n",
      "  pad_piece: [PAD]\n",
      "  unk_surface:  ⁇ \n",
      "}\n",
      "normalizer_spec {\n",
      "  name: nmt_nfkc\n",
      "  add_dummy_prefix: 1\n",
      "  remove_extra_whitespaces: 1\n",
      "  escape_whitespaces: 1\n",
      "  normalization_rule_tsv: \n",
      "}\n",
      "denormalizer_spec {}\n",
      "trainer_interface.cc(329) LOG(INFO) SentenceIterator is not specified. Using MultiFileSentenceIterator.\n",
      "trainer_interface.cc(178) LOG(INFO) Loading corpus: ko_corpus.txt\n",
      "trainer_interface.cc(385) LOG(INFO) Loaded all 3750 sentences\n",
      "trainer_interface.cc(400) LOG(INFO) Adding meta_piece: [PAD]\n",
      "trainer_interface.cc(400) LOG(INFO) Adding meta_piece: [BOS]\n",
      "trainer_interface.cc(400) LOG(INFO) Adding meta_piece: [EOS]\n",
      "trainer_interface.cc(400) LOG(INFO) Adding meta_piece: [UNK]\n",
      "trainer_interface.cc(405) LOG(INFO) Normalizing sentences...\n",
      "trainer_interface.cc(466) LOG(INFO) all chars count=767023\n",
      "trainer_interface.cc(477) LOG(INFO) Done: 99.9501% characters are covered.\n",
      "trainer_interface.cc(487) LOG(INFO) Alphabet size=1168\n",
      "trainer_interface.cc(488) LOG(INFO) Final character coverage=0.999501\n",
      "trainer_interface.cc(520) LOG(INFO) Done! preprocessed 3750 sentences.\n",
      "unigram_model_trainer.cc(139) LOG(INFO) Making suffix array...\n",
      "unigram_model_trainer.cc(143) LOG(INFO) Extracting frequent sub strings...\n",
      "unigram_model_trainer.cc(194) LOG(INFO) Initialized 41331 seed sentencepieces\n",
      "trainer_interface.cc(526) LOG(INFO) Tokenizing input sentences with whitespace: 3750\n",
      "trainer_interface.cc(537) LOG(INFO) Done! 48885\n",
      "unigram_model_trainer.cc(489) LOG(INFO) Using 48885 sentences for EM training\n",
      "unigram_model_trainer.cc(505) LOG(INFO) EM sub_iter=0 size=23263 obj=11.6659 num_tokens=96321 num_tokens/piece=4.14052\n",
      "unigram_model_trainer.cc(505) LOG(INFO) EM sub_iter=1 size=20913 obj=10.9269 num_tokens=96685 num_tokens/piece=4.6232\n",
      "trainer_interface.cc(615) LOG(INFO) Saving model: ko_tokenizer.model\n",
      "trainer_interface.cc(626) LOG(INFO) Saving vocabs: ko_tokenizer.vocab\n"
     ]
    }
   ],
   "source": [
    "VOCAB_SIZE = 20000\n",
    "tokenizer = generate_tokenizer(filtered_train, VOCAB_SIZE, 'ko')"
   ]
  },
  {
   "cell_type": "code",
   "execution_count": 15,
   "id": "a308c3ab",
   "metadata": {},
   "outputs": [
    {
     "data": {
      "text/plain": [
       "0       지금 너 스스로를 죽여달라고 애원하는 것인가  아닙니다 죄송합니다  죽을 거면 혼자...\n",
       "1       길동경찰서입니다 시 분 마트에 폭발물을 설치할거다 네 똑바로 들어 한번만 더 얘기한...\n",
       "2       너 되게 귀여운거 알지 나보다 작은 남자는 첨봤어 그만해 니들 놀리는거 재미없어 지...\n",
       "3       어이 거기 예 너 말이야 너 이리 오라고 무슨 일 너 옷 좋아보인다 얘 돈 좀 있나...\n",
       "4       저기요 혹시 날이 너무 뜨겁잖아요 저희 회사에서 이 선크림 파는데 한 번 손등에 발...\n",
       "                              ...                        \n",
       "3945    준하야 넌 대가리가 왜이렇게 크냐 내 머리가 뭐 밥먹으면 대가리만 크냐 너는 아니 ...\n",
       "3946    내가 지금 너 아들 김길준 데리고 있어 살리고 싶으면 계좌에 억만 보내 예 선생님 ...\n",
       "3947    나는 씨 같은 사람 보면 참 신기하더라 어떻게 저렇게 살지 왜 그래 들리겠어 들리라...\n",
       "3948    누구맘대로 여기서 장사하래 이게 무슨일입니까 남의 구역에서 장사하려면 자릿세를 내야...\n",
       "3949    희정씨 네 주말에 시간이 넘쳐나나봐 갑자기 왜그러세요 손이 빤짝빤짝 네일했니 네 여...\n",
       "Name: cleaned_conversation, Length: 3750, dtype: object"
      ]
     },
     "execution_count": 15,
     "metadata": {},
     "output_type": "execute_result"
    }
   ],
   "source": [
    "filtered_train"
   ]
  },
  {
   "cell_type": "code",
   "execution_count": 20,
   "id": "5b7a5a1e",
   "metadata": {},
   "outputs": [
    {
     "data": {
      "text/plain": [
       "0       0\n",
       "1       0\n",
       "2       3\n",
       "3       1\n",
       "4       1\n",
       "       ..\n",
       "3945    3\n",
       "3946    1\n",
       "3947    2\n",
       "3948    1\n",
       "3949    2\n",
       "Name: class, Length: 3750, dtype: int64"
      ]
     },
     "execution_count": 20,
     "metadata": {},
     "output_type": "execute_result"
    }
   ],
   "source": [
    "filtered_y_train"
   ]
  },
  {
   "cell_type": "code",
   "execution_count": 35,
   "id": "e7659d47",
   "metadata": {},
   "outputs": [],
   "source": [
    "# 패딩처리\n",
    "padding_train = tf.keras.preprocessing.sequence.pad_sequences(\n",
    "    [tokenizer.encode_as_ids(sentence) for sentence in filtered_train],\n",
    "    padding='post',maxlen = 100\n",
    ")"
   ]
  },
  {
   "cell_type": "code",
   "execution_count": null,
   "id": "b2b3c2d5",
   "metadata": {},
   "outputs": [],
   "source": []
  },
  {
   "cell_type": "code",
   "execution_count": 36,
   "id": "1da12ef6",
   "metadata": {},
   "outputs": [
    {
     "name": "stdout",
     "output_type": "stream",
     "text": [
      "[[   29     5  2867 ...     0     0     0]\n",
      " [13561   230   640 ...     0     0     0]\n",
      " [    5   974 15784 ...     0     0     0]\n",
      " ...\n",
      " [  200  6111   508 ...  2992   121   323]\n",
      " [  234  6632   288 ...     0     0     0]\n",
      " [ 4901     9   600 ...     0     0     0]]\n",
      "3750\n",
      "(3750, 100)\n"
     ]
    }
   ],
   "source": [
    "print(padding_train)\n",
    "print(len(padding_train))\n",
    "print(padding_train.shape)"
   ]
  },
  {
   "cell_type": "code",
   "execution_count": 37,
   "id": "7637cfc1",
   "metadata": {},
   "outputs": [
    {
     "name": "stdout",
     "output_type": "stream",
     "text": [
      "(3375, 100) (3375,)\n",
      "(375, 100) (375,)\n"
     ]
    }
   ],
   "source": [
    "#train test split 이용하여 데이터 나누기 \n",
    "X_train, X_val, y_train, y_val = train_test_split(padding_train,filtered_y_train, test_size = 0.10, random_state = 42)\n",
    "print(X_train.shape,y_train.shape)\n",
    "print(X_val.shape,y_val.shape)"
   ]
  },
  {
   "cell_type": "code",
   "execution_count": 38,
   "id": "bf9d4aa4",
   "metadata": {},
   "outputs": [
    {
     "name": "stderr",
     "output_type": "stream",
     "text": [
      "\u001b[34m\u001b[1mwandb\u001b[0m: \u001b[33mWARNING\u001b[0m If you're specifying your api key in code, ensure this code is not shared publicly.\n",
      "\u001b[34m\u001b[1mwandb\u001b[0m: \u001b[33mWARNING\u001b[0m Consider setting the WANDB_API_KEY environment variable, or running `wandb login` from the command line.\n",
      "\u001b[34m\u001b[1mwandb\u001b[0m: Appending key for api.wandb.ai to your netrc file: /aiffel/.netrc\n"
     ]
    },
    {
     "data": {
      "text/plain": [
       "True"
      ]
     },
     "execution_count": 38,
     "metadata": {},
     "output_type": "execute_result"
    }
   ],
   "source": [
    "wandb.login(key = 'fe058bb4c71545e98d9c876dc757c299294e4c77')"
   ]
  },
  {
   "cell_type": "code",
   "execution_count": 42,
   "id": "5639081a",
   "metadata": {},
   "outputs": [],
   "source": [
    "sweep_config = {\n",
    "    \"name\": \"sweep_test_nlp\",\n",
    "    \"metric\": {\"name\": \"val_loss\", \"goal\": \"minimize\"},\n",
    "    \"method\": \"random\",\n",
    "    \"parameters\": {\n",
    "        \"learning_rate\" : {\n",
    "            \"min\" : 0.001,\n",
    "            \"max\" : 0.1\n",
    "            },\n",
    "        \"epoch\" : {\n",
    "            \"distribution\" : \"int_uniform\",\n",
    "            \"min\" : 5,\n",
    "            \"max\" : 10\n",
    "            }\n",
    "                    \n",
    "        }\n",
    "    }"
   ]
  },
  {
   "cell_type": "code",
   "execution_count": 43,
   "id": "73b70164",
   "metadata": {},
   "outputs": [],
   "source": [
    "def train():\n",
    "    default_config = {\n",
    "        \"vocab\" : 1000,\n",
    "        \"embeddings\" : 64,\n",
    "        \"units_1\" : 128,\n",
    "        \"units_2\" : 128,\n",
    "        \"units_3\" : 32,\n",
    "        \"class_num\" : 4,\n",
    "        \"learning_rate\" : 0.005,\n",
    "        \"optimizer\" : \"adam\",\n",
    "        \"loss\" : \"sparse_categorical_crossentropy\",\n",
    "        \"metrics\" : [\"accuracy\"],\n",
    "        \"epoch\" : 5,\n",
    "        \"batch_size\" : 32\n",
    "    }\n",
    "\n",
    "    wandb.init(config = default_config)\n",
    "    config = wandb.config\n",
    "\n",
    "    # Model\n",
    "\n",
    "    model=keras.models.Sequential()\n",
    "    model.add(keras.layers.Embedding(config.vocab, config.embeddings))\n",
    "    model.add(keras.layers.LSTM(units = config.units_1, return_sequences = True))\n",
    "    model.add(keras.layers.LSTM(units = config.units_2))\n",
    "    model.add(keras.layers.Dense(config.units_3, activation='relu'))\n",
    "    model.add(keras.layers.Dense(config.class_num, activation='softmax'))\n",
    "\n",
    "    # 머신 러닝 학습때 여러가지 optimzier를 사용할 경우나 learning rate를 조절할 경우에는 아래와 같은 형태의 코드를 응용합니다.\n",
    "\n",
    "    if config.optimizer == 'adam':\n",
    "        optimizer = keras.optimizers.Adam(learning_rate = config.learning_rate)\n",
    "    \n",
    "    model.compile(optimizer = optimizer,\n",
    "                  loss = config.loss,\n",
    "                  metrics = config.metrics)\n",
    "\n",
    "    # WandbCallback 함수는 후술합니다.\n",
    "    \n",
    "    model.fit(X_train, y_train,\n",
    "              epochs = config.epoch,\n",
    "              batch_size = config.batch_size,\n",
    "              validation_data = (X_val, y_val),\n",
    "              callbacks = [WandbCallback()])\n",
    "    \n",
    "    test_loss, test_accuracy = model.evaluate(X_val, y_val, verbose=2)\n",
    "    \n",
    "    # wandb.log 함수 안에 기록하고 싶은 정보를 담습니다.\n",
    "    \n",
    "    wandb.log({\"Test Accuracy Rate: \" : round(test_accuracy * 100, 2),\n",
    "               \"Test Error Rate: \" : round((1 - test_accuracy) * 100, 2)})"
   ]
  },
  {
   "cell_type": "code",
   "execution_count": 44,
   "id": "00ae17a6",
   "metadata": {},
   "outputs": [
    {
     "name": "stdout",
     "output_type": "stream",
     "text": [
      "Create sweep with ID: p81ogjp4\n",
      "Sweep URL: https://wandb.ai/changtw90312/in_zero/sweeps/p81ogjp4\n"
     ]
    },
    {
     "name": "stderr",
     "output_type": "stream",
     "text": [
      "\u001b[34m\u001b[1mwandb\u001b[0m: Agent Starting Run: qz7tc8sv with config:\n",
      "\u001b[34m\u001b[1mwandb\u001b[0m: \tepoch: 8\n",
      "\u001b[34m\u001b[1mwandb\u001b[0m: \tlearning_rate: 0.044751357575840846\n"
     ]
    },
    {
     "data": {
      "text/html": [
       "wandb version 0.16.2 is available!  To upgrade, please run:\n",
       " $ pip install wandb --upgrade"
      ],
      "text/plain": [
       "<IPython.core.display.HTML object>"
      ]
     },
     "metadata": {},
     "output_type": "display_data"
    },
    {
     "data": {
      "text/html": [
       "Tracking run with wandb version 0.16.0"
      ],
      "text/plain": [
       "<IPython.core.display.HTML object>"
      ]
     },
     "metadata": {},
     "output_type": "display_data"
    },
    {
     "data": {
      "text/html": [
       "Run data is saved locally in <code>/aiffel/wandb/run-20240111_031632-qz7tc8sv</code>"
      ],
      "text/plain": [
       "<IPython.core.display.HTML object>"
      ]
     },
     "metadata": {},
     "output_type": "display_data"
    },
    {
     "data": {
      "text/html": [
       "Syncing run <strong><a href='https://wandb.ai/changtw90312/in_zero/runs/qz7tc8sv' target=\"_blank\">daily-sweep-1</a></strong> to <a href='https://wandb.ai/changtw90312/in_zero' target=\"_blank\">Weights & Biases</a> (<a href='https://wandb.me/run' target=\"_blank\">docs</a>)<br/>Sweep page: <a href='https://wandb.ai/changtw90312/in_zero/sweeps/p81ogjp4' target=\"_blank\">https://wandb.ai/changtw90312/in_zero/sweeps/p81ogjp4</a>"
      ],
      "text/plain": [
       "<IPython.core.display.HTML object>"
      ]
     },
     "metadata": {},
     "output_type": "display_data"
    },
    {
     "data": {
      "text/html": [
       " View project at <a href='https://wandb.ai/changtw90312/in_zero' target=\"_blank\">https://wandb.ai/changtw90312/in_zero</a>"
      ],
      "text/plain": [
       "<IPython.core.display.HTML object>"
      ]
     },
     "metadata": {},
     "output_type": "display_data"
    },
    {
     "data": {
      "text/html": [
       " View sweep at <a href='https://wandb.ai/changtw90312/in_zero/sweeps/p81ogjp4' target=\"_blank\">https://wandb.ai/changtw90312/in_zero/sweeps/p81ogjp4</a>"
      ],
      "text/plain": [
       "<IPython.core.display.HTML object>"
      ]
     },
     "metadata": {},
     "output_type": "display_data"
    },
    {
     "data": {
      "text/html": [
       " View run at <a href='https://wandb.ai/changtw90312/in_zero/runs/qz7tc8sv' target=\"_blank\">https://wandb.ai/changtw90312/in_zero/runs/qz7tc8sv</a>"
      ],
      "text/plain": [
       "<IPython.core.display.HTML object>"
      ]
     },
     "metadata": {},
     "output_type": "display_data"
    },
    {
     "name": "stdout",
     "output_type": "stream",
     "text": [
      "Epoch 1/8\n",
      "106/106 [==============================] - 5s 18ms/step - loss: 1.4494 - accuracy: 0.2631 - val_loss: 1.3861 - val_accuracy: 0.2453\n"
     ]
    },
    {
     "name": "stderr",
     "output_type": "stream",
     "text": [
      "WARNING:absl:Found untraced functions such as lstm_cell_layer_call_fn, lstm_cell_layer_call_and_return_conditional_losses, lstm_cell_1_layer_call_fn, lstm_cell_1_layer_call_and_return_conditional_losses, lstm_cell_layer_call_fn while saving (showing 5 of 10). These functions will not be directly callable after loading.\n"
     ]
    },
    {
     "name": "stdout",
     "output_type": "stream",
     "text": [
      "INFO:tensorflow:Assets written to: /aiffel/wandb/run-20240111_031632-qz7tc8sv/files/model-best/assets\n"
     ]
    },
    {
     "name": "stderr",
     "output_type": "stream",
     "text": [
      "INFO:tensorflow:Assets written to: /aiffel/wandb/run-20240111_031632-qz7tc8sv/files/model-best/assets\n",
      "\u001b[34m\u001b[1mwandb\u001b[0m: Adding directory to artifact (/aiffel/wandb/run-20240111_031632-qz7tc8sv/files/model-best)... Done. 0.0s\n"
     ]
    },
    {
     "name": "stdout",
     "output_type": "stream",
     "text": [
      "Epoch 2/8\n",
      "106/106 [==============================] - 1s 13ms/step - loss: 1.3882 - accuracy: 0.2596 - val_loss: 1.4044 - val_accuracy: 0.2320\n",
      "Epoch 3/8\n",
      "106/106 [==============================] - 1s 12ms/step - loss: 1.3895 - accuracy: 0.2530 - val_loss: 1.3895 - val_accuracy: 0.2640\n",
      "Epoch 4/8\n",
      "106/106 [==============================] - 1s 12ms/step - loss: 1.3877 - accuracy: 0.2516 - val_loss: 1.3949 - val_accuracy: 0.2320\n",
      "Epoch 5/8\n",
      "106/106 [==============================] - 1s 12ms/step - loss: 1.3884 - accuracy: 0.2560 - val_loss: 1.3862 - val_accuracy: 0.2640\n",
      "Epoch 6/8\n",
      "106/106 [==============================] - 1s 12ms/step - loss: 1.3884 - accuracy: 0.2536 - val_loss: 1.4006 - val_accuracy: 0.2320\n",
      "Epoch 7/8\n",
      "106/106 [==============================] - 1s 12ms/step - loss: 1.3872 - accuracy: 0.2625 - val_loss: 1.3893 - val_accuracy: 0.2587\n",
      "Epoch 8/8\n",
      "106/106 [==============================] - 1s 11ms/step - loss: 1.3868 - accuracy: 0.2578 - val_loss: 1.3966 - val_accuracy: 0.2453\n"
     ]
    },
    {
     "data": {
      "application/vnd.jupyter.widget-view+json": {
       "model_id": "",
       "version_major": 2,
       "version_minor": 0
      },
      "text/plain": [
       "VBox(children=(Label(value='8.496 MB of 8.496 MB uploaded\\r'), FloatProgress(value=1.0, max=1.0)))"
      ]
     },
     "metadata": {},
     "output_type": "display_data"
    },
    {
     "data": {
      "text/html": [
       "<style>\n",
       "    table.wandb td:nth-child(1) { padding: 0 10px; text-align: left ; width: auto;} td:nth-child(2) {text-align: left ; width: 100%}\n",
       "    .wandb-row { display: flex; flex-direction: row; flex-wrap: wrap; justify-content: flex-start; width: 100% }\n",
       "    .wandb-col { display: flex; flex-direction: column; flex-basis: 100%; flex: 1; padding: 10px; }\n",
       "    </style>\n",
       "<div class=\"wandb-row\"><div class=\"wandb-col\"><h3>Run history:</h3><br/><table class=\"wandb\"><tr><td>accuracy</td><td>█▆▂▁▄▂█▅</td></tr><tr><td>epoch</td><td>▁▂▃▄▅▆▇█</td></tr><tr><td>loss</td><td>█▁▁▁▁▁▁▁</td></tr><tr><td>val_accuracy</td><td>▄▁█▁█▁▇▄</td></tr><tr><td>val_loss</td><td>▁█▂▄▁▇▂▅</td></tr></table><br/></div><div class=\"wandb-col\"><h3>Run summary:</h3><br/><table class=\"wandb\"><tr><td>accuracy</td><td>0.25778</td></tr><tr><td>best_epoch</td><td>0</td></tr><tr><td>best_val_loss</td><td>1.38607</td></tr><tr><td>epoch</td><td>7</td></tr><tr><td>loss</td><td>1.38681</td></tr><tr><td>val_accuracy</td><td>0.24533</td></tr><tr><td>val_loss</td><td>1.39661</td></tr></table><br/></div></div>"
      ],
      "text/plain": [
       "<IPython.core.display.HTML object>"
      ]
     },
     "metadata": {},
     "output_type": "display_data"
    },
    {
     "data": {
      "text/html": [
       " View run <strong style=\"color:#cdcd00\">daily-sweep-1</strong> at: <a href='https://wandb.ai/changtw90312/in_zero/runs/qz7tc8sv' target=\"_blank\">https://wandb.ai/changtw90312/in_zero/runs/qz7tc8sv</a><br/>Synced 5 W&B file(s), 1 media file(s), 4 artifact file(s) and 1 other file(s)"
      ],
      "text/plain": [
       "<IPython.core.display.HTML object>"
      ]
     },
     "metadata": {},
     "output_type": "display_data"
    },
    {
     "data": {
      "text/html": [
       "Find logs at: <code>./wandb/run-20240111_031632-qz7tc8sv/logs</code>"
      ],
      "text/plain": [
       "<IPython.core.display.HTML object>"
      ]
     },
     "metadata": {},
     "output_type": "display_data"
    },
    {
     "name": "stderr",
     "output_type": "stream",
     "text": [
      "\u001b[34m\u001b[1mwandb\u001b[0m: Agent Starting Run: 0n0duvca with config:\n",
      "\u001b[34m\u001b[1mwandb\u001b[0m: \tepoch: 9\n",
      "\u001b[34m\u001b[1mwandb\u001b[0m: \tlearning_rate: 0.09174533362687325\n"
     ]
    },
    {
     "data": {
      "text/html": [
       "wandb version 0.16.2 is available!  To upgrade, please run:\n",
       " $ pip install wandb --upgrade"
      ],
      "text/plain": [
       "<IPython.core.display.HTML object>"
      ]
     },
     "metadata": {},
     "output_type": "display_data"
    },
    {
     "data": {
      "text/html": [
       "Tracking run with wandb version 0.16.0"
      ],
      "text/plain": [
       "<IPython.core.display.HTML object>"
      ]
     },
     "metadata": {},
     "output_type": "display_data"
    },
    {
     "data": {
      "text/html": [
       "Run data is saved locally in <code>/aiffel/wandb/run-20240111_031704-0n0duvca</code>"
      ],
      "text/plain": [
       "<IPython.core.display.HTML object>"
      ]
     },
     "metadata": {},
     "output_type": "display_data"
    },
    {
     "data": {
      "text/html": [
       "Syncing run <strong><a href='https://wandb.ai/changtw90312/in_zero/runs/0n0duvca' target=\"_blank\">mild-sweep-2</a></strong> to <a href='https://wandb.ai/changtw90312/in_zero' target=\"_blank\">Weights & Biases</a> (<a href='https://wandb.me/run' target=\"_blank\">docs</a>)<br/>Sweep page: <a href='https://wandb.ai/changtw90312/in_zero/sweeps/p81ogjp4' target=\"_blank\">https://wandb.ai/changtw90312/in_zero/sweeps/p81ogjp4</a>"
      ],
      "text/plain": [
       "<IPython.core.display.HTML object>"
      ]
     },
     "metadata": {},
     "output_type": "display_data"
    },
    {
     "data": {
      "text/html": [
       " View project at <a href='https://wandb.ai/changtw90312/in_zero' target=\"_blank\">https://wandb.ai/changtw90312/in_zero</a>"
      ],
      "text/plain": [
       "<IPython.core.display.HTML object>"
      ]
     },
     "metadata": {},
     "output_type": "display_data"
    },
    {
     "data": {
      "text/html": [
       " View sweep at <a href='https://wandb.ai/changtw90312/in_zero/sweeps/p81ogjp4' target=\"_blank\">https://wandb.ai/changtw90312/in_zero/sweeps/p81ogjp4</a>"
      ],
      "text/plain": [
       "<IPython.core.display.HTML object>"
      ]
     },
     "metadata": {},
     "output_type": "display_data"
    },
    {
     "data": {
      "text/html": [
       " View run at <a href='https://wandb.ai/changtw90312/in_zero/runs/0n0duvca' target=\"_blank\">https://wandb.ai/changtw90312/in_zero/runs/0n0duvca</a>"
      ],
      "text/plain": [
       "<IPython.core.display.HTML object>"
      ]
     },
     "metadata": {},
     "output_type": "display_data"
    },
    {
     "name": "stdout",
     "output_type": "stream",
     "text": [
      "Epoch 1/9\n",
      "106/106 [==============================] - 4s 18ms/step - loss: 1.7207 - accuracy: 0.2379 - val_loss: 1.3881 - val_accuracy: 0.2427\n"
     ]
    },
    {
     "name": "stderr",
     "output_type": "stream",
     "text": [
      "WARNING:absl:Found untraced functions such as lstm_cell_layer_call_fn, lstm_cell_layer_call_and_return_conditional_losses, lstm_cell_1_layer_call_fn, lstm_cell_1_layer_call_and_return_conditional_losses, lstm_cell_layer_call_fn while saving (showing 5 of 10). These functions will not be directly callable after loading.\n"
     ]
    },
    {
     "name": "stdout",
     "output_type": "stream",
     "text": [
      "INFO:tensorflow:Assets written to: /aiffel/wandb/run-20240111_031704-0n0duvca/files/model-best/assets\n"
     ]
    },
    {
     "name": "stderr",
     "output_type": "stream",
     "text": [
      "INFO:tensorflow:Assets written to: /aiffel/wandb/run-20240111_031704-0n0duvca/files/model-best/assets\n",
      "\u001b[34m\u001b[1mwandb\u001b[0m: Adding directory to artifact (/aiffel/wandb/run-20240111_031704-0n0duvca/files/model-best)... Done. 0.0s\n"
     ]
    },
    {
     "name": "stdout",
     "output_type": "stream",
     "text": [
      "Epoch 2/9\n",
      "106/106 [==============================] - 1s 14ms/step - loss: 1.3959 - accuracy: 0.2409 - val_loss: 1.3940 - val_accuracy: 0.2453\n",
      "Epoch 3/9\n",
      "106/106 [==============================] - 1s 12ms/step - loss: 1.3883 - accuracy: 0.2634 - val_loss: 1.3902 - val_accuracy: 0.2640\n",
      "Epoch 4/9\n",
      "106/106 [==============================] - 1s 12ms/step - loss: 1.3948 - accuracy: 0.2439 - val_loss: 1.3914 - val_accuracy: 0.2453\n",
      "Epoch 5/9\n",
      "106/106 [==============================] - 1s 12ms/step - loss: 1.3910 - accuracy: 0.2388 - val_loss: 1.3913 - val_accuracy: 0.2453\n",
      "Epoch 6/9\n",
      "106/106 [==============================] - 1s 12ms/step - loss: 1.3948 - accuracy: 0.2483 - val_loss: 1.3977 - val_accuracy: 0.2320\n",
      "Epoch 7/9\n",
      "106/106 [==============================] - 1s 11ms/step - loss: 1.3910 - accuracy: 0.2560 - val_loss: 1.3982 - val_accuracy: 0.2640\n",
      "Epoch 8/9\n",
      "106/106 [==============================] - 1s 12ms/step - loss: 1.3936 - accuracy: 0.2634 - val_loss: 1.4209 - val_accuracy: 0.2320\n",
      "Epoch 9/9\n",
      "106/106 [==============================] - 1s 12ms/step - loss: 1.3923 - accuracy: 0.2569 - val_loss: 1.4097 - val_accuracy: 0.2320\n"
     ]
    },
    {
     "data": {
      "application/vnd.jupyter.widget-view+json": {
       "model_id": "",
       "version_major": 2,
       "version_minor": 0
      },
      "text/plain": [
       "VBox(children=(Label(value='8.496 MB of 8.496 MB uploaded\\r'), FloatProgress(value=1.0, max=1.0)))"
      ]
     },
     "metadata": {},
     "output_type": "display_data"
    },
    {
     "data": {
      "text/html": [
       "<style>\n",
       "    table.wandb td:nth-child(1) { padding: 0 10px; text-align: left ; width: auto;} td:nth-child(2) {text-align: left ; width: 100%}\n",
       "    .wandb-row { display: flex; flex-direction: row; flex-wrap: wrap; justify-content: flex-start; width: 100% }\n",
       "    .wandb-col { display: flex; flex-direction: column; flex-basis: 100%; flex: 1; padding: 10px; }\n",
       "    </style>\n",
       "<div class=\"wandb-row\"><div class=\"wandb-col\"><h3>Run history:</h3><br/><table class=\"wandb\"><tr><td>accuracy</td><td>▁▂█▃▁▄▆█▆</td></tr><tr><td>epoch</td><td>▁▂▃▄▅▅▆▇█</td></tr><tr><td>loss</td><td>█▁▁▁▁▁▁▁▁</td></tr><tr><td>val_accuracy</td><td>▃▄█▄▄▁█▁▁</td></tr><tr><td>val_loss</td><td>▁▂▁▂▂▃▃█▆</td></tr></table><br/></div><div class=\"wandb-col\"><h3>Run summary:</h3><br/><table class=\"wandb\"><tr><td>accuracy</td><td>0.25689</td></tr><tr><td>best_epoch</td><td>0</td></tr><tr><td>best_val_loss</td><td>1.38811</td></tr><tr><td>epoch</td><td>8</td></tr><tr><td>loss</td><td>1.39229</td></tr><tr><td>val_accuracy</td><td>0.232</td></tr><tr><td>val_loss</td><td>1.40975</td></tr></table><br/></div></div>"
      ],
      "text/plain": [
       "<IPython.core.display.HTML object>"
      ]
     },
     "metadata": {},
     "output_type": "display_data"
    },
    {
     "data": {
      "text/html": [
       " View run <strong style=\"color:#cdcd00\">mild-sweep-2</strong> at: <a href='https://wandb.ai/changtw90312/in_zero/runs/0n0duvca' target=\"_blank\">https://wandb.ai/changtw90312/in_zero/runs/0n0duvca</a><br/>Synced 5 W&B file(s), 1 media file(s), 4 artifact file(s) and 1 other file(s)"
      ],
      "text/plain": [
       "<IPython.core.display.HTML object>"
      ]
     },
     "metadata": {},
     "output_type": "display_data"
    },
    {
     "data": {
      "text/html": [
       "Find logs at: <code>./wandb/run-20240111_031704-0n0duvca/logs</code>"
      ],
      "text/plain": [
       "<IPython.core.display.HTML object>"
      ]
     },
     "metadata": {},
     "output_type": "display_data"
    },
    {
     "name": "stderr",
     "output_type": "stream",
     "text": [
      "\u001b[34m\u001b[1mwandb\u001b[0m: Agent Starting Run: wxqqtuv3 with config:\n",
      "\u001b[34m\u001b[1mwandb\u001b[0m: \tepoch: 8\n",
      "\u001b[34m\u001b[1mwandb\u001b[0m: \tlearning_rate: 0.04856228071271375\n"
     ]
    },
    {
     "data": {
      "text/html": [
       "wandb version 0.16.2 is available!  To upgrade, please run:\n",
       " $ pip install wandb --upgrade"
      ],
      "text/plain": [
       "<IPython.core.display.HTML object>"
      ]
     },
     "metadata": {},
     "output_type": "display_data"
    },
    {
     "data": {
      "text/html": [
       "Tracking run with wandb version 0.16.0"
      ],
      "text/plain": [
       "<IPython.core.display.HTML object>"
      ]
     },
     "metadata": {},
     "output_type": "display_data"
    },
    {
     "data": {
      "text/html": [
       "Run data is saved locally in <code>/aiffel/wandb/run-20240111_031735-wxqqtuv3</code>"
      ],
      "text/plain": [
       "<IPython.core.display.HTML object>"
      ]
     },
     "metadata": {},
     "output_type": "display_data"
    },
    {
     "data": {
      "text/html": [
       "Syncing run <strong><a href='https://wandb.ai/changtw90312/in_zero/runs/wxqqtuv3' target=\"_blank\">distinctive-sweep-3</a></strong> to <a href='https://wandb.ai/changtw90312/in_zero' target=\"_blank\">Weights & Biases</a> (<a href='https://wandb.me/run' target=\"_blank\">docs</a>)<br/>Sweep page: <a href='https://wandb.ai/changtw90312/in_zero/sweeps/p81ogjp4' target=\"_blank\">https://wandb.ai/changtw90312/in_zero/sweeps/p81ogjp4</a>"
      ],
      "text/plain": [
       "<IPython.core.display.HTML object>"
      ]
     },
     "metadata": {},
     "output_type": "display_data"
    },
    {
     "data": {
      "text/html": [
       " View project at <a href='https://wandb.ai/changtw90312/in_zero' target=\"_blank\">https://wandb.ai/changtw90312/in_zero</a>"
      ],
      "text/plain": [
       "<IPython.core.display.HTML object>"
      ]
     },
     "metadata": {},
     "output_type": "display_data"
    },
    {
     "data": {
      "text/html": [
       " View sweep at <a href='https://wandb.ai/changtw90312/in_zero/sweeps/p81ogjp4' target=\"_blank\">https://wandb.ai/changtw90312/in_zero/sweeps/p81ogjp4</a>"
      ],
      "text/plain": [
       "<IPython.core.display.HTML object>"
      ]
     },
     "metadata": {},
     "output_type": "display_data"
    },
    {
     "data": {
      "text/html": [
       " View run at <a href='https://wandb.ai/changtw90312/in_zero/runs/wxqqtuv3' target=\"_blank\">https://wandb.ai/changtw90312/in_zero/runs/wxqqtuv3</a>"
      ],
      "text/plain": [
       "<IPython.core.display.HTML object>"
      ]
     },
     "metadata": {},
     "output_type": "display_data"
    },
    {
     "name": "stdout",
     "output_type": "stream",
     "text": [
      "Epoch 1/8\n",
      "106/106 [==============================] - 4s 17ms/step - loss: 1.4273 - accuracy: 0.2631 - val_loss: 1.3940 - val_accuracy: 0.2320\n"
     ]
    },
    {
     "name": "stderr",
     "output_type": "stream",
     "text": [
      "WARNING:absl:Found untraced functions such as lstm_cell_layer_call_fn, lstm_cell_layer_call_and_return_conditional_losses, lstm_cell_1_layer_call_fn, lstm_cell_1_layer_call_and_return_conditional_losses, lstm_cell_layer_call_fn while saving (showing 5 of 10). These functions will not be directly callable after loading.\n"
     ]
    },
    {
     "name": "stdout",
     "output_type": "stream",
     "text": [
      "INFO:tensorflow:Assets written to: /aiffel/wandb/run-20240111_031735-wxqqtuv3/files/model-best/assets\n"
     ]
    },
    {
     "name": "stderr",
     "output_type": "stream",
     "text": [
      "INFO:tensorflow:Assets written to: /aiffel/wandb/run-20240111_031735-wxqqtuv3/files/model-best/assets\n",
      "\u001b[34m\u001b[1mwandb\u001b[0m: Adding directory to artifact (/aiffel/wandb/run-20240111_031735-wxqqtuv3/files/model-best)... Done. 0.0s\n"
     ]
    },
    {
     "name": "stdout",
     "output_type": "stream",
     "text": [
      "Epoch 2/8\n",
      "106/106 [==============================] - 1s 13ms/step - loss: 1.3879 - accuracy: 0.2533 - val_loss: 1.3943 - val_accuracy: 0.2453\n",
      "Epoch 3/8\n",
      "106/106 [==============================] - 1s 11ms/step - loss: 1.3881 - accuracy: 0.2519 - val_loss: 1.3948 - val_accuracy: 0.2320\n",
      "Epoch 4/8\n",
      "106/106 [==============================] - 1s 11ms/step - loss: 1.3880 - accuracy: 0.2655 - val_loss: 1.3938 - val_accuracy: 0.2320\n"
     ]
    },
    {
     "name": "stderr",
     "output_type": "stream",
     "text": [
      "WARNING:absl:Found untraced functions such as lstm_cell_layer_call_fn, lstm_cell_layer_call_and_return_conditional_losses, lstm_cell_1_layer_call_fn, lstm_cell_1_layer_call_and_return_conditional_losses, lstm_cell_layer_call_fn while saving (showing 5 of 10). These functions will not be directly callable after loading.\n"
     ]
    },
    {
     "name": "stdout",
     "output_type": "stream",
     "text": [
      "INFO:tensorflow:Assets written to: /aiffel/wandb/run-20240111_031735-wxqqtuv3/files/model-best/assets\n"
     ]
    },
    {
     "name": "stderr",
     "output_type": "stream",
     "text": [
      "INFO:tensorflow:Assets written to: /aiffel/wandb/run-20240111_031735-wxqqtuv3/files/model-best/assets\n",
      "\u001b[34m\u001b[1mwandb\u001b[0m: Adding directory to artifact (/aiffel/wandb/run-20240111_031735-wxqqtuv3/files/model-best)... Done. 0.0s\n"
     ]
    },
    {
     "name": "stdout",
     "output_type": "stream",
     "text": [
      "Epoch 5/8\n",
      "106/106 [==============================] - 1s 13ms/step - loss: 1.3887 - accuracy: 0.2513 - val_loss: 1.3930 - val_accuracy: 0.2320\n"
     ]
    },
    {
     "name": "stderr",
     "output_type": "stream",
     "text": [
      "WARNING:absl:Found untraced functions such as lstm_cell_layer_call_fn, lstm_cell_layer_call_and_return_conditional_losses, lstm_cell_1_layer_call_fn, lstm_cell_1_layer_call_and_return_conditional_losses, lstm_cell_layer_call_fn while saving (showing 5 of 10). These functions will not be directly callable after loading.\n"
     ]
    },
    {
     "name": "stdout",
     "output_type": "stream",
     "text": [
      "INFO:tensorflow:Assets written to: /aiffel/wandb/run-20240111_031735-wxqqtuv3/files/model-best/assets\n"
     ]
    },
    {
     "name": "stderr",
     "output_type": "stream",
     "text": [
      "INFO:tensorflow:Assets written to: /aiffel/wandb/run-20240111_031735-wxqqtuv3/files/model-best/assets\n",
      "\u001b[34m\u001b[1mwandb\u001b[0m: Adding directory to artifact (/aiffel/wandb/run-20240111_031735-wxqqtuv3/files/model-best)... Done. 0.0s\n"
     ]
    },
    {
     "name": "stdout",
     "output_type": "stream",
     "text": [
      "Epoch 6/8\n",
      "106/106 [==============================] - 1s 13ms/step - loss: 1.3872 - accuracy: 0.2696 - val_loss: 1.3933 - val_accuracy: 0.2320\n",
      "Epoch 7/8\n",
      "106/106 [==============================] - 1s 12ms/step - loss: 1.3870 - accuracy: 0.2607 - val_loss: 1.3962 - val_accuracy: 0.2320\n",
      "Epoch 8/8\n",
      "106/106 [==============================] - 1s 12ms/step - loss: 1.3894 - accuracy: 0.2566 - val_loss: 1.3988 - val_accuracy: 0.2320\n"
     ]
    },
    {
     "data": {
      "application/vnd.jupyter.widget-view+json": {
       "model_id": "",
       "version_major": 2,
       "version_minor": 0
      },
      "text/plain": [
       "VBox(children=(Label(value='18.544 MB of 18.544 MB uploaded (0.031 MB deduped)\\r'), FloatProgress(value=1.0, m…"
      ]
     },
     "metadata": {},
     "output_type": "display_data"
    },
    {
     "data": {
      "text/html": [
       "<style>\n",
       "    table.wandb td:nth-child(1) { padding: 0 10px; text-align: left ; width: auto;} td:nth-child(2) {text-align: left ; width: 100%}\n",
       "    .wandb-row { display: flex; flex-direction: row; flex-wrap: wrap; justify-content: flex-start; width: 100% }\n",
       "    .wandb-col { display: flex; flex-direction: column; flex-basis: 100%; flex: 1; padding: 10px; }\n",
       "    </style>\n",
       "<div class=\"wandb-row\"><div class=\"wandb-col\"><h3>Run history:</h3><br/><table class=\"wandb\"><tr><td>accuracy</td><td>▆▂▁▆▁█▅▃</td></tr><tr><td>epoch</td><td>▁▂▃▄▅▆▇█</td></tr><tr><td>loss</td><td>█▁▁▁▁▁▁▁</td></tr><tr><td>val_accuracy</td><td>▁█▁▁▁▁▁▁</td></tr><tr><td>val_loss</td><td>▂▃▃▂▁▁▅█</td></tr></table><br/></div><div class=\"wandb-col\"><h3>Run summary:</h3><br/><table class=\"wandb\"><tr><td>accuracy</td><td>0.25659</td></tr><tr><td>best_epoch</td><td>4</td></tr><tr><td>best_val_loss</td><td>1.39304</td></tr><tr><td>epoch</td><td>7</td></tr><tr><td>loss</td><td>1.38939</td></tr><tr><td>val_accuracy</td><td>0.232</td></tr><tr><td>val_loss</td><td>1.39883</td></tr></table><br/></div></div>"
      ],
      "text/plain": [
       "<IPython.core.display.HTML object>"
      ]
     },
     "metadata": {},
     "output_type": "display_data"
    },
    {
     "data": {
      "text/html": [
       " View run <strong style=\"color:#cdcd00\">distinctive-sweep-3</strong> at: <a href='https://wandb.ai/changtw90312/in_zero/runs/wxqqtuv3' target=\"_blank\">https://wandb.ai/changtw90312/in_zero/runs/wxqqtuv3</a><br/>Synced 5 W&B file(s), 1 media file(s), 12 artifact file(s) and 1 other file(s)"
      ],
      "text/plain": [
       "<IPython.core.display.HTML object>"
      ]
     },
     "metadata": {},
     "output_type": "display_data"
    },
    {
     "data": {
      "text/html": [
       "Find logs at: <code>./wandb/run-20240111_031735-wxqqtuv3/logs</code>"
      ],
      "text/plain": [
       "<IPython.core.display.HTML object>"
      ]
     },
     "metadata": {},
     "output_type": "display_data"
    },
    {
     "name": "stderr",
     "output_type": "stream",
     "text": [
      "\u001b[34m\u001b[1mwandb\u001b[0m: Agent Starting Run: 7ymsa5c4 with config:\n",
      "\u001b[34m\u001b[1mwandb\u001b[0m: \tepoch: 9\n",
      "\u001b[34m\u001b[1mwandb\u001b[0m: \tlearning_rate: 0.0028149061327233894\n"
     ]
    },
    {
     "data": {
      "text/html": [
       "wandb version 0.16.2 is available!  To upgrade, please run:\n",
       " $ pip install wandb --upgrade"
      ],
      "text/plain": [
       "<IPython.core.display.HTML object>"
      ]
     },
     "metadata": {},
     "output_type": "display_data"
    },
    {
     "data": {
      "text/html": [
       "Tracking run with wandb version 0.16.0"
      ],
      "text/plain": [
       "<IPython.core.display.HTML object>"
      ]
     },
     "metadata": {},
     "output_type": "display_data"
    },
    {
     "data": {
      "text/html": [
       "Run data is saved locally in <code>/aiffel/wandb/run-20240111_031820-7ymsa5c4</code>"
      ],
      "text/plain": [
       "<IPython.core.display.HTML object>"
      ]
     },
     "metadata": {},
     "output_type": "display_data"
    },
    {
     "data": {
      "text/html": [
       "Syncing run <strong><a href='https://wandb.ai/changtw90312/in_zero/runs/7ymsa5c4' target=\"_blank\">clean-sweep-4</a></strong> to <a href='https://wandb.ai/changtw90312/in_zero' target=\"_blank\">Weights & Biases</a> (<a href='https://wandb.me/run' target=\"_blank\">docs</a>)<br/>Sweep page: <a href='https://wandb.ai/changtw90312/in_zero/sweeps/p81ogjp4' target=\"_blank\">https://wandb.ai/changtw90312/in_zero/sweeps/p81ogjp4</a>"
      ],
      "text/plain": [
       "<IPython.core.display.HTML object>"
      ]
     },
     "metadata": {},
     "output_type": "display_data"
    },
    {
     "data": {
      "text/html": [
       " View project at <a href='https://wandb.ai/changtw90312/in_zero' target=\"_blank\">https://wandb.ai/changtw90312/in_zero</a>"
      ],
      "text/plain": [
       "<IPython.core.display.HTML object>"
      ]
     },
     "metadata": {},
     "output_type": "display_data"
    },
    {
     "data": {
      "text/html": [
       " View sweep at <a href='https://wandb.ai/changtw90312/in_zero/sweeps/p81ogjp4' target=\"_blank\">https://wandb.ai/changtw90312/in_zero/sweeps/p81ogjp4</a>"
      ],
      "text/plain": [
       "<IPython.core.display.HTML object>"
      ]
     },
     "metadata": {},
     "output_type": "display_data"
    },
    {
     "data": {
      "text/html": [
       " View run at <a href='https://wandb.ai/changtw90312/in_zero/runs/7ymsa5c4' target=\"_blank\">https://wandb.ai/changtw90312/in_zero/runs/7ymsa5c4</a>"
      ],
      "text/plain": [
       "<IPython.core.display.HTML object>"
      ]
     },
     "metadata": {},
     "output_type": "display_data"
    },
    {
     "name": "stdout",
     "output_type": "stream",
     "text": [
      "Epoch 1/9\n",
      "106/106 [==============================] - 5s 18ms/step - loss: 1.4144 - accuracy: 0.2818 - val_loss: 1.3909 - val_accuracy: 0.2587\n"
     ]
    },
    {
     "name": "stderr",
     "output_type": "stream",
     "text": [
      "WARNING:absl:Found untraced functions such as lstm_cell_layer_call_fn, lstm_cell_layer_call_and_return_conditional_losses, lstm_cell_1_layer_call_fn, lstm_cell_1_layer_call_and_return_conditional_losses, lstm_cell_layer_call_fn while saving (showing 5 of 10). These functions will not be directly callable after loading.\n"
     ]
    },
    {
     "name": "stdout",
     "output_type": "stream",
     "text": [
      "INFO:tensorflow:Assets written to: /aiffel/wandb/run-20240111_031820-7ymsa5c4/files/model-best/assets\n"
     ]
    },
    {
     "name": "stderr",
     "output_type": "stream",
     "text": [
      "INFO:tensorflow:Assets written to: /aiffel/wandb/run-20240111_031820-7ymsa5c4/files/model-best/assets\n",
      "\u001b[34m\u001b[1mwandb\u001b[0m: Adding directory to artifact (/aiffel/wandb/run-20240111_031820-7ymsa5c4/files/model-best)... Done. 0.0s\n"
     ]
    },
    {
     "name": "stdout",
     "output_type": "stream",
     "text": [
      "Epoch 2/9\n",
      "106/106 [==============================] - 1s 13ms/step - loss: 1.3953 - accuracy: 0.2483 - val_loss: 1.3989 - val_accuracy: 0.2587\n",
      "Epoch 3/9\n",
      "106/106 [==============================] - 1s 12ms/step - loss: 1.3867 - accuracy: 0.2554 - val_loss: 1.3881 - val_accuracy: 0.2320\n"
     ]
    },
    {
     "name": "stderr",
     "output_type": "stream",
     "text": [
      "WARNING:absl:Found untraced functions such as lstm_cell_layer_call_fn, lstm_cell_layer_call_and_return_conditional_losses, lstm_cell_1_layer_call_fn, lstm_cell_1_layer_call_and_return_conditional_losses, lstm_cell_layer_call_fn while saving (showing 5 of 10). These functions will not be directly callable after loading.\n"
     ]
    },
    {
     "name": "stdout",
     "output_type": "stream",
     "text": [
      "INFO:tensorflow:Assets written to: /aiffel/wandb/run-20240111_031820-7ymsa5c4/files/model-best/assets\n"
     ]
    },
    {
     "name": "stderr",
     "output_type": "stream",
     "text": [
      "INFO:tensorflow:Assets written to: /aiffel/wandb/run-20240111_031820-7ymsa5c4/files/model-best/assets\n",
      "\u001b[34m\u001b[1mwandb\u001b[0m: Adding directory to artifact (/aiffel/wandb/run-20240111_031820-7ymsa5c4/files/model-best)... Done. 0.0s\n"
     ]
    },
    {
     "name": "stdout",
     "output_type": "stream",
     "text": [
      "Epoch 4/9\n",
      "106/106 [==============================] - 1s 13ms/step - loss: 1.3853 - accuracy: 0.2655 - val_loss: 1.3886 - val_accuracy: 0.2320\n",
      "Epoch 5/9\n",
      "106/106 [==============================] - 1s 12ms/step - loss: 1.3850 - accuracy: 0.2655 - val_loss: 1.3892 - val_accuracy: 0.2320\n",
      "Epoch 6/9\n",
      "106/106 [==============================] - 1s 12ms/step - loss: 1.3853 - accuracy: 0.2655 - val_loss: 1.3893 - val_accuracy: 0.2320\n",
      "Epoch 7/9\n",
      "106/106 [==============================] - 1s 12ms/step - loss: 1.3849 - accuracy: 0.2655 - val_loss: 1.3896 - val_accuracy: 0.2320\n",
      "Epoch 8/9\n",
      "106/106 [==============================] - 1s 12ms/step - loss: 1.3849 - accuracy: 0.2655 - val_loss: 1.3896 - val_accuracy: 0.2320\n",
      "Epoch 9/9\n",
      "106/106 [==============================] - 1s 12ms/step - loss: 1.3851 - accuracy: 0.2655 - val_loss: 1.3899 - val_accuracy: 0.2320\n"
     ]
    },
    {
     "data": {
      "application/vnd.jupyter.widget-view+json": {
       "model_id": "",
       "version_major": 2,
       "version_minor": 0
      },
      "text/plain": [
       "VBox(children=(Label(value='13.520 MB of 13.524 MB uploaded (0.016 MB deduped)\\r'), FloatProgress(value=0.9997…"
      ]
     },
     "metadata": {},
     "output_type": "display_data"
    },
    {
     "data": {
      "text/html": [
       "<style>\n",
       "    table.wandb td:nth-child(1) { padding: 0 10px; text-align: left ; width: auto;} td:nth-child(2) {text-align: left ; width: 100%}\n",
       "    .wandb-row { display: flex; flex-direction: row; flex-wrap: wrap; justify-content: flex-start; width: 100% }\n",
       "    .wandb-col { display: flex; flex-direction: column; flex-basis: 100%; flex: 1; padding: 10px; }\n",
       "    </style>\n",
       "<div class=\"wandb-row\"><div class=\"wandb-col\"><h3>Run history:</h3><br/><table class=\"wandb\"><tr><td>accuracy</td><td>█▁▂▅▅▅▅▅▅</td></tr><tr><td>epoch</td><td>▁▂▃▄▅▅▆▇█</td></tr><tr><td>loss</td><td>█▃▁▁▁▁▁▁▁</td></tr><tr><td>val_accuracy</td><td>██▁▁▁▁▁▁▁</td></tr><tr><td>val_loss</td><td>▃█▁▁▂▂▂▂▂</td></tr></table><br/></div><div class=\"wandb-col\"><h3>Run summary:</h3><br/><table class=\"wandb\"><tr><td>accuracy</td><td>0.26548</td></tr><tr><td>best_epoch</td><td>2</td></tr><tr><td>best_val_loss</td><td>1.38808</td></tr><tr><td>epoch</td><td>8</td></tr><tr><td>loss</td><td>1.3851</td></tr><tr><td>val_accuracy</td><td>0.232</td></tr><tr><td>val_loss</td><td>1.38995</td></tr></table><br/></div></div>"
      ],
      "text/plain": [
       "<IPython.core.display.HTML object>"
      ]
     },
     "metadata": {},
     "output_type": "display_data"
    },
    {
     "data": {
      "text/html": [
       " View run <strong style=\"color:#cdcd00\">clean-sweep-4</strong> at: <a href='https://wandb.ai/changtw90312/in_zero/runs/7ymsa5c4' target=\"_blank\">https://wandb.ai/changtw90312/in_zero/runs/7ymsa5c4</a><br/>Synced 5 W&B file(s), 1 media file(s), 8 artifact file(s) and 1 other file(s)"
      ],
      "text/plain": [
       "<IPython.core.display.HTML object>"
      ]
     },
     "metadata": {},
     "output_type": "display_data"
    },
    {
     "data": {
      "text/html": [
       "Find logs at: <code>./wandb/run-20240111_031820-7ymsa5c4/logs</code>"
      ],
      "text/plain": [
       "<IPython.core.display.HTML object>"
      ]
     },
     "metadata": {},
     "output_type": "display_data"
    },
    {
     "name": "stderr",
     "output_type": "stream",
     "text": [
      "\u001b[34m\u001b[1mwandb\u001b[0m: Agent Starting Run: 8wy8h052 with config:\n",
      "\u001b[34m\u001b[1mwandb\u001b[0m: \tepoch: 10\n",
      "\u001b[34m\u001b[1mwandb\u001b[0m: \tlearning_rate: 0.047149991972868295\n"
     ]
    },
    {
     "data": {
      "text/html": [
       "wandb version 0.16.2 is available!  To upgrade, please run:\n",
       " $ pip install wandb --upgrade"
      ],
      "text/plain": [
       "<IPython.core.display.HTML object>"
      ]
     },
     "metadata": {},
     "output_type": "display_data"
    },
    {
     "data": {
      "text/html": [
       "Tracking run with wandb version 0.16.0"
      ],
      "text/plain": [
       "<IPython.core.display.HTML object>"
      ]
     },
     "metadata": {},
     "output_type": "display_data"
    },
    {
     "data": {
      "text/html": [
       "Run data is saved locally in <code>/aiffel/wandb/run-20240111_031912-8wy8h052</code>"
      ],
      "text/plain": [
       "<IPython.core.display.HTML object>"
      ]
     },
     "metadata": {},
     "output_type": "display_data"
    },
    {
     "data": {
      "text/html": [
       "Syncing run <strong><a href='https://wandb.ai/changtw90312/in_zero/runs/8wy8h052' target=\"_blank\">ruby-sweep-5</a></strong> to <a href='https://wandb.ai/changtw90312/in_zero' target=\"_blank\">Weights & Biases</a> (<a href='https://wandb.me/run' target=\"_blank\">docs</a>)<br/>Sweep page: <a href='https://wandb.ai/changtw90312/in_zero/sweeps/p81ogjp4' target=\"_blank\">https://wandb.ai/changtw90312/in_zero/sweeps/p81ogjp4</a>"
      ],
      "text/plain": [
       "<IPython.core.display.HTML object>"
      ]
     },
     "metadata": {},
     "output_type": "display_data"
    },
    {
     "data": {
      "text/html": [
       " View project at <a href='https://wandb.ai/changtw90312/in_zero' target=\"_blank\">https://wandb.ai/changtw90312/in_zero</a>"
      ],
      "text/plain": [
       "<IPython.core.display.HTML object>"
      ]
     },
     "metadata": {},
     "output_type": "display_data"
    },
    {
     "data": {
      "text/html": [
       " View sweep at <a href='https://wandb.ai/changtw90312/in_zero/sweeps/p81ogjp4' target=\"_blank\">https://wandb.ai/changtw90312/in_zero/sweeps/p81ogjp4</a>"
      ],
      "text/plain": [
       "<IPython.core.display.HTML object>"
      ]
     },
     "metadata": {},
     "output_type": "display_data"
    },
    {
     "data": {
      "text/html": [
       " View run at <a href='https://wandb.ai/changtw90312/in_zero/runs/8wy8h052' target=\"_blank\">https://wandb.ai/changtw90312/in_zero/runs/8wy8h052</a>"
      ],
      "text/plain": [
       "<IPython.core.display.HTML object>"
      ]
     },
     "metadata": {},
     "output_type": "display_data"
    },
    {
     "name": "stdout",
     "output_type": "stream",
     "text": [
      "Epoch 1/10\n",
      "106/106 [==============================] - 4s 18ms/step - loss: 1.4237 - accuracy: 0.2527 - val_loss: 1.3956 - val_accuracy: 0.2453\n"
     ]
    },
    {
     "name": "stderr",
     "output_type": "stream",
     "text": [
      "WARNING:absl:Found untraced functions such as lstm_cell_layer_call_fn, lstm_cell_layer_call_and_return_conditional_losses, lstm_cell_1_layer_call_fn, lstm_cell_1_layer_call_and_return_conditional_losses, lstm_cell_layer_call_fn while saving (showing 5 of 10). These functions will not be directly callable after loading.\n"
     ]
    },
    {
     "name": "stdout",
     "output_type": "stream",
     "text": [
      "INFO:tensorflow:Assets written to: /aiffel/wandb/run-20240111_031912-8wy8h052/files/model-best/assets\n"
     ]
    },
    {
     "name": "stderr",
     "output_type": "stream",
     "text": [
      "INFO:tensorflow:Assets written to: /aiffel/wandb/run-20240111_031912-8wy8h052/files/model-best/assets\n",
      "\u001b[34m\u001b[1mwandb\u001b[0m: Adding directory to artifact (/aiffel/wandb/run-20240111_031912-8wy8h052/files/model-best)... Done. 0.0s\n"
     ]
    },
    {
     "name": "stdout",
     "output_type": "stream",
     "text": [
      "Epoch 2/10\n",
      "106/106 [==============================] - 1s 13ms/step - loss: 1.3904 - accuracy: 0.2521 - val_loss: 1.3923 - val_accuracy: 0.2320\n"
     ]
    },
    {
     "name": "stderr",
     "output_type": "stream",
     "text": [
      "WARNING:absl:Found untraced functions such as lstm_cell_layer_call_fn, lstm_cell_layer_call_and_return_conditional_losses, lstm_cell_1_layer_call_fn, lstm_cell_1_layer_call_and_return_conditional_losses, lstm_cell_layer_call_fn while saving (showing 5 of 10). These functions will not be directly callable after loading.\n"
     ]
    },
    {
     "name": "stdout",
     "output_type": "stream",
     "text": [
      "INFO:tensorflow:Assets written to: /aiffel/wandb/run-20240111_031912-8wy8h052/files/model-best/assets\n"
     ]
    },
    {
     "name": "stderr",
     "output_type": "stream",
     "text": [
      "INFO:tensorflow:Assets written to: /aiffel/wandb/run-20240111_031912-8wy8h052/files/model-best/assets\n",
      "\u001b[34m\u001b[1mwandb\u001b[0m: Adding directory to artifact (/aiffel/wandb/run-20240111_031912-8wy8h052/files/model-best)... Done. 0.0s\n"
     ]
    },
    {
     "name": "stdout",
     "output_type": "stream",
     "text": [
      "Epoch 3/10\n",
      "106/106 [==============================] - 1s 13ms/step - loss: 1.3889 - accuracy: 0.2373 - val_loss: 1.3975 - val_accuracy: 0.2640\n",
      "Epoch 4/10\n",
      "106/106 [==============================] - 1s 12ms/step - loss: 1.3879 - accuracy: 0.2554 - val_loss: 1.3954 - val_accuracy: 0.2320\n",
      "Epoch 5/10\n",
      "106/106 [==============================] - 1s 12ms/step - loss: 1.3878 - accuracy: 0.2670 - val_loss: 1.3868 - val_accuracy: 0.2640\n"
     ]
    },
    {
     "name": "stderr",
     "output_type": "stream",
     "text": [
      "WARNING:absl:Found untraced functions such as lstm_cell_layer_call_fn, lstm_cell_layer_call_and_return_conditional_losses, lstm_cell_1_layer_call_fn, lstm_cell_1_layer_call_and_return_conditional_losses, lstm_cell_layer_call_fn while saving (showing 5 of 10). These functions will not be directly callable after loading.\n"
     ]
    },
    {
     "name": "stdout",
     "output_type": "stream",
     "text": [
      "INFO:tensorflow:Assets written to: /aiffel/wandb/run-20240111_031912-8wy8h052/files/model-best/assets\n"
     ]
    },
    {
     "name": "stderr",
     "output_type": "stream",
     "text": [
      "INFO:tensorflow:Assets written to: /aiffel/wandb/run-20240111_031912-8wy8h052/files/model-best/assets\n",
      "\u001b[34m\u001b[1mwandb\u001b[0m: Adding directory to artifact (/aiffel/wandb/run-20240111_031912-8wy8h052/files/model-best)... Done. 0.0s\n"
     ]
    },
    {
     "name": "stdout",
     "output_type": "stream",
     "text": [
      "Epoch 6/10\n",
      "106/106 [==============================] - 1s 12ms/step - loss: 1.3873 - accuracy: 0.2569 - val_loss: 1.4041 - val_accuracy: 0.2320\n",
      "Epoch 7/10\n",
      "106/106 [==============================] - 1s 12ms/step - loss: 1.3887 - accuracy: 0.2504 - val_loss: 1.3872 - val_accuracy: 0.2320\n",
      "Epoch 8/10\n",
      "106/106 [==============================] - 1s 12ms/step - loss: 1.3884 - accuracy: 0.2498 - val_loss: 1.3863 - val_accuracy: 0.2640\n"
     ]
    },
    {
     "name": "stderr",
     "output_type": "stream",
     "text": [
      "WARNING:absl:Found untraced functions such as lstm_cell_layer_call_fn, lstm_cell_layer_call_and_return_conditional_losses, lstm_cell_1_layer_call_fn, lstm_cell_1_layer_call_and_return_conditional_losses, lstm_cell_layer_call_fn while saving (showing 5 of 10). These functions will not be directly callable after loading.\n"
     ]
    },
    {
     "name": "stdout",
     "output_type": "stream",
     "text": [
      "INFO:tensorflow:Assets written to: /aiffel/wandb/run-20240111_031912-8wy8h052/files/model-best/assets\n"
     ]
    },
    {
     "name": "stderr",
     "output_type": "stream",
     "text": [
      "INFO:tensorflow:Assets written to: /aiffel/wandb/run-20240111_031912-8wy8h052/files/model-best/assets\n",
      "\u001b[34m\u001b[1mwandb\u001b[0m: Adding directory to artifact (/aiffel/wandb/run-20240111_031912-8wy8h052/files/model-best)... Done. 0.0s\n"
     ]
    },
    {
     "name": "stdout",
     "output_type": "stream",
     "text": [
      "Epoch 9/10\n",
      "106/106 [==============================] - 1s 12ms/step - loss: 1.3887 - accuracy: 0.2471 - val_loss: 1.3926 - val_accuracy: 0.2320\n",
      "Epoch 10/10\n",
      "106/106 [==============================] - 1s 12ms/step - loss: 1.3892 - accuracy: 0.2590 - val_loss: 1.3888 - val_accuracy: 0.2640\n"
     ]
    },
    {
     "data": {
      "application/vnd.jupyter.widget-view+json": {
       "model_id": "",
       "version_major": 2,
       "version_minor": 0
      },
      "text/plain": [
       "VBox(children=(Label(value='23.568 MB of 23.568 MB uploaded (0.047 MB deduped)\\r'), FloatProgress(value=1.0, m…"
      ]
     },
     "metadata": {},
     "output_type": "display_data"
    },
    {
     "data": {
      "text/html": [
       "<style>\n",
       "    table.wandb td:nth-child(1) { padding: 0 10px; text-align: left ; width: auto;} td:nth-child(2) {text-align: left ; width: 100%}\n",
       "    .wandb-row { display: flex; flex-direction: row; flex-wrap: wrap; justify-content: flex-start; width: 100% }\n",
       "    .wandb-col { display: flex; flex-direction: column; flex-basis: 100%; flex: 1; padding: 10px; }\n",
       "    </style>\n",
       "<div class=\"wandb-row\"><div class=\"wandb-col\"><h3>Run history:</h3><br/><table class=\"wandb\"><tr><td>accuracy</td><td>▅▅▁▅█▆▄▄▃▆</td></tr><tr><td>epoch</td><td>▁▂▃▃▄▅▆▆▇█</td></tr><tr><td>loss</td><td>█▂▁▁▁▁▁▁▁▁</td></tr><tr><td>val_accuracy</td><td>▄▁█▁█▁▁█▁█</td></tr><tr><td>val_loss</td><td>▅▃▅▅▁█▁▁▃▂</td></tr></table><br/></div><div class=\"wandb-col\"><h3>Run summary:</h3><br/><table class=\"wandb\"><tr><td>accuracy</td><td>0.25896</td></tr><tr><td>best_epoch</td><td>7</td></tr><tr><td>best_val_loss</td><td>1.38626</td></tr><tr><td>epoch</td><td>9</td></tr><tr><td>loss</td><td>1.38923</td></tr><tr><td>val_accuracy</td><td>0.264</td></tr><tr><td>val_loss</td><td>1.38879</td></tr></table><br/></div></div>"
      ],
      "text/plain": [
       "<IPython.core.display.HTML object>"
      ]
     },
     "metadata": {},
     "output_type": "display_data"
    },
    {
     "data": {
      "text/html": [
       " View run <strong style=\"color:#cdcd00\">ruby-sweep-5</strong> at: <a href='https://wandb.ai/changtw90312/in_zero/runs/8wy8h052' target=\"_blank\">https://wandb.ai/changtw90312/in_zero/runs/8wy8h052</a><br/>Synced 5 W&B file(s), 1 media file(s), 16 artifact file(s) and 1 other file(s)"
      ],
      "text/plain": [
       "<IPython.core.display.HTML object>"
      ]
     },
     "metadata": {},
     "output_type": "display_data"
    },
    {
     "data": {
      "text/html": [
       "Find logs at: <code>./wandb/run-20240111_031912-8wy8h052/logs</code>"
      ],
      "text/plain": [
       "<IPython.core.display.HTML object>"
      ]
     },
     "metadata": {},
     "output_type": "display_data"
    },
    {
     "name": "stderr",
     "output_type": "stream",
     "text": [
      "\u001b[34m\u001b[1mwandb\u001b[0m: Agent Starting Run: oe2t9nya with config:\n",
      "\u001b[34m\u001b[1mwandb\u001b[0m: \tepoch: 10\n",
      "\u001b[34m\u001b[1mwandb\u001b[0m: \tlearning_rate: 0.03019891086092972\n"
     ]
    },
    {
     "data": {
      "text/html": [
       "wandb version 0.16.2 is available!  To upgrade, please run:\n",
       " $ pip install wandb --upgrade"
      ],
      "text/plain": [
       "<IPython.core.display.HTML object>"
      ]
     },
     "metadata": {},
     "output_type": "display_data"
    },
    {
     "data": {
      "text/html": [
       "Tracking run with wandb version 0.16.0"
      ],
      "text/plain": [
       "<IPython.core.display.HTML object>"
      ]
     },
     "metadata": {},
     "output_type": "display_data"
    },
    {
     "data": {
      "text/html": [
       "Run data is saved locally in <code>/aiffel/wandb/run-20240111_032007-oe2t9nya</code>"
      ],
      "text/plain": [
       "<IPython.core.display.HTML object>"
      ]
     },
     "metadata": {},
     "output_type": "display_data"
    },
    {
     "data": {
      "text/html": [
       "Syncing run <strong><a href='https://wandb.ai/changtw90312/in_zero/runs/oe2t9nya' target=\"_blank\">vivid-sweep-6</a></strong> to <a href='https://wandb.ai/changtw90312/in_zero' target=\"_blank\">Weights & Biases</a> (<a href='https://wandb.me/run' target=\"_blank\">docs</a>)<br/>Sweep page: <a href='https://wandb.ai/changtw90312/in_zero/sweeps/p81ogjp4' target=\"_blank\">https://wandb.ai/changtw90312/in_zero/sweeps/p81ogjp4</a>"
      ],
      "text/plain": [
       "<IPython.core.display.HTML object>"
      ]
     },
     "metadata": {},
     "output_type": "display_data"
    },
    {
     "data": {
      "text/html": [
       " View project at <a href='https://wandb.ai/changtw90312/in_zero' target=\"_blank\">https://wandb.ai/changtw90312/in_zero</a>"
      ],
      "text/plain": [
       "<IPython.core.display.HTML object>"
      ]
     },
     "metadata": {},
     "output_type": "display_data"
    },
    {
     "data": {
      "text/html": [
       " View sweep at <a href='https://wandb.ai/changtw90312/in_zero/sweeps/p81ogjp4' target=\"_blank\">https://wandb.ai/changtw90312/in_zero/sweeps/p81ogjp4</a>"
      ],
      "text/plain": [
       "<IPython.core.display.HTML object>"
      ]
     },
     "metadata": {},
     "output_type": "display_data"
    },
    {
     "data": {
      "text/html": [
       " View run at <a href='https://wandb.ai/changtw90312/in_zero/runs/oe2t9nya' target=\"_blank\">https://wandb.ai/changtw90312/in_zero/runs/oe2t9nya</a>"
      ],
      "text/plain": [
       "<IPython.core.display.HTML object>"
      ]
     },
     "metadata": {},
     "output_type": "display_data"
    },
    {
     "name": "stdout",
     "output_type": "stream",
     "text": [
      "Epoch 1/10\n",
      "106/106 [==============================] - 4s 19ms/step - loss: 1.4160 - accuracy: 0.2507 - val_loss: 1.3887 - val_accuracy: 0.2800\n"
     ]
    },
    {
     "name": "stderr",
     "output_type": "stream",
     "text": [
      "WARNING:absl:Found untraced functions such as lstm_cell_layer_call_fn, lstm_cell_layer_call_and_return_conditional_losses, lstm_cell_1_layer_call_fn, lstm_cell_1_layer_call_and_return_conditional_losses, lstm_cell_layer_call_fn while saving (showing 5 of 10). These functions will not be directly callable after loading.\n"
     ]
    },
    {
     "name": "stdout",
     "output_type": "stream",
     "text": [
      "INFO:tensorflow:Assets written to: /aiffel/wandb/run-20240111_032007-oe2t9nya/files/model-best/assets\n"
     ]
    },
    {
     "name": "stderr",
     "output_type": "stream",
     "text": [
      "INFO:tensorflow:Assets written to: /aiffel/wandb/run-20240111_032007-oe2t9nya/files/model-best/assets\n",
      "\u001b[34m\u001b[1mwandb\u001b[0m: Adding directory to artifact (/aiffel/wandb/run-20240111_032007-oe2t9nya/files/model-best)... Done. 0.0s\n"
     ]
    },
    {
     "name": "stdout",
     "output_type": "stream",
     "text": [
      "Epoch 2/10\n",
      "106/106 [==============================] - 1s 12ms/step - loss: 1.3871 - accuracy: 0.2492 - val_loss: 1.4030 - val_accuracy: 0.2320\n",
      "Epoch 3/10\n",
      "106/106 [==============================] - 1s 12ms/step - loss: 1.3869 - accuracy: 0.2539 - val_loss: 1.3901 - val_accuracy: 0.2453\n",
      "Epoch 4/10\n",
      "106/106 [==============================] - 1s 12ms/step - loss: 1.3871 - accuracy: 0.2584 - val_loss: 1.3890 - val_accuracy: 0.2640\n",
      "Epoch 5/10\n",
      "106/106 [==============================] - 1s 12ms/step - loss: 1.3874 - accuracy: 0.2513 - val_loss: 1.3868 - val_accuracy: 0.2667\n"
     ]
    },
    {
     "name": "stderr",
     "output_type": "stream",
     "text": [
      "WARNING:absl:Found untraced functions such as lstm_cell_layer_call_fn, lstm_cell_layer_call_and_return_conditional_losses, lstm_cell_1_layer_call_fn, lstm_cell_1_layer_call_and_return_conditional_losses, lstm_cell_layer_call_fn while saving (showing 5 of 10). These functions will not be directly callable after loading.\n"
     ]
    },
    {
     "name": "stdout",
     "output_type": "stream",
     "text": [
      "INFO:tensorflow:Assets written to: /aiffel/wandb/run-20240111_032007-oe2t9nya/files/model-best/assets\n"
     ]
    },
    {
     "name": "stderr",
     "output_type": "stream",
     "text": [
      "INFO:tensorflow:Assets written to: /aiffel/wandb/run-20240111_032007-oe2t9nya/files/model-best/assets\n",
      "\u001b[34m\u001b[1mwandb\u001b[0m: Adding directory to artifact (/aiffel/wandb/run-20240111_032007-oe2t9nya/files/model-best)... Done. 0.0s\n"
     ]
    },
    {
     "name": "stdout",
     "output_type": "stream",
     "text": [
      "Epoch 6/10\n",
      "106/106 [==============================] - 1s 13ms/step - loss: 1.3865 - accuracy: 0.2533 - val_loss: 1.3978 - val_accuracy: 0.2640\n",
      "Epoch 7/10\n",
      "106/106 [==============================] - 1s 12ms/step - loss: 1.3863 - accuracy: 0.2643 - val_loss: 1.3864 - val_accuracy: 0.2640\n"
     ]
    },
    {
     "name": "stderr",
     "output_type": "stream",
     "text": [
      "WARNING:absl:Found untraced functions such as lstm_cell_layer_call_fn, lstm_cell_layer_call_and_return_conditional_losses, lstm_cell_1_layer_call_fn, lstm_cell_1_layer_call_and_return_conditional_losses, lstm_cell_layer_call_fn while saving (showing 5 of 10). These functions will not be directly callable after loading.\n"
     ]
    },
    {
     "name": "stdout",
     "output_type": "stream",
     "text": [
      "INFO:tensorflow:Assets written to: /aiffel/wandb/run-20240111_032007-oe2t9nya/files/model-best/assets\n"
     ]
    },
    {
     "name": "stderr",
     "output_type": "stream",
     "text": [
      "INFO:tensorflow:Assets written to: /aiffel/wandb/run-20240111_032007-oe2t9nya/files/model-best/assets\n",
      "\u001b[34m\u001b[1mwandb\u001b[0m: Adding directory to artifact (/aiffel/wandb/run-20240111_032007-oe2t9nya/files/model-best)... Done. 0.0s\n"
     ]
    },
    {
     "name": "stdout",
     "output_type": "stream",
     "text": [
      "Epoch 8/10\n",
      "106/106 [==============================] - 1s 13ms/step - loss: 1.3869 - accuracy: 0.2468 - val_loss: 1.3864 - val_accuracy: 0.2640\n",
      "Epoch 9/10\n",
      "106/106 [==============================] - 1s 12ms/step - loss: 1.3855 - accuracy: 0.2670 - val_loss: 1.3881 - val_accuracy: 0.2453\n",
      "Epoch 10/10\n",
      "106/106 [==============================] - 1s 12ms/step - loss: 1.3860 - accuracy: 0.2613 - val_loss: 1.3889 - val_accuracy: 0.2293\n"
     ]
    },
    {
     "data": {
      "application/vnd.jupyter.widget-view+json": {
       "model_id": "",
       "version_major": 2,
       "version_minor": 0
      },
      "text/plain": [
       "VBox(children=(Label(value='18.544 MB of 18.544 MB uploaded (0.031 MB deduped)\\r'), FloatProgress(value=1.0, m…"
      ]
     },
     "metadata": {},
     "output_type": "display_data"
    },
    {
     "data": {
      "text/html": [
       "<style>\n",
       "    table.wandb td:nth-child(1) { padding: 0 10px; text-align: left ; width: auto;} td:nth-child(2) {text-align: left ; width: 100%}\n",
       "    .wandb-row { display: flex; flex-direction: row; flex-wrap: wrap; justify-content: flex-start; width: 100% }\n",
       "    .wandb-col { display: flex; flex-direction: column; flex-basis: 100%; flex: 1; padding: 10px; }\n",
       "    </style>\n",
       "<div class=\"wandb-row\"><div class=\"wandb-col\"><h3>Run history:</h3><br/><table class=\"wandb\"><tr><td>accuracy</td><td>▂▂▃▅▃▃▇▁█▆</td></tr><tr><td>epoch</td><td>▁▂▃▃▄▅▆▆▇█</td></tr><tr><td>loss</td><td>█▁▁▁▁▁▁▁▁▁</td></tr><tr><td>val_accuracy</td><td>█▁▃▆▆▆▆▆▃▁</td></tr><tr><td>val_loss</td><td>▂█▃▂▁▆▁▁▂▂</td></tr></table><br/></div><div class=\"wandb-col\"><h3>Run summary:</h3><br/><table class=\"wandb\"><tr><td>accuracy</td><td>0.26133</td></tr><tr><td>best_epoch</td><td>6</td></tr><tr><td>best_val_loss</td><td>1.38637</td></tr><tr><td>epoch</td><td>9</td></tr><tr><td>loss</td><td>1.386</td></tr><tr><td>val_accuracy</td><td>0.22933</td></tr><tr><td>val_loss</td><td>1.38891</td></tr></table><br/></div></div>"
      ],
      "text/plain": [
       "<IPython.core.display.HTML object>"
      ]
     },
     "metadata": {},
     "output_type": "display_data"
    },
    {
     "data": {
      "text/html": [
       " View run <strong style=\"color:#cdcd00\">vivid-sweep-6</strong> at: <a href='https://wandb.ai/changtw90312/in_zero/runs/oe2t9nya' target=\"_blank\">https://wandb.ai/changtw90312/in_zero/runs/oe2t9nya</a><br/>Synced 5 W&B file(s), 1 media file(s), 12 artifact file(s) and 1 other file(s)"
      ],
      "text/plain": [
       "<IPython.core.display.HTML object>"
      ]
     },
     "metadata": {},
     "output_type": "display_data"
    },
    {
     "data": {
      "text/html": [
       "Find logs at: <code>./wandb/run-20240111_032007-oe2t9nya/logs</code>"
      ],
      "text/plain": [
       "<IPython.core.display.HTML object>"
      ]
     },
     "metadata": {},
     "output_type": "display_data"
    },
    {
     "name": "stderr",
     "output_type": "stream",
     "text": [
      "\u001b[34m\u001b[1mwandb\u001b[0m: Agent Starting Run: obi3arl3 with config:\n",
      "\u001b[34m\u001b[1mwandb\u001b[0m: \tepoch: 8\n",
      "\u001b[34m\u001b[1mwandb\u001b[0m: \tlearning_rate: 0.015974776340106123\n"
     ]
    },
    {
     "data": {
      "text/html": [
       "wandb version 0.16.2 is available!  To upgrade, please run:\n",
       " $ pip install wandb --upgrade"
      ],
      "text/plain": [
       "<IPython.core.display.HTML object>"
      ]
     },
     "metadata": {},
     "output_type": "display_data"
    },
    {
     "data": {
      "text/html": [
       "Tracking run with wandb version 0.16.0"
      ],
      "text/plain": [
       "<IPython.core.display.HTML object>"
      ]
     },
     "metadata": {},
     "output_type": "display_data"
    },
    {
     "data": {
      "text/html": [
       "Run data is saved locally in <code>/aiffel/wandb/run-20240111_032052-obi3arl3</code>"
      ],
      "text/plain": [
       "<IPython.core.display.HTML object>"
      ]
     },
     "metadata": {},
     "output_type": "display_data"
    },
    {
     "data": {
      "text/html": [
       "Syncing run <strong><a href='https://wandb.ai/changtw90312/in_zero/runs/obi3arl3' target=\"_blank\">wobbly-sweep-7</a></strong> to <a href='https://wandb.ai/changtw90312/in_zero' target=\"_blank\">Weights & Biases</a> (<a href='https://wandb.me/run' target=\"_blank\">docs</a>)<br/>Sweep page: <a href='https://wandb.ai/changtw90312/in_zero/sweeps/p81ogjp4' target=\"_blank\">https://wandb.ai/changtw90312/in_zero/sweeps/p81ogjp4</a>"
      ],
      "text/plain": [
       "<IPython.core.display.HTML object>"
      ]
     },
     "metadata": {},
     "output_type": "display_data"
    },
    {
     "data": {
      "text/html": [
       " View project at <a href='https://wandb.ai/changtw90312/in_zero' target=\"_blank\">https://wandb.ai/changtw90312/in_zero</a>"
      ],
      "text/plain": [
       "<IPython.core.display.HTML object>"
      ]
     },
     "metadata": {},
     "output_type": "display_data"
    },
    {
     "data": {
      "text/html": [
       " View sweep at <a href='https://wandb.ai/changtw90312/in_zero/sweeps/p81ogjp4' target=\"_blank\">https://wandb.ai/changtw90312/in_zero/sweeps/p81ogjp4</a>"
      ],
      "text/plain": [
       "<IPython.core.display.HTML object>"
      ]
     },
     "metadata": {},
     "output_type": "display_data"
    },
    {
     "data": {
      "text/html": [
       " View run at <a href='https://wandb.ai/changtw90312/in_zero/runs/obi3arl3' target=\"_blank\">https://wandb.ai/changtw90312/in_zero/runs/obi3arl3</a>"
      ],
      "text/plain": [
       "<IPython.core.display.HTML object>"
      ]
     },
     "metadata": {},
     "output_type": "display_data"
    },
    {
     "name": "stdout",
     "output_type": "stream",
     "text": [
      "Epoch 1/8\n",
      "106/106 [==============================] - 5s 18ms/step - loss: 1.3938 - accuracy: 0.2459 - val_loss: 1.3901 - val_accuracy: 0.2453\n"
     ]
    },
    {
     "name": "stderr",
     "output_type": "stream",
     "text": [
      "WARNING:absl:Found untraced functions such as lstm_cell_layer_call_fn, lstm_cell_layer_call_and_return_conditional_losses, lstm_cell_1_layer_call_fn, lstm_cell_1_layer_call_and_return_conditional_losses, lstm_cell_layer_call_fn while saving (showing 5 of 10). These functions will not be directly callable after loading.\n"
     ]
    },
    {
     "name": "stdout",
     "output_type": "stream",
     "text": [
      "INFO:tensorflow:Assets written to: /aiffel/wandb/run-20240111_032052-obi3arl3/files/model-best/assets\n"
     ]
    },
    {
     "name": "stderr",
     "output_type": "stream",
     "text": [
      "INFO:tensorflow:Assets written to: /aiffel/wandb/run-20240111_032052-obi3arl3/files/model-best/assets\n",
      "\u001b[34m\u001b[1mwandb\u001b[0m: Adding directory to artifact (/aiffel/wandb/run-20240111_032052-obi3arl3/files/model-best)... Done. 0.0s\n"
     ]
    },
    {
     "name": "stdout",
     "output_type": "stream",
     "text": [
      "Epoch 2/8\n",
      "106/106 [==============================] - 1s 13ms/step - loss: 1.3863 - accuracy: 0.2566 - val_loss: 1.3882 - val_accuracy: 0.2453\n"
     ]
    },
    {
     "name": "stderr",
     "output_type": "stream",
     "text": [
      "WARNING:absl:Found untraced functions such as lstm_cell_layer_call_fn, lstm_cell_layer_call_and_return_conditional_losses, lstm_cell_1_layer_call_fn, lstm_cell_1_layer_call_and_return_conditional_losses, lstm_cell_layer_call_fn while saving (showing 5 of 10). These functions will not be directly callable after loading.\n"
     ]
    },
    {
     "name": "stdout",
     "output_type": "stream",
     "text": [
      "INFO:tensorflow:Assets written to: /aiffel/wandb/run-20240111_032052-obi3arl3/files/model-best/assets\n"
     ]
    },
    {
     "name": "stderr",
     "output_type": "stream",
     "text": [
      "INFO:tensorflow:Assets written to: /aiffel/wandb/run-20240111_032052-obi3arl3/files/model-best/assets\n",
      "\u001b[34m\u001b[1mwandb\u001b[0m: Adding directory to artifact (/aiffel/wandb/run-20240111_032052-obi3arl3/files/model-best)... Done. 0.0s\n"
     ]
    },
    {
     "name": "stdout",
     "output_type": "stream",
     "text": [
      "Epoch 3/8\n",
      "106/106 [==============================] - 1s 12ms/step - loss: 1.3859 - accuracy: 0.2593 - val_loss: 1.3894 - val_accuracy: 0.2453\n",
      "Epoch 4/8\n",
      "106/106 [==============================] - 1s 11ms/step - loss: 1.3863 - accuracy: 0.2581 - val_loss: 1.3882 - val_accuracy: 0.2640\n",
      "Epoch 5/8\n",
      "106/106 [==============================] - 1s 11ms/step - loss: 1.3862 - accuracy: 0.2646 - val_loss: 1.3867 - val_accuracy: 0.2640\n"
     ]
    },
    {
     "name": "stderr",
     "output_type": "stream",
     "text": [
      "WARNING:absl:Found untraced functions such as lstm_cell_layer_call_fn, lstm_cell_layer_call_and_return_conditional_losses, lstm_cell_1_layer_call_fn, lstm_cell_1_layer_call_and_return_conditional_losses, lstm_cell_layer_call_fn while saving (showing 5 of 10). These functions will not be directly callable after loading.\n"
     ]
    },
    {
     "name": "stdout",
     "output_type": "stream",
     "text": [
      "INFO:tensorflow:Assets written to: /aiffel/wandb/run-20240111_032052-obi3arl3/files/model-best/assets\n"
     ]
    },
    {
     "name": "stderr",
     "output_type": "stream",
     "text": [
      "INFO:tensorflow:Assets written to: /aiffel/wandb/run-20240111_032052-obi3arl3/files/model-best/assets\n",
      "\u001b[34m\u001b[1mwandb\u001b[0m: Adding directory to artifact (/aiffel/wandb/run-20240111_032052-obi3arl3/files/model-best)... Done. 0.0s\n"
     ]
    },
    {
     "name": "stdout",
     "output_type": "stream",
     "text": [
      "Epoch 6/8\n",
      "106/106 [==============================] - 1s 13ms/step - loss: 1.3861 - accuracy: 0.2599 - val_loss: 1.3900 - val_accuracy: 0.2320\n",
      "Epoch 7/8\n",
      "106/106 [==============================] - 1s 12ms/step - loss: 1.3857 - accuracy: 0.2613 - val_loss: 1.3910 - val_accuracy: 0.2320\n",
      "Epoch 8/8\n",
      "106/106 [==============================] - 1s 11ms/step - loss: 1.3861 - accuracy: 0.2590 - val_loss: 1.3892 - val_accuracy: 0.2453\n"
     ]
    },
    {
     "data": {
      "application/vnd.jupyter.widget-view+json": {
       "model_id": "",
       "version_major": 2,
       "version_minor": 0
      },
      "text/plain": [
       "VBox(children=(Label(value='18.544 MB of 18.544 MB uploaded (0.031 MB deduped)\\r'), FloatProgress(value=1.0, m…"
      ]
     },
     "metadata": {},
     "output_type": "display_data"
    },
    {
     "data": {
      "text/html": [
       "<style>\n",
       "    table.wandb td:nth-child(1) { padding: 0 10px; text-align: left ; width: auto;} td:nth-child(2) {text-align: left ; width: 100%}\n",
       "    .wandb-row { display: flex; flex-direction: row; flex-wrap: wrap; justify-content: flex-start; width: 100% }\n",
       "    .wandb-col { display: flex; flex-direction: column; flex-basis: 100%; flex: 1; padding: 10px; }\n",
       "    </style>\n",
       "<div class=\"wandb-row\"><div class=\"wandb-col\"><h3>Run history:</h3><br/><table class=\"wandb\"><tr><td>accuracy</td><td>▁▅▆▆█▆▇▆</td></tr><tr><td>epoch</td><td>▁▂▃▄▅▆▇█</td></tr><tr><td>loss</td><td>█▂▁▂▁▁▁▁</td></tr><tr><td>val_accuracy</td><td>▄▄▄██▁▁▄</td></tr><tr><td>val_loss</td><td>▇▃▅▃▁▆█▅</td></tr></table><br/></div><div class=\"wandb-col\"><h3>Run summary:</h3><br/><table class=\"wandb\"><tr><td>accuracy</td><td>0.25896</td></tr><tr><td>best_epoch</td><td>4</td></tr><tr><td>best_val_loss</td><td>1.38675</td></tr><tr><td>epoch</td><td>7</td></tr><tr><td>loss</td><td>1.38606</td></tr><tr><td>val_accuracy</td><td>0.24533</td></tr><tr><td>val_loss</td><td>1.38918</td></tr></table><br/></div></div>"
      ],
      "text/plain": [
       "<IPython.core.display.HTML object>"
      ]
     },
     "metadata": {},
     "output_type": "display_data"
    },
    {
     "data": {
      "text/html": [
       " View run <strong style=\"color:#cdcd00\">wobbly-sweep-7</strong> at: <a href='https://wandb.ai/changtw90312/in_zero/runs/obi3arl3' target=\"_blank\">https://wandb.ai/changtw90312/in_zero/runs/obi3arl3</a><br/>Synced 5 W&B file(s), 1 media file(s), 12 artifact file(s) and 1 other file(s)"
      ],
      "text/plain": [
       "<IPython.core.display.HTML object>"
      ]
     },
     "metadata": {},
     "output_type": "display_data"
    },
    {
     "data": {
      "text/html": [
       "Find logs at: <code>./wandb/run-20240111_032052-obi3arl3/logs</code>"
      ],
      "text/plain": [
       "<IPython.core.display.HTML object>"
      ]
     },
     "metadata": {},
     "output_type": "display_data"
    },
    {
     "name": "stderr",
     "output_type": "stream",
     "text": [
      "\u001b[34m\u001b[1mwandb\u001b[0m: Agent Starting Run: y2i9l6hv with config:\n",
      "\u001b[34m\u001b[1mwandb\u001b[0m: \tepoch: 5\n",
      "\u001b[34m\u001b[1mwandb\u001b[0m: \tlearning_rate: 0.07580069003242754\n"
     ]
    },
    {
     "data": {
      "text/html": [
       "wandb version 0.16.2 is available!  To upgrade, please run:\n",
       " $ pip install wandb --upgrade"
      ],
      "text/plain": [
       "<IPython.core.display.HTML object>"
      ]
     },
     "metadata": {},
     "output_type": "display_data"
    },
    {
     "data": {
      "text/html": [
       "Tracking run with wandb version 0.16.0"
      ],
      "text/plain": [
       "<IPython.core.display.HTML object>"
      ]
     },
     "metadata": {},
     "output_type": "display_data"
    },
    {
     "data": {
      "text/html": [
       "Run data is saved locally in <code>/aiffel/wandb/run-20240111_032139-y2i9l6hv</code>"
      ],
      "text/plain": [
       "<IPython.core.display.HTML object>"
      ]
     },
     "metadata": {},
     "output_type": "display_data"
    },
    {
     "data": {
      "text/html": [
       "Syncing run <strong><a href='https://wandb.ai/changtw90312/in_zero/runs/y2i9l6hv' target=\"_blank\">resilient-sweep-8</a></strong> to <a href='https://wandb.ai/changtw90312/in_zero' target=\"_blank\">Weights & Biases</a> (<a href='https://wandb.me/run' target=\"_blank\">docs</a>)<br/>Sweep page: <a href='https://wandb.ai/changtw90312/in_zero/sweeps/p81ogjp4' target=\"_blank\">https://wandb.ai/changtw90312/in_zero/sweeps/p81ogjp4</a>"
      ],
      "text/plain": [
       "<IPython.core.display.HTML object>"
      ]
     },
     "metadata": {},
     "output_type": "display_data"
    },
    {
     "data": {
      "text/html": [
       " View project at <a href='https://wandb.ai/changtw90312/in_zero' target=\"_blank\">https://wandb.ai/changtw90312/in_zero</a>"
      ],
      "text/plain": [
       "<IPython.core.display.HTML object>"
      ]
     },
     "metadata": {},
     "output_type": "display_data"
    },
    {
     "data": {
      "text/html": [
       " View sweep at <a href='https://wandb.ai/changtw90312/in_zero/sweeps/p81ogjp4' target=\"_blank\">https://wandb.ai/changtw90312/in_zero/sweeps/p81ogjp4</a>"
      ],
      "text/plain": [
       "<IPython.core.display.HTML object>"
      ]
     },
     "metadata": {},
     "output_type": "display_data"
    },
    {
     "data": {
      "text/html": [
       " View run at <a href='https://wandb.ai/changtw90312/in_zero/runs/y2i9l6hv' target=\"_blank\">https://wandb.ai/changtw90312/in_zero/runs/y2i9l6hv</a>"
      ],
      "text/plain": [
       "<IPython.core.display.HTML object>"
      ]
     },
     "metadata": {},
     "output_type": "display_data"
    },
    {
     "name": "stdout",
     "output_type": "stream",
     "text": [
      "Epoch 1/5\n",
      "106/106 [==============================] - 5s 18ms/step - loss: 1.6407 - accuracy: 0.2539 - val_loss: 1.3983 - val_accuracy: 0.2587\n"
     ]
    },
    {
     "name": "stderr",
     "output_type": "stream",
     "text": [
      "WARNING:absl:Found untraced functions such as lstm_cell_layer_call_fn, lstm_cell_layer_call_and_return_conditional_losses, lstm_cell_1_layer_call_fn, lstm_cell_1_layer_call_and_return_conditional_losses, lstm_cell_layer_call_fn while saving (showing 5 of 10). These functions will not be directly callable after loading.\n"
     ]
    },
    {
     "name": "stdout",
     "output_type": "stream",
     "text": [
      "INFO:tensorflow:Assets written to: /aiffel/wandb/run-20240111_032139-y2i9l6hv/files/model-best/assets\n"
     ]
    },
    {
     "name": "stderr",
     "output_type": "stream",
     "text": [
      "INFO:tensorflow:Assets written to: /aiffel/wandb/run-20240111_032139-y2i9l6hv/files/model-best/assets\n",
      "\u001b[34m\u001b[1mwandb\u001b[0m: Adding directory to artifact (/aiffel/wandb/run-20240111_032139-y2i9l6hv/files/model-best)... Done. 0.0s\n"
     ]
    },
    {
     "name": "stdout",
     "output_type": "stream",
     "text": [
      "Epoch 2/5\n",
      "106/106 [==============================] - 1s 13ms/step - loss: 1.3994 - accuracy: 0.2581 - val_loss: 1.3942 - val_accuracy: 0.2453\n"
     ]
    },
    {
     "name": "stderr",
     "output_type": "stream",
     "text": [
      "WARNING:absl:Found untraced functions such as lstm_cell_layer_call_fn, lstm_cell_layer_call_and_return_conditional_losses, lstm_cell_1_layer_call_fn, lstm_cell_1_layer_call_and_return_conditional_losses, lstm_cell_layer_call_fn while saving (showing 5 of 10). These functions will not be directly callable after loading.\n"
     ]
    },
    {
     "name": "stdout",
     "output_type": "stream",
     "text": [
      "INFO:tensorflow:Assets written to: /aiffel/wandb/run-20240111_032139-y2i9l6hv/files/model-best/assets\n"
     ]
    },
    {
     "name": "stderr",
     "output_type": "stream",
     "text": [
      "INFO:tensorflow:Assets written to: /aiffel/wandb/run-20240111_032139-y2i9l6hv/files/model-best/assets\n",
      "\u001b[34m\u001b[1mwandb\u001b[0m: Adding directory to artifact (/aiffel/wandb/run-20240111_032139-y2i9l6hv/files/model-best)... Done. 0.0s\n"
     ]
    },
    {
     "name": "stdout",
     "output_type": "stream",
     "text": [
      "Epoch 3/5\n",
      "106/106 [==============================] - 1s 12ms/step - loss: 1.3917 - accuracy: 0.2421 - val_loss: 1.4008 - val_accuracy: 0.2320\n",
      "Epoch 4/5\n",
      "106/106 [==============================] - 1s 12ms/step - loss: 1.3904 - accuracy: 0.2578 - val_loss: 1.3926 - val_accuracy: 0.2320\n"
     ]
    },
    {
     "name": "stderr",
     "output_type": "stream",
     "text": [
      "WARNING:absl:Found untraced functions such as lstm_cell_layer_call_fn, lstm_cell_layer_call_and_return_conditional_losses, lstm_cell_1_layer_call_fn, lstm_cell_1_layer_call_and_return_conditional_losses, lstm_cell_layer_call_fn while saving (showing 5 of 10). These functions will not be directly callable after loading.\n"
     ]
    },
    {
     "name": "stdout",
     "output_type": "stream",
     "text": [
      "INFO:tensorflow:Assets written to: /aiffel/wandb/run-20240111_032139-y2i9l6hv/files/model-best/assets\n"
     ]
    },
    {
     "name": "stderr",
     "output_type": "stream",
     "text": [
      "INFO:tensorflow:Assets written to: /aiffel/wandb/run-20240111_032139-y2i9l6hv/files/model-best/assets\n",
      "\u001b[34m\u001b[1mwandb\u001b[0m: Adding directory to artifact (/aiffel/wandb/run-20240111_032139-y2i9l6hv/files/model-best)... Done. 0.0s\n"
     ]
    },
    {
     "name": "stdout",
     "output_type": "stream",
     "text": [
      "Epoch 5/5\n",
      "106/106 [==============================] - 1s 12ms/step - loss: 1.3909 - accuracy: 0.2539 - val_loss: 1.3984 - val_accuracy: 0.2320\n"
     ]
    },
    {
     "data": {
      "application/vnd.jupyter.widget-view+json": {
       "model_id": "",
       "version_major": 2,
       "version_minor": 0
      },
      "text/plain": [
       "VBox(children=(Label(value='18.544 MB of 18.544 MB uploaded (0.031 MB deduped)\\r'), FloatProgress(value=1.0, m…"
      ]
     },
     "metadata": {},
     "output_type": "display_data"
    },
    {
     "data": {
      "text/html": [
       "<style>\n",
       "    table.wandb td:nth-child(1) { padding: 0 10px; text-align: left ; width: auto;} td:nth-child(2) {text-align: left ; width: 100%}\n",
       "    .wandb-row { display: flex; flex-direction: row; flex-wrap: wrap; justify-content: flex-start; width: 100% }\n",
       "    .wandb-col { display: flex; flex-direction: column; flex-basis: 100%; flex: 1; padding: 10px; }\n",
       "    </style>\n",
       "<div class=\"wandb-row\"><div class=\"wandb-col\"><h3>Run history:</h3><br/><table class=\"wandb\"><tr><td>accuracy</td><td>▆█▁█▆</td></tr><tr><td>epoch</td><td>▁▃▅▆█</td></tr><tr><td>loss</td><td>█▁▁▁▁</td></tr><tr><td>val_accuracy</td><td>█▅▁▁▁</td></tr><tr><td>val_loss</td><td>▆▂█▁▆</td></tr></table><br/></div><div class=\"wandb-col\"><h3>Run summary:</h3><br/><table class=\"wandb\"><tr><td>accuracy</td><td>0.25393</td></tr><tr><td>best_epoch</td><td>3</td></tr><tr><td>best_val_loss</td><td>1.39261</td></tr><tr><td>epoch</td><td>4</td></tr><tr><td>loss</td><td>1.39087</td></tr><tr><td>val_accuracy</td><td>0.232</td></tr><tr><td>val_loss</td><td>1.39837</td></tr></table><br/></div></div>"
      ],
      "text/plain": [
       "<IPython.core.display.HTML object>"
      ]
     },
     "metadata": {},
     "output_type": "display_data"
    },
    {
     "data": {
      "text/html": [
       " View run <strong style=\"color:#cdcd00\">resilient-sweep-8</strong> at: <a href='https://wandb.ai/changtw90312/in_zero/runs/y2i9l6hv' target=\"_blank\">https://wandb.ai/changtw90312/in_zero/runs/y2i9l6hv</a><br/>Synced 5 W&B file(s), 1 media file(s), 12 artifact file(s) and 1 other file(s)"
      ],
      "text/plain": [
       "<IPython.core.display.HTML object>"
      ]
     },
     "metadata": {},
     "output_type": "display_data"
    },
    {
     "data": {
      "text/html": [
       "Find logs at: <code>./wandb/run-20240111_032139-y2i9l6hv/logs</code>"
      ],
      "text/plain": [
       "<IPython.core.display.HTML object>"
      ]
     },
     "metadata": {},
     "output_type": "display_data"
    },
    {
     "name": "stderr",
     "output_type": "stream",
     "text": [
      "\u001b[34m\u001b[1mwandb\u001b[0m: Agent Starting Run: ipm6pkqp with config:\n",
      "\u001b[34m\u001b[1mwandb\u001b[0m: \tepoch: 10\n",
      "\u001b[34m\u001b[1mwandb\u001b[0m: \tlearning_rate: 0.045901180202205176\n"
     ]
    },
    {
     "data": {
      "text/html": [
       "wandb version 0.16.2 is available!  To upgrade, please run:\n",
       " $ pip install wandb --upgrade"
      ],
      "text/plain": [
       "<IPython.core.display.HTML object>"
      ]
     },
     "metadata": {},
     "output_type": "display_data"
    },
    {
     "data": {
      "text/html": [
       "Tracking run with wandb version 0.16.0"
      ],
      "text/plain": [
       "<IPython.core.display.HTML object>"
      ]
     },
     "metadata": {},
     "output_type": "display_data"
    },
    {
     "data": {
      "text/html": [
       "Run data is saved locally in <code>/aiffel/wandb/run-20240111_032219-ipm6pkqp</code>"
      ],
      "text/plain": [
       "<IPython.core.display.HTML object>"
      ]
     },
     "metadata": {},
     "output_type": "display_data"
    },
    {
     "data": {
      "text/html": [
       "Syncing run <strong><a href='https://wandb.ai/changtw90312/in_zero/runs/ipm6pkqp' target=\"_blank\">skilled-sweep-9</a></strong> to <a href='https://wandb.ai/changtw90312/in_zero' target=\"_blank\">Weights & Biases</a> (<a href='https://wandb.me/run' target=\"_blank\">docs</a>)<br/>Sweep page: <a href='https://wandb.ai/changtw90312/in_zero/sweeps/p81ogjp4' target=\"_blank\">https://wandb.ai/changtw90312/in_zero/sweeps/p81ogjp4</a>"
      ],
      "text/plain": [
       "<IPython.core.display.HTML object>"
      ]
     },
     "metadata": {},
     "output_type": "display_data"
    },
    {
     "data": {
      "text/html": [
       " View project at <a href='https://wandb.ai/changtw90312/in_zero' target=\"_blank\">https://wandb.ai/changtw90312/in_zero</a>"
      ],
      "text/plain": [
       "<IPython.core.display.HTML object>"
      ]
     },
     "metadata": {},
     "output_type": "display_data"
    },
    {
     "data": {
      "text/html": [
       " View sweep at <a href='https://wandb.ai/changtw90312/in_zero/sweeps/p81ogjp4' target=\"_blank\">https://wandb.ai/changtw90312/in_zero/sweeps/p81ogjp4</a>"
      ],
      "text/plain": [
       "<IPython.core.display.HTML object>"
      ]
     },
     "metadata": {},
     "output_type": "display_data"
    },
    {
     "data": {
      "text/html": [
       " View run at <a href='https://wandb.ai/changtw90312/in_zero/runs/ipm6pkqp' target=\"_blank\">https://wandb.ai/changtw90312/in_zero/runs/ipm6pkqp</a>"
      ],
      "text/plain": [
       "<IPython.core.display.HTML object>"
      ]
     },
     "metadata": {},
     "output_type": "display_data"
    },
    {
     "name": "stdout",
     "output_type": "stream",
     "text": [
      "Epoch 1/10\n",
      "106/106 [==============================] - 5s 25ms/step - loss: 1.4243 - accuracy: 0.2456 - val_loss: 1.3859 - val_accuracy: 0.2640\n"
     ]
    },
    {
     "name": "stderr",
     "output_type": "stream",
     "text": [
      "WARNING:absl:Found untraced functions such as lstm_cell_layer_call_fn, lstm_cell_layer_call_and_return_conditional_losses, lstm_cell_1_layer_call_fn, lstm_cell_1_layer_call_and_return_conditional_losses, lstm_cell_layer_call_fn while saving (showing 5 of 10). These functions will not be directly callable after loading.\n"
     ]
    },
    {
     "name": "stdout",
     "output_type": "stream",
     "text": [
      "INFO:tensorflow:Assets written to: /aiffel/wandb/run-20240111_032219-ipm6pkqp/files/model-best/assets\n"
     ]
    },
    {
     "name": "stderr",
     "output_type": "stream",
     "text": [
      "INFO:tensorflow:Assets written to: /aiffel/wandb/run-20240111_032219-ipm6pkqp/files/model-best/assets\n",
      "\u001b[34m\u001b[1mwandb\u001b[0m: Adding directory to artifact (/aiffel/wandb/run-20240111_032219-ipm6pkqp/files/model-best)... Done. 0.0s\n"
     ]
    },
    {
     "name": "stdout",
     "output_type": "stream",
     "text": [
      "Epoch 2/10\n",
      "106/106 [==============================] - 1s 13ms/step - loss: 1.3871 - accuracy: 0.2593 - val_loss: 1.3923 - val_accuracy: 0.2640\n",
      "Epoch 3/10\n",
      "106/106 [==============================] - 1s 12ms/step - loss: 1.3885 - accuracy: 0.2625 - val_loss: 1.3913 - val_accuracy: 0.2320\n",
      "Epoch 4/10\n",
      "106/106 [==============================] - 1s 12ms/step - loss: 1.3893 - accuracy: 0.2590 - val_loss: 1.3893 - val_accuracy: 0.2320\n",
      "Epoch 5/10\n",
      "106/106 [==============================] - 1s 12ms/step - loss: 1.3876 - accuracy: 0.2510 - val_loss: 1.3863 - val_accuracy: 0.2640\n",
      "Epoch 6/10\n",
      "106/106 [==============================] - 1s 11ms/step - loss: 1.3890 - accuracy: 0.2527 - val_loss: 1.3987 - val_accuracy: 0.2320\n",
      "Epoch 7/10\n",
      "106/106 [==============================] - 1s 11ms/step - loss: 1.3890 - accuracy: 0.2533 - val_loss: 1.3904 - val_accuracy: 0.2320\n",
      "Epoch 8/10\n",
      "106/106 [==============================] - 1s 12ms/step - loss: 1.3883 - accuracy: 0.2652 - val_loss: 1.3887 - val_accuracy: 0.2320\n",
      "Epoch 9/10\n",
      "106/106 [==============================] - 1s 12ms/step - loss: 1.3886 - accuracy: 0.2397 - val_loss: 1.3870 - val_accuracy: 0.2320\n",
      "Epoch 10/10\n",
      "106/106 [==============================] - 1s 12ms/step - loss: 1.3892 - accuracy: 0.2584 - val_loss: 1.3928 - val_accuracy: 0.2640\n"
     ]
    },
    {
     "data": {
      "application/vnd.jupyter.widget-view+json": {
       "model_id": "",
       "version_major": 2,
       "version_minor": 0
      },
      "text/plain": [
       "VBox(children=(Label(value='8.496 MB of 8.496 MB uploaded\\r'), FloatProgress(value=1.0, max=1.0)))"
      ]
     },
     "metadata": {},
     "output_type": "display_data"
    },
    {
     "data": {
      "text/html": [
       "<style>\n",
       "    table.wandb td:nth-child(1) { padding: 0 10px; text-align: left ; width: auto;} td:nth-child(2) {text-align: left ; width: 100%}\n",
       "    .wandb-row { display: flex; flex-direction: row; flex-wrap: wrap; justify-content: flex-start; width: 100% }\n",
       "    .wandb-col { display: flex; flex-direction: column; flex-basis: 100%; flex: 1; padding: 10px; }\n",
       "    </style>\n",
       "<div class=\"wandb-row\"><div class=\"wandb-col\"><h3>Run history:</h3><br/><table class=\"wandb\"><tr><td>accuracy</td><td>▃▆▇▆▄▅▅█▁▆</td></tr><tr><td>epoch</td><td>▁▂▃▃▄▅▆▆▇█</td></tr><tr><td>loss</td><td>█▁▁▁▁▁▁▁▁▁</td></tr><tr><td>val_accuracy</td><td>██▁▁█▁▁▁▁█</td></tr><tr><td>val_loss</td><td>▁▅▄▃▁█▃▃▂▅</td></tr></table><br/></div><div class=\"wandb-col\"><h3>Run summary:</h3><br/><table class=\"wandb\"><tr><td>accuracy</td><td>0.25837</td></tr><tr><td>best_epoch</td><td>0</td></tr><tr><td>best_val_loss</td><td>1.38594</td></tr><tr><td>epoch</td><td>9</td></tr><tr><td>loss</td><td>1.38925</td></tr><tr><td>val_accuracy</td><td>0.264</td></tr><tr><td>val_loss</td><td>1.3928</td></tr></table><br/></div></div>"
      ],
      "text/plain": [
       "<IPython.core.display.HTML object>"
      ]
     },
     "metadata": {},
     "output_type": "display_data"
    },
    {
     "data": {
      "text/html": [
       " View run <strong style=\"color:#cdcd00\">skilled-sweep-9</strong> at: <a href='https://wandb.ai/changtw90312/in_zero/runs/ipm6pkqp' target=\"_blank\">https://wandb.ai/changtw90312/in_zero/runs/ipm6pkqp</a><br/>Synced 5 W&B file(s), 1 media file(s), 4 artifact file(s) and 1 other file(s)"
      ],
      "text/plain": [
       "<IPython.core.display.HTML object>"
      ]
     },
     "metadata": {},
     "output_type": "display_data"
    },
    {
     "data": {
      "text/html": [
       "Find logs at: <code>./wandb/run-20240111_032219-ipm6pkqp/logs</code>"
      ],
      "text/plain": [
       "<IPython.core.display.HTML object>"
      ]
     },
     "metadata": {},
     "output_type": "display_data"
    },
    {
     "name": "stderr",
     "output_type": "stream",
     "text": [
      "\u001b[34m\u001b[1mwandb\u001b[0m: Agent Starting Run: op5wytsx with config:\n",
      "\u001b[34m\u001b[1mwandb\u001b[0m: \tepoch: 6\n",
      "\u001b[34m\u001b[1mwandb\u001b[0m: \tlearning_rate: 0.04964188150409621\n"
     ]
    },
    {
     "data": {
      "text/html": [
       "wandb version 0.16.2 is available!  To upgrade, please run:\n",
       " $ pip install wandb --upgrade"
      ],
      "text/plain": [
       "<IPython.core.display.HTML object>"
      ]
     },
     "metadata": {},
     "output_type": "display_data"
    },
    {
     "data": {
      "text/html": [
       "Tracking run with wandb version 0.16.0"
      ],
      "text/plain": [
       "<IPython.core.display.HTML object>"
      ]
     },
     "metadata": {},
     "output_type": "display_data"
    },
    {
     "data": {
      "text/html": [
       "Run data is saved locally in <code>/aiffel/wandb/run-20240111_032250-op5wytsx</code>"
      ],
      "text/plain": [
       "<IPython.core.display.HTML object>"
      ]
     },
     "metadata": {},
     "output_type": "display_data"
    },
    {
     "data": {
      "text/html": [
       "Syncing run <strong><a href='https://wandb.ai/changtw90312/in_zero/runs/op5wytsx' target=\"_blank\">light-sweep-10</a></strong> to <a href='https://wandb.ai/changtw90312/in_zero' target=\"_blank\">Weights & Biases</a> (<a href='https://wandb.me/run' target=\"_blank\">docs</a>)<br/>Sweep page: <a href='https://wandb.ai/changtw90312/in_zero/sweeps/p81ogjp4' target=\"_blank\">https://wandb.ai/changtw90312/in_zero/sweeps/p81ogjp4</a>"
      ],
      "text/plain": [
       "<IPython.core.display.HTML object>"
      ]
     },
     "metadata": {},
     "output_type": "display_data"
    },
    {
     "data": {
      "text/html": [
       " View project at <a href='https://wandb.ai/changtw90312/in_zero' target=\"_blank\">https://wandb.ai/changtw90312/in_zero</a>"
      ],
      "text/plain": [
       "<IPython.core.display.HTML object>"
      ]
     },
     "metadata": {},
     "output_type": "display_data"
    },
    {
     "data": {
      "text/html": [
       " View sweep at <a href='https://wandb.ai/changtw90312/in_zero/sweeps/p81ogjp4' target=\"_blank\">https://wandb.ai/changtw90312/in_zero/sweeps/p81ogjp4</a>"
      ],
      "text/plain": [
       "<IPython.core.display.HTML object>"
      ]
     },
     "metadata": {},
     "output_type": "display_data"
    },
    {
     "data": {
      "text/html": [
       " View run at <a href='https://wandb.ai/changtw90312/in_zero/runs/op5wytsx' target=\"_blank\">https://wandb.ai/changtw90312/in_zero/runs/op5wytsx</a>"
      ],
      "text/plain": [
       "<IPython.core.display.HTML object>"
      ]
     },
     "metadata": {},
     "output_type": "display_data"
    },
    {
     "name": "stdout",
     "output_type": "stream",
     "text": [
      "Epoch 1/6\n",
      "106/106 [==============================] - 4s 18ms/step - loss: 1.4305 - accuracy: 0.2681 - val_loss: 1.3876 - val_accuracy: 0.2640\n"
     ]
    },
    {
     "name": "stderr",
     "output_type": "stream",
     "text": [
      "WARNING:absl:Found untraced functions such as lstm_cell_layer_call_fn, lstm_cell_layer_call_and_return_conditional_losses, lstm_cell_1_layer_call_fn, lstm_cell_1_layer_call_and_return_conditional_losses, lstm_cell_layer_call_fn while saving (showing 5 of 10). These functions will not be directly callable after loading.\n"
     ]
    },
    {
     "name": "stdout",
     "output_type": "stream",
     "text": [
      "INFO:tensorflow:Assets written to: /aiffel/wandb/run-20240111_032250-op5wytsx/files/model-best/assets\n"
     ]
    },
    {
     "name": "stderr",
     "output_type": "stream",
     "text": [
      "INFO:tensorflow:Assets written to: /aiffel/wandb/run-20240111_032250-op5wytsx/files/model-best/assets\n",
      "\u001b[34m\u001b[1mwandb\u001b[0m: Adding directory to artifact (/aiffel/wandb/run-20240111_032250-op5wytsx/files/model-best)... Done. 0.0s\n"
     ]
    },
    {
     "name": "stdout",
     "output_type": "stream",
     "text": [
      "Epoch 2/6\n",
      "106/106 [==============================] - 1s 12ms/step - loss: 1.3888 - accuracy: 0.2409 - val_loss: 1.3908 - val_accuracy: 0.2320\n",
      "Epoch 3/6\n",
      "106/106 [==============================] - 1s 11ms/step - loss: 1.3883 - accuracy: 0.2596 - val_loss: 1.3985 - val_accuracy: 0.2320\n",
      "Epoch 4/6\n",
      "106/106 [==============================] - 1s 11ms/step - loss: 1.3889 - accuracy: 0.2667 - val_loss: 1.3931 - val_accuracy: 0.2640\n",
      "Epoch 5/6\n",
      "106/106 [==============================] - 1s 12ms/step - loss: 1.3894 - accuracy: 0.2625 - val_loss: 1.3931 - val_accuracy: 0.2320\n",
      "Epoch 6/6\n",
      "106/106 [==============================] - 1s 11ms/step - loss: 1.3884 - accuracy: 0.2492 - val_loss: 1.3867 - val_accuracy: 0.2453\n"
     ]
    },
    {
     "name": "stderr",
     "output_type": "stream",
     "text": [
      "WARNING:absl:Found untraced functions such as lstm_cell_layer_call_fn, lstm_cell_layer_call_and_return_conditional_losses, lstm_cell_1_layer_call_fn, lstm_cell_1_layer_call_and_return_conditional_losses, lstm_cell_layer_call_fn while saving (showing 5 of 10). These functions will not be directly callable after loading.\n"
     ]
    },
    {
     "name": "stdout",
     "output_type": "stream",
     "text": [
      "INFO:tensorflow:Assets written to: /aiffel/wandb/run-20240111_032250-op5wytsx/files/model-best/assets\n"
     ]
    },
    {
     "name": "stderr",
     "output_type": "stream",
     "text": [
      "INFO:tensorflow:Assets written to: /aiffel/wandb/run-20240111_032250-op5wytsx/files/model-best/assets\n",
      "\u001b[34m\u001b[1mwandb\u001b[0m: Adding directory to artifact (/aiffel/wandb/run-20240111_032250-op5wytsx/files/model-best)... Done. 0.0s\n"
     ]
    },
    {
     "data": {
      "application/vnd.jupyter.widget-view+json": {
       "model_id": "",
       "version_major": 2,
       "version_minor": 0
      },
      "text/plain": [
       "VBox(children=(Label(value='13.520 MB of 13.520 MB uploaded (0.016 MB deduped)\\r'), FloatProgress(value=1.0, m…"
      ]
     },
     "metadata": {},
     "output_type": "display_data"
    },
    {
     "data": {
      "text/html": [
       "<style>\n",
       "    table.wandb td:nth-child(1) { padding: 0 10px; text-align: left ; width: auto;} td:nth-child(2) {text-align: left ; width: 100%}\n",
       "    .wandb-row { display: flex; flex-direction: row; flex-wrap: wrap; justify-content: flex-start; width: 100% }\n",
       "    .wandb-col { display: flex; flex-direction: column; flex-basis: 100%; flex: 1; padding: 10px; }\n",
       "    </style>\n",
       "<div class=\"wandb-row\"><div class=\"wandb-col\"><h3>Run history:</h3><br/><table class=\"wandb\"><tr><td>accuracy</td><td>█▁▆█▇▃</td></tr><tr><td>epoch</td><td>▁▂▄▅▇█</td></tr><tr><td>loss</td><td>█▁▁▁▁▁</td></tr><tr><td>val_accuracy</td><td>█▁▁█▁▄</td></tr><tr><td>val_loss</td><td>▂▃█▅▅▁</td></tr></table><br/></div><div class=\"wandb-col\"><h3>Run summary:</h3><br/><table class=\"wandb\"><tr><td>accuracy</td><td>0.24919</td></tr><tr><td>best_epoch</td><td>5</td></tr><tr><td>best_val_loss</td><td>1.38669</td></tr><tr><td>epoch</td><td>5</td></tr><tr><td>loss</td><td>1.38837</td></tr><tr><td>val_accuracy</td><td>0.24533</td></tr><tr><td>val_loss</td><td>1.38669</td></tr></table><br/></div></div>"
      ],
      "text/plain": [
       "<IPython.core.display.HTML object>"
      ]
     },
     "metadata": {},
     "output_type": "display_data"
    },
    {
     "data": {
      "text/html": [
       " View run <strong style=\"color:#cdcd00\">light-sweep-10</strong> at: <a href='https://wandb.ai/changtw90312/in_zero/runs/op5wytsx' target=\"_blank\">https://wandb.ai/changtw90312/in_zero/runs/op5wytsx</a><br/>Synced 5 W&B file(s), 1 media file(s), 8 artifact file(s) and 1 other file(s)"
      ],
      "text/plain": [
       "<IPython.core.display.HTML object>"
      ]
     },
     "metadata": {},
     "output_type": "display_data"
    },
    {
     "data": {
      "text/html": [
       "Find logs at: <code>./wandb/run-20240111_032250-op5wytsx/logs</code>"
      ],
      "text/plain": [
       "<IPython.core.display.HTML object>"
      ]
     },
     "metadata": {},
     "output_type": "display_data"
    }
   ],
   "source": [
    "# entity와 project에 본인의 아이디와 프로젝트명을 입력하세요\n",
    "\n",
    "sweep_id = wandb.sweep(sweep_config,\n",
    "                       entity = 'changtw90312',\n",
    "                       project = 'in_zero')\n",
    "\n",
    "# run the sweep\n",
    "wandb.agent(sweep_id,\n",
    "            function=train,\n",
    "            count=10)"
   ]
  },
  {
   "cell_type": "code",
   "execution_count": null,
   "id": "2d974450",
   "metadata": {},
   "outputs": [],
   "source": []
  }
 ],
 "metadata": {
  "kernelspec": {
   "display_name": "Python 3 (ipykernel)",
   "language": "python",
   "name": "python3"
  },
  "language_info": {
   "codemirror_mode": {
    "name": "ipython",
    "version": 3
   },
   "file_extension": ".py",
   "mimetype": "text/x-python",
   "name": "python",
   "nbconvert_exporter": "python",
   "pygments_lexer": "ipython3",
   "version": "3.9.7"
  }
 },
 "nbformat": 4,
 "nbformat_minor": 5
}
