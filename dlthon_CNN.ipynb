{
 "cells": [
  {
   "cell_type": "markdown",
   "id": "c61aac3f",
   "metadata": {},
   "source": [
    "# CNN 1D모델을 사용하여 Sentencepiece, Mecab, 그리고 Okt로 전처리하여 결과 비교"
   ]
  },
  {
   "cell_type": "code",
   "execution_count": 1,
   "id": "ca6f89ea",
   "metadata": {},
   "outputs": [],
   "source": [
    "import pandas as pd\n",
    "import tensorflow as tf\n",
    "from tensorflow import keras\n",
    "import wandb\n",
    "from wandb.keras import WandbCallback\n",
    "import os\n",
    "import re\n",
    "import sentencepiece as spm\n",
    "import numpy as np\n",
    "import matplotlib.pyplot as plt\n",
    "import seaborn as sns\n",
    "from matplotlib import font_manager, rc\n",
    "from sklearn.model_selection import train_test_split\n",
    "from tensorflow.keras.models import Sequential\n",
    "from tensorflow.keras.preprocessing.sequence import pad_sequences\n",
    "from tensorflow.keras.layers import Embedding, Conv1D, GlobalMaxPooling1D, Dense, SpatialDropout1D"
   ]
  },
  {
   "cell_type": "code",
   "execution_count": 2,
   "id": "48eeb077",
   "metadata": {},
   "outputs": [],
   "source": [
    "# 데이터 불러오기\n",
    "train_data_path = os.getenv('HOME') + \"/aiffel/dktc/data/train.csv\"\n",
    "train_data = pd.read_csv(train_data_path)"
   ]
  },
  {
   "cell_type": "code",
   "execution_count": 3,
   "id": "2fe9d65e",
   "metadata": {},
   "outputs": [],
   "source": [
    "# 클래스 레이블 변경\n",
    "train_data['class'] = train_data['class'].replace({\n",
    "    '협박 대화': 0,\n",
    "    '갈취 대화': 1,\n",
    "    '직장 내 괴롭힘 대화': 2,\n",
    "    '기타 괴롭힘 대화': 3\n",
    "})\n",
    "\n",
    "# 중복 제거\n",
    "train_data = train_data.drop_duplicates('conversation')\n",
    "\n",
    "# 텍스트 클리닝 함수\n",
    "def clean_sentence(text):\n",
    "    text = re.sub('[^가-힣ㄱ-ㅎㅏ-ㅣa-zA-Z\\s]', '', text)\n",
    "    text = text.strip()\n",
    "    return text\n",
    "\n",
    "train_data['cleaned_conversation'] = train_data['conversation'].apply(clean_sentence)\n",
    "\n",
    "# 500자 이상 제거\n",
    "filtered_df = train_data[train_data['cleaned_conversation'].apply(len) <= 500]\n",
    "\n",
    "# 불용어 리스트 정의\n",
    "stop_words = [\n",
    "    \"은\", \"는\", \"이\", \"가\", \"을\", \"를\", \"으로\", \"에\", \"에서\",\n",
    "    \"하다\", \"하는\", \"된\", \"나\", \"고\", \"와\", \"과\", \"너무\", \"있는\", \"같은\", \n",
    "    \"하는\", \"것\", \"그\", \"그리고\", \"하는\", \"하는\", \"말\", \"생각\", \"다\", \"그런\",\n",
    "    \"저\", \"제\", \"네\", \"들\", \"이다\", \"입니다\", \"한다\", \"합니다\", \"돼\", \"이런\",\n",
    "    \"저런\", \"그런\", \"할\", \"수z\", \"있는\", \"또는\", \"아니\", \"합니다\", \"있다\", \"왜\",\n",
    "    \"여기\", \"저기\", \"그렇게\", \"그러니까\", \"뭐\", \"하나\", \"때\", \"수\", \"등\", \"아주\",\n",
    "    \"너\", \"내\", \"야\", \"안\", \"니\", \"도\"\n",
    "    # 추가적인 불용어 단어 추가 가능\n",
    "]\n",
    "\n",
    "def return_words(corpus):\n",
    "    # filter stop words\n",
    "    vect = CountVectorizer(tokenizer=tokenize, stop_words=stopwords, analyzer='word')\n",
    "    bow_vect = vect.fit_transform(corpus)\n",
    "    word_list = vect.get_feature_names()  # 어떤 단어들이 들어가있는지 확인\n",
    "    count_list = bow_vect.toarray().sum(axis=0)  # 인덱스순으로 몇개의 단어가 있는지\n",
    "    word_count_dict = dict(zip(word_list, count_list))  # word, count를 key value로 묶는 것\n",
    "\n",
    "    # 빈도수가 높은 순으로 정렬\n",
    "    sorted_word_count = sorted(word_count_dict.items(), key=operator.itemgetter(1), reverse=True)\n",
    "    print(sorted_word_count)\n"
   ]
  },
  {
   "cell_type": "markdown",
   "id": "3e5965c8",
   "metadata": {},
   "source": [
    "# SentencePiece"
   ]
  },
  {
   "cell_type": "code",
   "execution_count": 4,
   "id": "5efdeb4f",
   "metadata": {},
   "outputs": [],
   "source": [
    "def generate_tokenizer(corpus,\n",
    "                        vocab_size,\n",
    "                        lang=\"ko\",\n",
    "                        pad_id=0,\n",
    "                        bos_id=1,\n",
    "                        eos_id=2,\n",
    "                        unk_id=3):\n",
    "\n",
    "    with open(f\"{lang}_corpus.txt\", \"w\") as f:\n",
    "        for sentence in corpus:\n",
    "            f.write(sentence + \"\\n\")\n",
    "    \n",
    "    model_prefix = f\"{lang}_tokenizer\"\n",
    "    \n",
    "    # Train SentencePiece tokenizer\n",
    "    spm.SentencePieceTrainer.train(\n",
    "        f\"--input={lang}_corpus.txt --model_prefix={model_prefix} --vocab_size={vocab_size}\" + \n",
    "        f\" --pad_id={pad_id} --pad_piece=[PAD]\" +\n",
    "        f\" --unk_id={unk_id} --unk_piece=[UNK]\" +\n",
    "        f\" --bos_id={bos_id} --bos_piece=[BOS]\" +\n",
    "        f\" --eos_id={eos_id} --eos_piece=[EOS]\" +\n",
    "        \" --model_type=unigram --max_sentence_length=999999\")\n",
    "\n",
    "    # Load tokenizer\n",
    "    tokenizer = spm.SentencePieceProcessor()\n",
    "    tokenizer.load(f\"{model_prefix}.model\")\n",
    "    \n",
    "    return tokenizer"
   ]
  },
  {
   "cell_type": "code",
   "execution_count": 5,
   "id": "4cdfc5f9",
   "metadata": {},
   "outputs": [
    {
     "name": "stderr",
     "output_type": "stream",
     "text": [
      "sentencepiece_trainer.cc(177) LOG(INFO) Running command: --input=ko_corpus.txt --model_prefix=ko_tokenizer --vocab_size=20000 --pad_id=0 --pad_piece=[PAD] --unk_id=3 --unk_piece=[UNK] --bos_id=1 --bos_piece=[BOS] --eos_id=2 --eos_piece=[EOS] --model_type=unigram --max_sentence_length=999999\n",
      "sentencepiece_trainer.cc(77) LOG(INFO) Starts training with : \n",
      "trainer_spec {\n",
      "  input: ko_corpus.txt\n",
      "  input_format: \n",
      "  model_prefix: ko_tokenizer\n",
      "  model_type: UNIGRAM\n",
      "  vocab_size: 20000\n",
      "  self_test_sample_size: 0\n",
      "  character_coverage: 0.9995\n",
      "  input_sentence_size: 0\n",
      "  shuffle_input_sentence: 1\n",
      "  seed_sentencepiece_size: 1000000\n",
      "  shrinking_factor: 0.75\n",
      "  max_sentence_length: 999999\n",
      "  num_threads: 16\n",
      "  num_sub_iterations: 2\n",
      "  max_sentencepiece_length: 16\n",
      "  split_by_unicode_script: 1\n",
      "  split_by_number: 1\n",
      "  split_by_whitespace: 1\n",
      "  split_digits: 0\n",
      "  treat_whitespace_as_suffix: 0\n",
      "  allow_whitespace_only_pieces: 0\n",
      "  required_chars: \n",
      "  byte_fallback: 0\n",
      "  vocabulary_output_piece_score: 1\n",
      "  train_extremely_large_corpus: 0\n",
      "  hard_vocab_limit: 1\n",
      "  use_all_vocab: 0\n",
      "  unk_id: 3\n",
      "  bos_id: 1\n",
      "  eos_id: 2\n",
      "  pad_id: 0\n",
      "  unk_piece: [UNK]\n",
      "  bos_piece: [BOS]\n",
      "  eos_piece: [EOS]\n",
      "  pad_piece: [PAD]\n",
      "  unk_surface:  ⁇ \n",
      "}\n",
      "normalizer_spec {\n",
      "  name: nmt_nfkc\n",
      "  add_dummy_prefix: 1\n",
      "  remove_extra_whitespaces: 1\n",
      "  escape_whitespaces: 1\n",
      "  normalization_rule_tsv: \n",
      "}\n",
      "denormalizer_spec {}\n",
      "trainer_interface.cc(329) LOG(INFO) SentenceIterator is not specified. Using MultiFileSentenceIterator.\n",
      "trainer_interface.cc(178) LOG(INFO) Loading corpus: ko_corpus.txt\n",
      "trainer_interface.cc(385) LOG(INFO) Loaded all 38591 sentences\n",
      "trainer_interface.cc(400) LOG(INFO) Adding meta_piece: [PAD]\n",
      "trainer_interface.cc(400) LOG(INFO) Adding meta_piece: [BOS]\n",
      "trainer_interface.cc(400) LOG(INFO) Adding meta_piece: [EOS]\n",
      "trainer_interface.cc(400) LOG(INFO) Adding meta_piece: [UNK]\n",
      "trainer_interface.cc(405) LOG(INFO) Normalizing sentences...\n",
      "trainer_interface.cc(466) LOG(INFO) all chars count=767023\n",
      "trainer_interface.cc(477) LOG(INFO) Done: 99.9501% characters are covered.\n",
      "trainer_interface.cc(487) LOG(INFO) Alphabet size=1168\n",
      "trainer_interface.cc(488) LOG(INFO) Final character coverage=0.999501\n",
      "trainer_interface.cc(520) LOG(INFO) Done! preprocessed 38573 sentences.\n",
      "unigram_model_trainer.cc(139) LOG(INFO) Making suffix array...\n",
      "unigram_model_trainer.cc(143) LOG(INFO) Extracting frequent sub strings...\n",
      "unigram_model_trainer.cc(194) LOG(INFO) Initialized 47136 seed sentencepieces\n",
      "trainer_interface.cc(526) LOG(INFO) Tokenizing input sentences with whitespace: 38573\n",
      "trainer_interface.cc(537) LOG(INFO) Done! 48885\n",
      "unigram_model_trainer.cc(489) LOG(INFO) Using 48885 sentences for EM training\n",
      "unigram_model_trainer.cc(505) LOG(INFO) EM sub_iter=0 size=25966 obj=11.4566 num_tokens=93124 num_tokens/piece=3.58638\n",
      "unigram_model_trainer.cc(505) LOG(INFO) EM sub_iter=1 size=23533 obj=10.7054 num_tokens=93457 num_tokens/piece=3.97132\n",
      "unigram_model_trainer.cc(505) LOG(INFO) EM sub_iter=0 size=21983 obj=10.7325 num_tokens=94535 num_tokens/piece=4.30037\n",
      "unigram_model_trainer.cc(505) LOG(INFO) EM sub_iter=1 size=21878 obj=10.7171 num_tokens=94603 num_tokens/piece=4.32412\n",
      "trainer_interface.cc(615) LOG(INFO) Saving model: ko_tokenizer.model\n",
      "trainer_interface.cc(626) LOG(INFO) Saving vocabs: ko_tokenizer.vocab\n"
     ]
    },
    {
     "name": "stdout",
     "output_type": "stream",
     "text": [
      "(3000, 500) (3000,)\n",
      "(750, 500) (750,)\n",
      "[[   25     5  2775 ...     0     0     0]\n",
      " [13158   281   610 ...     0     0     0]\n",
      " [    5   908 17289 ...     0     0     0]\n",
      " ...\n",
      " [  124   267   261 ...     0     0     0]\n",
      " [ 9990   271 10732 ...     0     0     0]\n",
      " [ 4871     8   550 ...     0     0     0]]\n"
     ]
    }
   ],
   "source": [
    "sentence_train = filtered_df['cleaned_conversation']\n",
    "y_train = filtered_df['class']\n",
    "\n",
    "VOCAB_SIZE = 20000\n",
    "tokenizer = generate_tokenizer(sentence_train, VOCAB_SIZE)\n",
    "\n",
    "# 토크나이징\n",
    "tokenized_sentences = [tokenizer.encode_as_ids(sentence) for sentence in sentence_train]\n",
    "\n",
    "# 패딩처리\n",
    "padding_train = pad_sequences(tokenized_sentences, maxlen=500, padding='post')\n",
    "\n",
    "# 데이터 분할\n",
    "X_train, X_val, y_train, y_val = train_test_split(padding_train, y_train, test_size=0.20, random_state=42)\n",
    "print(X_train.shape, y_train.shape)\n",
    "print(X_val.shape, y_val.shape)\n",
    "print(padding_train)"
   ]
  },
  {
   "cell_type": "code",
   "execution_count": 6,
   "id": "c77fdd75",
   "metadata": {},
   "outputs": [
    {
     "name": "stdout",
     "output_type": "stream",
     "text": [
      "Model: \"sequential\"\n",
      "_________________________________________________________________\n",
      "Layer (type)                 Output Shape              Param #   \n",
      "=================================================================\n",
      "embedding (Embedding)        (None, 500, 256)          12800000  \n",
      "_________________________________________________________________\n",
      "conv1d (Conv1D)              (None, 496, 128)          163968    \n",
      "_________________________________________________________________\n",
      "global_max_pooling1d (Global (None, 128)               0         \n",
      "_________________________________________________________________\n",
      "dense (Dense)                (None, 64)                8256      \n",
      "_________________________________________________________________\n",
      "dense_1 (Dense)              (None, 4)                 260       \n",
      "=================================================================\n",
      "Total params: 12,972,484\n",
      "Trainable params: 12,972,484\n",
      "Non-trainable params: 0\n",
      "_________________________________________________________________\n",
      "Epoch 1/10\n",
      "94/94 [==============================] - 5s 17ms/step - loss: 1.1827 - accuracy: 0.4830 - val_loss: 0.9111 - val_accuracy: 0.6533\n",
      "Epoch 2/10\n",
      "94/94 [==============================] - 1s 14ms/step - loss: 0.4197 - accuracy: 0.8850 - val_loss: 0.4951 - val_accuracy: 0.8107\n",
      "Epoch 3/10\n",
      "94/94 [==============================] - 1s 14ms/step - loss: 0.0355 - accuracy: 0.9967 - val_loss: 0.4626 - val_accuracy: 0.8253\n",
      "Epoch 4/10\n",
      "94/94 [==============================] - 1s 14ms/step - loss: 0.0048 - accuracy: 1.0000 - val_loss: 0.4628 - val_accuracy: 0.8347\n",
      "Epoch 5/10\n",
      "94/94 [==============================] - 1s 14ms/step - loss: 0.0024 - accuracy: 1.0000 - val_loss: 0.4655 - val_accuracy: 0.8387\n",
      "Epoch 6/10\n",
      "94/94 [==============================] - 1s 14ms/step - loss: 0.0016 - accuracy: 1.0000 - val_loss: 0.4698 - val_accuracy: 0.8387\n",
      "Epoch 7/10\n",
      "94/94 [==============================] - 1s 14ms/step - loss: 0.0011 - accuracy: 1.0000 - val_loss: 0.4733 - val_accuracy: 0.8373\n",
      "Epoch 8/10\n",
      "94/94 [==============================] - 1s 14ms/step - loss: 8.1708e-04 - accuracy: 1.0000 - val_loss: 0.4772 - val_accuracy: 0.8387\n",
      "Epoch 9/10\n",
      "94/94 [==============================] - 1s 14ms/step - loss: 6.3378e-04 - accuracy: 1.0000 - val_loss: 0.4808 - val_accuracy: 0.8387\n",
      "Epoch 10/10\n",
      "94/94 [==============================] - 1s 14ms/step - loss: 5.0608e-04 - accuracy: 1.0000 - val_loss: 0.4840 - val_accuracy: 0.8387\n"
     ]
    }
   ],
   "source": [
    "# 모델 파라미터 설정\n",
    "MAX_NB_WORDS = 50000\n",
    "MAX_SEQUENCE_LENGTH = 500\n",
    "EMBEDDING_DIM = 256\n",
    "\n",
    "# 1D CNN 모델 구성\n",
    "model = Sequential()\n",
    "model.add(Embedding(MAX_NB_WORDS, EMBEDDING_DIM, input_length=MAX_SEQUENCE_LENGTH))\n",
    "model.add(Conv1D(128, 5, activation='relu'))\n",
    "model.add(GlobalMaxPooling1D())\n",
    "model.add(Dense(64, activation='relu'))\n",
    "model.add(Dense(4, activation='softmax'))\n",
    "\n",
    "# 모델 컴파일\n",
    "model.compile(optimizer='adam', loss='sparse_categorical_crossentropy', metrics=['accuracy'])\n",
    "\n",
    "model.summary()\n",
    "\n",
    "# 모델 컴파일 및 학습\n",
    "model.compile(optimizer='adam', loss='sparse_categorical_crossentropy', metrics=['accuracy'])\n",
    "history = model.fit(X_train, y_train, epochs=10, batch_size=32, validation_data=(X_val, y_val))\n"
   ]
  },
  {
   "cell_type": "code",
   "execution_count": 7,
   "id": "f321715c",
   "metadata": {},
   "outputs": [
    {
     "data": {
      "image/png": "[encoded data removed]",
      "text/plain": [
       "<Figure size 864x288 with 2 Axes>"
      ]
     },
     "metadata": {
      "needs_background": "light"
     },
     "output_type": "display_data"
    }
   ],
   "source": [
    "# 정확도에 대한 그래프\n",
    "plt.figure(figsize=(12, 4))\n",
    "\n",
    "# 학습 및 검증 정확도\n",
    "plt.subplot(1, 2, 1)\n",
    "plt.plot(history.history['accuracy'], label='Train Accuracy')\n",
    "plt.plot(history.history['val_accuracy'], label='Validation Accuracy')\n",
    "plt.title('Train and Validation Accuracy')\n",
    "plt.xlabel('Epochs')\n",
    "plt.ylabel('Accuracy')\n",
    "plt.legend()\n",
    "\n",
    "# 손실에 대한 그래프\n",
    "plt.subplot(1, 2, 2)\n",
    "plt.plot(history.history['loss'], label='Train Loss')\n",
    "plt.plot(history.history['val_loss'], label='Validation Loss')\n",
    "plt.title('Train and Validation Loss')\n",
    "plt.xlabel('Epochs')\n",
    "plt.ylabel('Loss')\n",
    "plt.legend()\n",
    "\n",
    "plt.tight_layout()\n",
    "plt.show()\n"
   ]
  },
  {
   "cell_type": "code",
   "execution_count": 8,
   "id": "53f4b15e",
   "metadata": {},
   "outputs": [
    {
     "data": {
      "text/html": [
       "<div>\n",
       "<style scoped>\n",
       "    .dataframe tbody tr th:only-of-type {\n",
       "        vertical-align: middle;\n",
       "    }\n",
       "\n",
       "    .dataframe tbody tr th {\n",
       "        vertical-align: top;\n",
       "    }\n",
       "\n",
       "    .dataframe thead th {\n",
       "        text-align: right;\n",
       "    }\n",
       "</style>\n",
       "<table border=\"1\" class=\"dataframe\">\n",
       "  <thead>\n",
       "    <tr style=\"text-align: right;\">\n",
       "      <th></th>\n",
       "      <th>text</th>\n",
       "    </tr>\n",
       "  </thead>\n",
       "  <tbody>\n",
       "    <tr>\n",
       "      <th>t_000</th>\n",
       "      <td>아가씨 담배한갑주소 네 4500원입니다 어 네 지갑어디갔지 에이 버스에서 잃어버렸나...</td>\n",
       "    </tr>\n",
       "    <tr>\n",
       "      <th>t_001</th>\n",
       "      <td>우리팀에서 다른팀으로 갈 사람 없나? 그럼 영지씨가 가는건 어때?  네? 제가요? ...</td>\n",
       "    </tr>\n",
       "    <tr>\n",
       "      <th>t_002</th>\n",
       "      <td>너 오늘 그게 뭐야 네 제가 뭘 잘못했나요.? 제대로 좀 하지 네 똑바로 좀 하지 ...</td>\n",
       "    </tr>\n",
       "    <tr>\n",
       "      <th>t_004</th>\n",
       "      <td>아무튼 앞으로 니가 내 와이파이야. .응 와이파이 온. 켰어. 반말? 주인님이라고도...</td>\n",
       "    </tr>\n",
       "    <tr>\n",
       "      <th>t_005</th>\n",
       "      <td>그러니까 빨리 말해. 선생님 제발 살려주십시오.  비밀번호 틀릴 때마다 손톱 하나씩...</td>\n",
       "    </tr>\n",
       "    <tr>\n",
       "      <th>...</th>\n",
       "      <td>...</td>\n",
       "    </tr>\n",
       "    <tr>\n",
       "      <th>t_495</th>\n",
       "      <td>미나씨 휴가 결제 올리기 전에 저랑 상의하라고 말한거 기억해요? 네 합니다. 보고서...</td>\n",
       "    </tr>\n",
       "    <tr>\n",
       "      <th>t_496</th>\n",
       "      <td>교수님 제 논문에 제 이름이 없나요?  아 무슨 논문말이야?  지난 번 냈던 논문이...</td>\n",
       "    </tr>\n",
       "    <tr>\n",
       "      <th>t_497</th>\n",
       "      <td>야 너  네 저요? 그래 너 왜요 돈좀 줘봐  돈 없어요 돈이 왜 없어 지갑은 폼이...</td>\n",
       "    </tr>\n",
       "    <tr>\n",
       "      <th>t_498</th>\n",
       "      <td>야 너 빨리 안 뛰어와? 너 이 환자 제대로 봤어 안 봤어 어제 저녁부터 계속 보다...</td>\n",
       "    </tr>\n",
       "    <tr>\n",
       "      <th>t_499</th>\n",
       "      <td>엄마 저 그 돈 안해주시면 정말 큰일나요.  이유도 말하지 않고. 몇번째니 경민아....</td>\n",
       "    </tr>\n",
       "  </tbody>\n",
       "</table>\n",
       "<p>400 rows × 1 columns</p>\n",
       "</div>"
      ],
      "text/plain": [
       "                                                    text\n",
       "t_000  아가씨 담배한갑주소 네 4500원입니다 어 네 지갑어디갔지 에이 버스에서 잃어버렸나...\n",
       "t_001  우리팀에서 다른팀으로 갈 사람 없나? 그럼 영지씨가 가는건 어때?  네? 제가요? ...\n",
       "t_002  너 오늘 그게 뭐야 네 제가 뭘 잘못했나요.? 제대로 좀 하지 네 똑바로 좀 하지 ...\n",
       "t_004  아무튼 앞으로 니가 내 와이파이야. .응 와이파이 온. 켰어. 반말? 주인님이라고도...\n",
       "t_005  그러니까 빨리 말해. 선생님 제발 살려주십시오.  비밀번호 틀릴 때마다 손톱 하나씩...\n",
       "...                                                  ...\n",
       "t_495  미나씨 휴가 결제 올리기 전에 저랑 상의하라고 말한거 기억해요? 네 합니다. 보고서...\n",
       "t_496  교수님 제 논문에 제 이름이 없나요?  아 무슨 논문말이야?  지난 번 냈던 논문이...\n",
       "t_497  야 너  네 저요? 그래 너 왜요 돈좀 줘봐  돈 없어요 돈이 왜 없어 지갑은 폼이...\n",
       "t_498  야 너 빨리 안 뛰어와? 너 이 환자 제대로 봤어 안 봤어 어제 저녁부터 계속 보다...\n",
       "t_499  엄마 저 그 돈 안해주시면 정말 큰일나요.  이유도 말하지 않고. 몇번째니 경민아....\n",
       "\n",
       "[400 rows x 1 columns]"
      ]
     },
     "execution_count": 8,
     "metadata": {},
     "output_type": "execute_result"
    }
   ],
   "source": [
    "test_data_path =\"~/data/test.json\"\n",
    "test = pd.read_json(test_data_path)\n",
    "test = test.T\n",
    "test"
   ]
  },
  {
   "cell_type": "code",
   "execution_count": 9,
   "id": "277c2ea2",
   "metadata": {},
   "outputs": [],
   "source": [
    "test['cleaned_conversation'] = test['text'].apply(clean_sentence)\n",
    "filtered_test=test\n",
    "test_sentence = filtered_test['cleaned_conversation']"
   ]
  },
  {
   "cell_type": "code",
   "execution_count": 10,
   "id": "c8ef62f5",
   "metadata": {},
   "outputs": [
    {
     "name": "stdout",
     "output_type": "stream",
     "text": [
      "WARNING:tensorflow:Model was constructed with shape (None, 500) for input KerasTensor(type_spec=TensorSpec(shape=(None, 500), dtype=tf.float32, name='embedding_input'), name='embedding_input', description=\"created by layer 'embedding_input'\"), but it was called on an input with incompatible shape (None, 293).\n"
     ]
    }
   ],
   "source": [
    "# 패딩처리\n",
    "padding_test = tf.keras.preprocessing.sequence.pad_sequences(\n",
    "    [tokenizer.encode_as_ids(sentence) for sentence in test_sentence],\n",
    "    padding='post'\n",
    ")\n",
    "prediction = model.predict(padding_test)\n",
    "prediction\n",
    "predicted_labels = np.argmax(prediction, axis=1)"
   ]
  },
  {
   "cell_type": "code",
   "execution_count": 13,
   "id": "0eb1fa93",
   "metadata": {},
   "outputs": [
    {
     "data": {
      "text/html": [
       "<div>\n",
       "<style scoped>\n",
       "    .dataframe tbody tr th:only-of-type {\n",
       "        vertical-align: middle;\n",
       "    }\n",
       "\n",
       "    .dataframe tbody tr th {\n",
       "        vertical-align: top;\n",
       "    }\n",
       "\n",
       "    .dataframe thead th {\n",
       "        text-align: right;\n",
       "    }\n",
       "</style>\n",
       "<table border=\"1\" class=\"dataframe\">\n",
       "  <thead>\n",
       "    <tr style=\"text-align: right;\">\n",
       "      <th></th>\n",
       "      <th>file_name</th>\n",
       "      <th>class</th>\n",
       "    </tr>\n",
       "  </thead>\n",
       "  <tbody>\n",
       "    <tr>\n",
       "      <th>0</th>\n",
       "      <td>t_000</td>\n",
       "      <td>NaN</td>\n",
       "    </tr>\n",
       "    <tr>\n",
       "      <th>1</th>\n",
       "      <td>t_001</td>\n",
       "      <td>NaN</td>\n",
       "    </tr>\n",
       "    <tr>\n",
       "      <th>2</th>\n",
       "      <td>t_002</td>\n",
       "      <td>NaN</td>\n",
       "    </tr>\n",
       "    <tr>\n",
       "      <th>3</th>\n",
       "      <td>t_004</td>\n",
       "      <td>NaN</td>\n",
       "    </tr>\n",
       "    <tr>\n",
       "      <th>4</th>\n",
       "      <td>t_005</td>\n",
       "      <td>NaN</td>\n",
       "    </tr>\n",
       "  </tbody>\n",
       "</table>\n",
       "</div>"
      ],
      "text/plain": [
       "  file_name  class\n",
       "0     t_000    NaN\n",
       "1     t_001    NaN\n",
       "2     t_002    NaN\n",
       "3     t_004    NaN\n",
       "4     t_005    NaN"
      ]
     },
     "execution_count": 13,
     "metadata": {},
     "output_type": "execute_result"
    }
   ],
   "source": [
    "from os.path import join\n",
    "\n",
    "data_dir = os.getenv('HOME')+'/aiffel/dktc/data'\n",
    "\n",
    "submission_path = join(data_dir, 'submission.csv')\n",
    "submission = pd.read_csv(submission_path)\n",
    "submission.head()"
   ]
  },
  {
   "cell_type": "code",
   "execution_count": 14,
   "id": "fd2b7976",
   "metadata": {},
   "outputs": [
    {
     "data": {
      "text/html": [
       "<div>\n",
       "<style scoped>\n",
       "    .dataframe tbody tr th:only-of-type {\n",
       "        vertical-align: middle;\n",
       "    }\n",
       "\n",
       "    .dataframe tbody tr th {\n",
       "        vertical-align: top;\n",
       "    }\n",
       "\n",
       "    .dataframe thead th {\n",
       "        text-align: right;\n",
       "    }\n",
       "</style>\n",
       "<table border=\"1\" class=\"dataframe\">\n",
       "  <thead>\n",
       "    <tr style=\"text-align: right;\">\n",
       "      <th></th>\n",
       "      <th>file_name</th>\n",
       "      <th>class</th>\n",
       "    </tr>\n",
       "  </thead>\n",
       "  <tbody>\n",
       "    <tr>\n",
       "      <th>0</th>\n",
       "      <td>t_000</td>\n",
       "      <td>1</td>\n",
       "    </tr>\n",
       "    <tr>\n",
       "      <th>1</th>\n",
       "      <td>t_001</td>\n",
       "      <td>2</td>\n",
       "    </tr>\n",
       "    <tr>\n",
       "      <th>2</th>\n",
       "      <td>t_002</td>\n",
       "      <td>2</td>\n",
       "    </tr>\n",
       "    <tr>\n",
       "      <th>3</th>\n",
       "      <td>t_004</td>\n",
       "      <td>3</td>\n",
       "    </tr>\n",
       "    <tr>\n",
       "      <th>4</th>\n",
       "      <td>t_005</td>\n",
       "      <td>0</td>\n",
       "    </tr>\n",
       "  </tbody>\n",
       "</table>\n",
       "</div>"
      ],
      "text/plain": [
       "  file_name  class\n",
       "0     t_000      1\n",
       "1     t_001      2\n",
       "2     t_002      2\n",
       "3     t_004      3\n",
       "4     t_005      0"
      ]
     },
     "execution_count": 14,
     "metadata": {},
     "output_type": "execute_result"
    }
   ],
   "source": [
    "submission['class'] = predicted_labels\n",
    "submission.head()"
   ]
  },
  {
   "cell_type": "code",
   "execution_count": 15,
   "id": "1beab68d",
   "metadata": {},
   "outputs": [],
   "source": [
    "file_path = \"/aiffel/submission_sp.csv\"\n",
    "\n",
    "# Save the DataFrame to a CSV file\n",
    "submission.to_csv(file_path, index=False) "
   ]
  },
  {
   "cell_type": "markdown",
   "id": "d7ee72fd",
   "metadata": {},
   "source": [
    "# Mecab"
   ]
  },
  {
   "cell_type": "code",
   "execution_count": 16,
   "id": "087d1e61",
   "metadata": {},
   "outputs": [
    {
     "name": "stderr",
     "output_type": "stream",
     "text": [
      "/tmp/ipykernel_10062/3254917968.py:11: SettingWithCopyWarning: \n",
      "A value is trying to be set on a copy of a slice from a DataFrame.\n",
      "Try using .loc[row_indexer,col_indexer] = value instead\n",
      "\n",
      "See the caveats in the documentation: https://pandas.pydata.org/pandas-docs/stable/user_guide/indexing.html#returning-a-view-versus-a-copy\n",
      "  filtered_df['tokenized_conversation'] = filtered_df['cleaned_conversation'].apply(mecab_tokenize)\n",
      "/tmp/ipykernel_10062/3254917968.py:12: SettingWithCopyWarning: \n",
      "A value is trying to be set on a copy of a slice from a DataFrame.\n",
      "Try using .loc[row_indexer,col_indexer] = value instead\n",
      "\n",
      "See the caveats in the documentation: https://pandas.pydata.org/pandas-docs/stable/user_guide/indexing.html#returning-a-view-versus-a-copy\n",
      "  filtered_df['joined_tokens'] = filtered_df['tokenized_conversation'].apply(lambda x: ' '.join(x))\n"
     ]
    },
    {
     "name": "stdout",
     "output_type": "stream",
     "text": [
      "(3000, 500) (3000,)\n",
      "(750, 500) (750,)\n",
      "[[   25  2775   638 ...     0     0     0]\n",
      " [  832  3493   610 ...     0     0     0]\n",
      " [  908  8969    48 ...     0     0     0]\n",
      " ...\n",
      " [  267  1536   133 ...     0     0     0]\n",
      " [  365  2011     4 ...     0     0     0]\n",
      " [11147  1972   267 ...     0     0     0]]\n",
      "Model: \"sequential_1\"\n",
      "_________________________________________________________________\n",
      "Layer (type)                 Output Shape              Param #   \n",
      "=================================================================\n",
      "embedding_1 (Embedding)      (None, 500, 256)          12800000  \n",
      "_________________________________________________________________\n",
      "conv1d_1 (Conv1D)            (None, 496, 128)          163968    \n",
      "_________________________________________________________________\n",
      "global_max_pooling1d_1 (Glob (None, 128)               0         \n",
      "_________________________________________________________________\n",
      "dense_2 (Dense)              (None, 64)                8256      \n",
      "_________________________________________________________________\n",
      "dense_3 (Dense)              (None, 4)                 260       \n",
      "=================================================================\n",
      "Total params: 12,972,484\n",
      "Trainable params: 12,972,484\n",
      "Non-trainable params: 0\n",
      "_________________________________________________________________\n",
      "Epoch 1/10\n",
      "94/94 [==============================] - 2s 16ms/step - loss: 1.0599 - accuracy: 0.5833 - val_loss: 0.7131 - val_accuracy: 0.7493\n",
      "Epoch 2/10\n",
      "94/94 [==============================] - 1s 14ms/step - loss: 0.4210 - accuracy: 0.8593 - val_loss: 0.4575 - val_accuracy: 0.8400\n",
      "Epoch 3/10\n",
      "94/94 [==============================] - 1s 14ms/step - loss: 0.1269 - accuracy: 0.9730 - val_loss: 0.4281 - val_accuracy: 0.8680\n",
      "Epoch 4/10\n",
      "94/94 [==============================] - 1s 14ms/step - loss: 0.0245 - accuracy: 0.9990 - val_loss: 0.4572 - val_accuracy: 0.8640\n",
      "Epoch 5/10\n",
      "94/94 [==============================] - 1s 14ms/step - loss: 0.0068 - accuracy: 1.0000 - val_loss: 0.4794 - val_accuracy: 0.8640\n",
      "Epoch 6/10\n",
      "94/94 [==============================] - 1s 14ms/step - loss: 0.0036 - accuracy: 1.0000 - val_loss: 0.4958 - val_accuracy: 0.8640\n",
      "Epoch 7/10\n",
      "94/94 [==============================] - 1s 14ms/step - loss: 0.0023 - accuracy: 1.0000 - val_loss: 0.5108 - val_accuracy: 0.8640\n",
      "Epoch 8/10\n",
      "94/94 [==============================] - 1s 14ms/step - loss: 0.0017 - accuracy: 1.0000 - val_loss: 0.5233 - val_accuracy: 0.8640\n",
      "Epoch 9/10\n",
      "94/94 [==============================] - 1s 14ms/step - loss: 0.0012 - accuracy: 1.0000 - val_loss: 0.5327 - val_accuracy: 0.8653\n",
      "Epoch 10/10\n",
      "94/94 [==============================] - 1s 14ms/step - loss: 9.6523e-04 - accuracy: 1.0000 - val_loss: 0.5428 - val_accuracy: 0.8640\n"
     ]
    },
    {
     "data": {
      "image/png": "[encoded data removed]",
      "text/plain": [
       "<Figure size 864x288 with 2 Axes>"
      ]
     },
     "metadata": {
      "needs_background": "light"
     },
     "output_type": "display_data"
    }
   ],
   "source": [
    "from konlpy.tag import Mecab\n",
    "\n",
    "# Mecab 초기화\n",
    "mecab = Mecab()\n",
    "\n",
    "def mecab_tokenize(corpus):\n",
    "    return [word for word in mecab.morphs(corpus) if word not in stop_words]\n",
    "\n",
    "\n",
    "# 데이터 토큰화\n",
    "filtered_df['tokenized_conversation'] = filtered_df['cleaned_conversation'].apply(mecab_tokenize)\n",
    "filtered_df['joined_tokens'] = filtered_df['tokenized_conversation'].apply(lambda x: ' '.join(x))\n",
    "\n",
    "# 데이터와 레이블 설정\n",
    "sentence_train = filtered_df['joined_tokens']\n",
    "y_train = filtered_df['class']\n",
    "\n",
    "# 토크나이징\n",
    "tokenized_sentences = [tokenizer.encode_as_ids(sentence) for sentence in sentence_train]\n",
    "\n",
    "# 패딩처리\n",
    "padding_train = pad_sequences(tokenized_sentences, maxlen=500, padding='post')\n",
    "\n",
    "# 데이터 분할\n",
    "X_train, X_val, y_train, y_val = train_test_split(padding_train, y_train, test_size=0.20, random_state=42)\n",
    "print(X_train.shape, y_train.shape)\n",
    "print(X_val.shape, y_val.shape)\n",
    "print(padding_train)\n",
    "\n",
    "# 모델 파라미터 설정\n",
    "MAX_NB_WORDS = 50000\n",
    "MAX_SEQUENCE_LENGTH = 500\n",
    "EMBEDDING_DIM = 256\n",
    "\n",
    "# 1D CNN 모델 구성\n",
    "model = Sequential()\n",
    "model.add(Embedding(MAX_NB_WORDS, EMBEDDING_DIM, input_length=MAX_SEQUENCE_LENGTH))\n",
    "model.add(Conv1D(128, 5, activation='relu'))\n",
    "model.add(GlobalMaxPooling1D())\n",
    "model.add(Dense(64, activation='relu'))\n",
    "model.add(Dense(4, activation='softmax'))\n",
    "\n",
    "# 모델 컴파일\n",
    "model.compile(optimizer='adam', loss='sparse_categorical_crossentropy', metrics=['accuracy'])\n",
    "\n",
    "model.summary()\n",
    "\n",
    "# 모델 컴파일 및 학습\n",
    "model.compile(optimizer='adam', loss='sparse_categorical_crossentropy', metrics=['accuracy'])\n",
    "history = model.fit(X_train, y_train, epochs=10, batch_size=32, validation_data=(X_val, y_val))\n",
    "\n",
    "# 결과 시각화 (정확도 및 손실)\n",
    "plt.figure(figsize=(12, 4))\n",
    "plt.subplot(1, 2, 1)\n",
    "plt.plot(history.history['accuracy'], label='Train Accuracy')\n",
    "plt.plot(history.history['val_accuracy'], label='Validation Accuracy')\n",
    "plt.title('Train and Validation Accuracy')\n",
    "plt.xlabel('Epochs')\n",
    "plt.ylabel('Accuracy')\n",
    "plt.legend()\n",
    "\n",
    "plt.subplot(1, 2, 2)\n",
    "plt.plot(history.history['loss'], label='Train Loss')\n",
    "plt.plot(history.history['val_loss'], label='Validation Loss')\n",
    "plt.title('Train and Validation Loss')\n",
    "plt.xlabel('Epochs')\n",
    "plt.ylabel('Loss')\n",
    "plt.legend()\n",
    "\n",
    "plt.tight_layout()\n",
    "plt.show()"
   ]
  },
  {
   "cell_type": "code",
   "execution_count": 17,
   "id": "bd4e3bf3",
   "metadata": {},
   "outputs": [
    {
     "name": "stdout",
     "output_type": "stream",
     "text": [
      "WARNING:tensorflow:Model was constructed with shape (None, 500) for input KerasTensor(type_spec=TensorSpec(shape=(None, 500), dtype=tf.float32, name='embedding_1_input'), name='embedding_1_input', description=\"created by layer 'embedding_1_input'\"), but it was called on an input with incompatible shape (None, 293).\n"
     ]
    },
    {
     "data": {
      "text/html": [
       "<div>\n",
       "<style scoped>\n",
       "    .dataframe tbody tr th:only-of-type {\n",
       "        vertical-align: middle;\n",
       "    }\n",
       "\n",
       "    .dataframe tbody tr th {\n",
       "        vertical-align: top;\n",
       "    }\n",
       "\n",
       "    .dataframe thead th {\n",
       "        text-align: right;\n",
       "    }\n",
       "</style>\n",
       "<table border=\"1\" class=\"dataframe\">\n",
       "  <thead>\n",
       "    <tr style=\"text-align: right;\">\n",
       "      <th></th>\n",
       "      <th>file_name</th>\n",
       "      <th>class</th>\n",
       "    </tr>\n",
       "  </thead>\n",
       "  <tbody>\n",
       "    <tr>\n",
       "      <th>0</th>\n",
       "      <td>t_000</td>\n",
       "      <td>NaN</td>\n",
       "    </tr>\n",
       "    <tr>\n",
       "      <th>1</th>\n",
       "      <td>t_001</td>\n",
       "      <td>NaN</td>\n",
       "    </tr>\n",
       "    <tr>\n",
       "      <th>2</th>\n",
       "      <td>t_002</td>\n",
       "      <td>NaN</td>\n",
       "    </tr>\n",
       "    <tr>\n",
       "      <th>3</th>\n",
       "      <td>t_004</td>\n",
       "      <td>NaN</td>\n",
       "    </tr>\n",
       "    <tr>\n",
       "      <th>4</th>\n",
       "      <td>t_005</td>\n",
       "      <td>NaN</td>\n",
       "    </tr>\n",
       "  </tbody>\n",
       "</table>\n",
       "</div>"
      ],
      "text/plain": [
       "  file_name  class\n",
       "0     t_000    NaN\n",
       "1     t_001    NaN\n",
       "2     t_002    NaN\n",
       "3     t_004    NaN\n",
       "4     t_005    NaN"
      ]
     },
     "execution_count": 17,
     "metadata": {},
     "output_type": "execute_result"
    }
   ],
   "source": [
    "test['cleaned_conversation'] = test['text'].apply(clean_sentence)\n",
    "\n",
    "filtered_test=test\n",
    "\n",
    "test_sentence = filtered_test['cleaned_conversation']\n",
    "\n",
    "# 패딩처리\n",
    "padding_test = tf.keras.preprocessing.sequence.pad_sequences(\n",
    "    [tokenizer.encode_as_ids(sentence) for sentence in test_sentence],\n",
    "    padding='post'\n",
    ")\n",
    "prediction = model.predict(padding_test)\n",
    "prediction\n",
    "predicted_labels = np.argmax(prediction, axis=1)\n",
    "\n",
    "submission_path = join(data_dir, 'submission.csv')\n",
    "submission = pd.read_csv(submission_path)\n",
    "submission.head()"
   ]
  },
  {
   "cell_type": "code",
   "execution_count": 18,
   "id": "ce82ee11",
   "metadata": {},
   "outputs": [
    {
     "data": {
      "text/html": [
       "<div>\n",
       "<style scoped>\n",
       "    .dataframe tbody tr th:only-of-type {\n",
       "        vertical-align: middle;\n",
       "    }\n",
       "\n",
       "    .dataframe tbody tr th {\n",
       "        vertical-align: top;\n",
       "    }\n",
       "\n",
       "    .dataframe thead th {\n",
       "        text-align: right;\n",
       "    }\n",
       "</style>\n",
       "<table border=\"1\" class=\"dataframe\">\n",
       "  <thead>\n",
       "    <tr style=\"text-align: right;\">\n",
       "      <th></th>\n",
       "      <th>file_name</th>\n",
       "      <th>class</th>\n",
       "    </tr>\n",
       "  </thead>\n",
       "  <tbody>\n",
       "    <tr>\n",
       "      <th>0</th>\n",
       "      <td>t_000</td>\n",
       "      <td>1</td>\n",
       "    </tr>\n",
       "    <tr>\n",
       "      <th>1</th>\n",
       "      <td>t_001</td>\n",
       "      <td>3</td>\n",
       "    </tr>\n",
       "    <tr>\n",
       "      <th>2</th>\n",
       "      <td>t_002</td>\n",
       "      <td>3</td>\n",
       "    </tr>\n",
       "    <tr>\n",
       "      <th>3</th>\n",
       "      <td>t_004</td>\n",
       "      <td>3</td>\n",
       "    </tr>\n",
       "    <tr>\n",
       "      <th>4</th>\n",
       "      <td>t_005</td>\n",
       "      <td>0</td>\n",
       "    </tr>\n",
       "  </tbody>\n",
       "</table>\n",
       "</div>"
      ],
      "text/plain": [
       "  file_name  class\n",
       "0     t_000      1\n",
       "1     t_001      3\n",
       "2     t_002      3\n",
       "3     t_004      3\n",
       "4     t_005      0"
      ]
     },
     "execution_count": 18,
     "metadata": {},
     "output_type": "execute_result"
    }
   ],
   "source": [
    "submission['class'] = predicted_labels\n",
    "submission.head()"
   ]
  },
  {
   "cell_type": "code",
   "execution_count": 19,
   "id": "f973fa1c",
   "metadata": {},
   "outputs": [],
   "source": [
    "file_path = \"/aiffel/submission_mecab.csv\"\n",
    "\n",
    "# Save the DataFrame to a CSV file\n",
    "submission.to_csv(file_path, index=False) "
   ]
  },
  {
   "cell_type": "markdown",
   "id": "63377963",
   "metadata": {},
   "source": [
    "# OKT"
   ]
  },
  {
   "cell_type": "code",
   "execution_count": 20,
   "id": "2295e746",
   "metadata": {},
   "outputs": [
    {
     "name": "stderr",
     "output_type": "stream",
     "text": [
      "/tmp/ipykernel_10062/891791395.py:10: SettingWithCopyWarning: \n",
      "A value is trying to be set on a copy of a slice from a DataFrame.\n",
      "Try using .loc[row_indexer,col_indexer] = value instead\n",
      "\n",
      "See the caveats in the documentation: https://pandas.pydata.org/pandas-docs/stable/user_guide/indexing.html#returning-a-view-versus-a-copy\n",
      "  filtered_df['tokenized_conversation'] = filtered_df['cleaned_conversation'].apply(okt_tokenize)\n",
      "/tmp/ipykernel_10062/891791395.py:11: SettingWithCopyWarning: \n",
      "A value is trying to be set on a copy of a slice from a DataFrame.\n",
      "Try using .loc[row_indexer,col_indexer] = value instead\n",
      "\n",
      "See the caveats in the documentation: https://pandas.pydata.org/pandas-docs/stable/user_guide/indexing.html#returning-a-view-versus-a-copy\n",
      "  filtered_df['joined_tokens'] = filtered_df['tokenized_conversation'].apply(lambda x: ' '.join(x))\n"
     ]
    },
    {
     "name": "stdout",
     "output_type": "stream",
     "text": [
      "(3000, 500) (3000,)\n",
      "(750, 500) (750,)\n",
      "[[   25  2775   638 ...     0     0     0]\n",
      " [  832  3493   610 ...     0     0     0]\n",
      " [  908 17289   449 ...     0     0     0]\n",
      " ...\n",
      " [  267   133   548 ...     0     0     0]\n",
      " [  365  2011     4 ...     0     0     0]\n",
      " [11147     4 17686 ...     0     0     0]]\n",
      "Model: \"sequential_2\"\n",
      "_________________________________________________________________\n",
      "Layer (type)                 Output Shape              Param #   \n",
      "=================================================================\n",
      "embedding_2 (Embedding)      (None, 500, 256)          12800000  \n",
      "_________________________________________________________________\n",
      "conv1d_2 (Conv1D)            (None, 496, 128)          163968    \n",
      "_________________________________________________________________\n",
      "global_max_pooling1d_2 (Glob (None, 128)               0         \n",
      "_________________________________________________________________\n",
      "dense_4 (Dense)              (None, 64)                8256      \n",
      "_________________________________________________________________\n",
      "dense_5 (Dense)              (None, 4)                 260       \n",
      "=================================================================\n",
      "Total params: 12,972,484\n",
      "Trainable params: 12,972,484\n",
      "Non-trainable params: 0\n",
      "_________________________________________________________________\n",
      "Epoch 1/10\n",
      "94/94 [==============================] - 2s 16ms/step - loss: 1.1193 - accuracy: 0.5370 - val_loss: 0.7042 - val_accuracy: 0.7680\n",
      "Epoch 2/10\n",
      "94/94 [==============================] - 1s 14ms/step - loss: 0.3665 - accuracy: 0.8833 - val_loss: 0.4705 - val_accuracy: 0.8453\n",
      "Epoch 3/10\n",
      "94/94 [==============================] - 1s 14ms/step - loss: 0.0506 - accuracy: 0.9943 - val_loss: 0.4558 - val_accuracy: 0.8400\n",
      "Epoch 4/10\n",
      "94/94 [==============================] - 1s 14ms/step - loss: 0.0075 - accuracy: 1.0000 - val_loss: 0.4639 - val_accuracy: 0.8507\n",
      "Epoch 5/10\n",
      "94/94 [==============================] - 1s 14ms/step - loss: 0.0030 - accuracy: 1.0000 - val_loss: 0.4903 - val_accuracy: 0.8493\n",
      "Epoch 6/10\n",
      "94/94 [==============================] - 1s 14ms/step - loss: 0.0015 - accuracy: 1.0000 - val_loss: 0.5153 - val_accuracy: 0.8453\n",
      "Epoch 7/10\n",
      "94/94 [==============================] - 1s 14ms/step - loss: 9.1897e-04 - accuracy: 1.0000 - val_loss: 0.5340 - val_accuracy: 0.8440\n",
      "Epoch 8/10\n",
      "94/94 [==============================] - 1s 14ms/step - loss: 6.2166e-04 - accuracy: 1.0000 - val_loss: 0.5493 - val_accuracy: 0.8427\n",
      "Epoch 9/10\n",
      "94/94 [==============================] - 1s 14ms/step - loss: 4.4764e-04 - accuracy: 1.0000 - val_loss: 0.5655 - val_accuracy: 0.8400\n",
      "Epoch 10/10\n",
      "94/94 [==============================] - 1s 14ms/step - loss: 3.3884e-04 - accuracy: 1.0000 - val_loss: 0.5746 - val_accuracy: 0.8453\n"
     ]
    },
    {
     "data": {
      "image/png": "[encoded data removed]",
      "text/plain": [
       "<Figure size 864x288 with 2 Axes>"
      ]
     },
     "metadata": {
      "needs_background": "light"
     },
     "output_type": "display_data"
    }
   ],
   "source": [
    "from konlpy.tag import Okt\n",
    "\n",
    "# Okt 초기화\n",
    "okt = Okt()\n",
    "\n",
    "def okt_tokenize(corpus):\n",
    "    return [word for word in okt.morphs(corpus) if word not in stop_words]\n",
    "\n",
    "# 데이터 토큰화\n",
    "filtered_df['tokenized_conversation'] = filtered_df['cleaned_conversation'].apply(okt_tokenize)\n",
    "filtered_df['joined_tokens'] = filtered_df['tokenized_conversation'].apply(lambda x: ' '.join(x))\n",
    "\n",
    "# 데이터와 레이블 설정\n",
    "sentence_train = filtered_df['joined_tokens']\n",
    "y_train = filtered_df['class']\n",
    "\n",
    "# 토크나이징\n",
    "tokenized_sentences = [tokenizer.encode_as_ids(sentence) for sentence in sentence_train]\n",
    "\n",
    "# 패딩처리\n",
    "padding_train = pad_sequences(tokenized_sentences, maxlen=500, padding='post')\n",
    "\n",
    "# 데이터 분할\n",
    "X_train, X_val, y_train, y_val = train_test_split(padding_train, y_train, test_size=0.20, random_state=42)\n",
    "print(X_train.shape, y_train.shape)\n",
    "print(X_val.shape, y_val.shape)\n",
    "print(padding_train)\n",
    "\n",
    "# 모델 파라미터 설정\n",
    "MAX_NB_WORDS = 50000\n",
    "MAX_SEQUENCE_LENGTH = 500\n",
    "EMBEDDING_DIM = 256\n",
    "\n",
    "# 1D CNN 모델 구성\n",
    "model = Sequential()\n",
    "model.add(Embedding(MAX_NB_WORDS, EMBEDDING_DIM, input_length=MAX_SEQUENCE_LENGTH))\n",
    "model.add(Conv1D(128, 5, activation='relu'))\n",
    "model.add(GlobalMaxPooling1D())\n",
    "model.add(Dense(64, activation='relu'))\n",
    "model.add(Dense(4, activation='softmax'))\n",
    "\n",
    "# 모델 컴파일\n",
    "model.compile(optimizer='adam', loss='sparse_categorical_crossentropy', metrics=['accuracy'])\n",
    "\n",
    "model.summary()\n",
    "\n",
    "# 모델 컴파일 및 학습\n",
    "model.compile(optimizer='adam', loss='sparse_categorical_crossentropy', metrics=['accuracy'])\n",
    "history = model.fit(X_train, y_train, epochs=10, batch_size=32, validation_data=(X_val, y_val))\n",
    "\n",
    "# 결과 시각화 (정확도 및 손실)\n",
    "plt.figure(figsize=(12, 4))\n",
    "plt.subplot(1, 2, 1)\n",
    "plt.plot(history.history['accuracy'], label='Train Accuracy')\n",
    "plt.plot(history.history['val_accuracy'], label='Validation Accuracy')\n",
    "plt.title('Train and Validation Accuracy')\n",
    "plt.xlabel('Epochs')\n",
    "plt.ylabel('Accuracy')\n",
    "plt.legend()\n",
    "\n",
    "plt.subplot(1, 2, 2)\n",
    "plt.plot(history.history['loss'], label='Train Loss')\n",
    "plt.plot(history.history['val_loss'], label='Validation Loss')\n",
    "plt.title('Train and Validation Loss')\n",
    "plt.xlabel('Epochs')\n",
    "plt.ylabel('Loss')\n",
    "plt.legend()\n",
    "\n",
    "plt.tight_layout()\n",
    "plt.show()\n"
   ]
  },
  {
   "cell_type": "code",
   "execution_count": 25,
   "id": "f2d44459",
   "metadata": {},
   "outputs": [],
   "source": [
    "test['cleaned_conversation'] = test['text'].apply(clean_sentence)"
   ]
  },
  {
   "cell_type": "code",
   "execution_count": 26,
   "id": "832f1518",
   "metadata": {},
   "outputs": [
    {
     "data": {
      "text/html": [
       "<div>\n",
       "<style scoped>\n",
       "    .dataframe tbody tr th:only-of-type {\n",
       "        vertical-align: middle;\n",
       "    }\n",
       "\n",
       "    .dataframe tbody tr th {\n",
       "        vertical-align: top;\n",
       "    }\n",
       "\n",
       "    .dataframe thead th {\n",
       "        text-align: right;\n",
       "    }\n",
       "</style>\n",
       "<table border=\"1\" class=\"dataframe\">\n",
       "  <thead>\n",
       "    <tr style=\"text-align: right;\">\n",
       "      <th></th>\n",
       "      <th>text</th>\n",
       "      <th>cleaned_conversation</th>\n",
       "    </tr>\n",
       "  </thead>\n",
       "  <tbody>\n",
       "    <tr>\n",
       "      <th>t_000</th>\n",
       "      <td>아가씨 담배한갑주소 네 4500원입니다 어 네 지갑어디갔지 에이 버스에서 잃어버렸나...</td>\n",
       "      <td>아가씨 담배한갑주소 네 원입니다 어 네 지갑어디갔지 에이 버스에서 잃어버렸나보네 그...</td>\n",
       "    </tr>\n",
       "    <tr>\n",
       "      <th>t_001</th>\n",
       "      <td>우리팀에서 다른팀으로 갈 사람 없나? 그럼 영지씨가 가는건 어때?  네? 제가요? ...</td>\n",
       "      <td>우리팀에서 다른팀으로 갈 사람 없나 그럼 영지씨가 가는건 어때  네 제가요 그렇지 ...</td>\n",
       "    </tr>\n",
       "    <tr>\n",
       "      <th>t_002</th>\n",
       "      <td>너 오늘 그게 뭐야 네 제가 뭘 잘못했나요.? 제대로 좀 하지 네 똑바로 좀 하지 ...</td>\n",
       "      <td>너 오늘 그게 뭐야 네 제가 뭘 잘못했나요 제대로 좀 하지 네 똑바로 좀 하지 행실...</td>\n",
       "    </tr>\n",
       "    <tr>\n",
       "      <th>t_004</th>\n",
       "      <td>아무튼 앞으로 니가 내 와이파이야. .응 와이파이 온. 켰어. 반말? 주인님이라고도...</td>\n",
       "      <td>아무튼 앞으로 니가 내 와이파이야 응 와이파이 온 켰어 반말 주인님이라고도 말해야지...</td>\n",
       "    </tr>\n",
       "    <tr>\n",
       "      <th>t_005</th>\n",
       "      <td>그러니까 빨리 말해. 선생님 제발 살려주십시오.  비밀번호 틀릴 때마다 손톱 하나씩...</td>\n",
       "      <td>그러니까 빨리 말해 선생님 제발 살려주십시오  비밀번호 틀릴 때마다 손톱 하나씩 뺀...</td>\n",
       "    </tr>\n",
       "    <tr>\n",
       "      <th>...</th>\n",
       "      <td>...</td>\n",
       "      <td>...</td>\n",
       "    </tr>\n",
       "    <tr>\n",
       "      <th>t_495</th>\n",
       "      <td>미나씨 휴가 결제 올리기 전에 저랑 상의하라고 말한거 기억해요? 네 합니다. 보고서...</td>\n",
       "      <td>미나씨 휴가 결제 올리기 전에 저랑 상의하라고 말한거 기억해요 네 합니다 보고서를 ...</td>\n",
       "    </tr>\n",
       "    <tr>\n",
       "      <th>t_496</th>\n",
       "      <td>교수님 제 논문에 제 이름이 없나요?  아 무슨 논문말이야?  지난 번 냈던 논문이...</td>\n",
       "      <td>교수님 제 논문에 제 이름이 없나요  아 무슨 논문말이야  지난 번 냈던 논문이요 ...</td>\n",
       "    </tr>\n",
       "    <tr>\n",
       "      <th>t_497</th>\n",
       "      <td>야 너  네 저요? 그래 너 왜요 돈좀 줘봐  돈 없어요 돈이 왜 없어 지갑은 폼이...</td>\n",
       "      <td>야 너  네 저요 그래 너 왜요 돈좀 줘봐  돈 없어요 돈이 왜 없어 지갑은 폼이니...</td>\n",
       "    </tr>\n",
       "    <tr>\n",
       "      <th>t_498</th>\n",
       "      <td>야 너 빨리 안 뛰어와? 너 이 환자 제대로 봤어 안 봤어 어제 저녁부터 계속 보다...</td>\n",
       "      <td>야 너 빨리 안 뛰어와 너 이 환자 제대로 봤어 안 봤어 어제 저녁부터 계속 보다가...</td>\n",
       "    </tr>\n",
       "    <tr>\n",
       "      <th>t_499</th>\n",
       "      <td>엄마 저 그 돈 안해주시면 정말 큰일나요.  이유도 말하지 않고. 몇번째니 경민아....</td>\n",
       "      <td>엄마 저 그 돈 안해주시면 정말 큰일나요  이유도 말하지 않고 몇번째니 경민아  엄...</td>\n",
       "    </tr>\n",
       "  </tbody>\n",
       "</table>\n",
       "<p>400 rows × 2 columns</p>\n",
       "</div>"
      ],
      "text/plain": [
       "                                                    text  \\\n",
       "t_000  아가씨 담배한갑주소 네 4500원입니다 어 네 지갑어디갔지 에이 버스에서 잃어버렸나...   \n",
       "t_001  우리팀에서 다른팀으로 갈 사람 없나? 그럼 영지씨가 가는건 어때?  네? 제가요? ...   \n",
       "t_002  너 오늘 그게 뭐야 네 제가 뭘 잘못했나요.? 제대로 좀 하지 네 똑바로 좀 하지 ...   \n",
       "t_004  아무튼 앞으로 니가 내 와이파이야. .응 와이파이 온. 켰어. 반말? 주인님이라고도...   \n",
       "t_005  그러니까 빨리 말해. 선생님 제발 살려주십시오.  비밀번호 틀릴 때마다 손톱 하나씩...   \n",
       "...                                                  ...   \n",
       "t_495  미나씨 휴가 결제 올리기 전에 저랑 상의하라고 말한거 기억해요? 네 합니다. 보고서...   \n",
       "t_496  교수님 제 논문에 제 이름이 없나요?  아 무슨 논문말이야?  지난 번 냈던 논문이...   \n",
       "t_497  야 너  네 저요? 그래 너 왜요 돈좀 줘봐  돈 없어요 돈이 왜 없어 지갑은 폼이...   \n",
       "t_498  야 너 빨리 안 뛰어와? 너 이 환자 제대로 봤어 안 봤어 어제 저녁부터 계속 보다...   \n",
       "t_499  엄마 저 그 돈 안해주시면 정말 큰일나요.  이유도 말하지 않고. 몇번째니 경민아....   \n",
       "\n",
       "                                    cleaned_conversation  \n",
       "t_000  아가씨 담배한갑주소 네 원입니다 어 네 지갑어디갔지 에이 버스에서 잃어버렸나보네 그...  \n",
       "t_001  우리팀에서 다른팀으로 갈 사람 없나 그럼 영지씨가 가는건 어때  네 제가요 그렇지 ...  \n",
       "t_002  너 오늘 그게 뭐야 네 제가 뭘 잘못했나요 제대로 좀 하지 네 똑바로 좀 하지 행실...  \n",
       "t_004  아무튼 앞으로 니가 내 와이파이야 응 와이파이 온 켰어 반말 주인님이라고도 말해야지...  \n",
       "t_005  그러니까 빨리 말해 선생님 제발 살려주십시오  비밀번호 틀릴 때마다 손톱 하나씩 뺀...  \n",
       "...                                                  ...  \n",
       "t_495  미나씨 휴가 결제 올리기 전에 저랑 상의하라고 말한거 기억해요 네 합니다 보고서를 ...  \n",
       "t_496  교수님 제 논문에 제 이름이 없나요  아 무슨 논문말이야  지난 번 냈던 논문이요 ...  \n",
       "t_497  야 너  네 저요 그래 너 왜요 돈좀 줘봐  돈 없어요 돈이 왜 없어 지갑은 폼이니...  \n",
       "t_498  야 너 빨리 안 뛰어와 너 이 환자 제대로 봤어 안 봤어 어제 저녁부터 계속 보다가...  \n",
       "t_499  엄마 저 그 돈 안해주시면 정말 큰일나요  이유도 말하지 않고 몇번째니 경민아  엄...  \n",
       "\n",
       "[400 rows x 2 columns]"
      ]
     },
     "execution_count": 26,
     "metadata": {},
     "output_type": "execute_result"
    }
   ],
   "source": [
    "filtered_test=test\n",
    "filtered_test"
   ]
  },
  {
   "cell_type": "code",
   "execution_count": 27,
   "id": "ea919571",
   "metadata": {},
   "outputs": [],
   "source": [
    "test_sentence = filtered_test['cleaned_conversation']"
   ]
  },
  {
   "cell_type": "code",
   "execution_count": 29,
   "id": "52485e4d",
   "metadata": {},
   "outputs": [
    {
     "name": "stdout",
     "output_type": "stream",
     "text": [
      "WARNING:tensorflow:Model was constructed with shape (None, 500) for input KerasTensor(type_spec=TensorSpec(shape=(None, 500), dtype=tf.float32, name='embedding_2_input'), name='embedding_2_input', description=\"created by layer 'embedding_2_input'\"), but it was called on an input with incompatible shape (None, 293).\n"
     ]
    },
    {
     "data": {
      "text/plain": [
       "array([[7.4765056e-02, 6.6911054e-01, 1.5568705e-03, 2.5456753e-01],\n",
       "       [5.6946301e-03, 1.3696840e-05, 9.8947829e-01, 4.8133396e-03],\n",
       "       [3.8582344e-02, 1.0943473e-02, 3.9192548e-01, 5.5854869e-01],\n",
       "       ...,\n",
       "       [1.3971037e-05, 9.9998367e-01, 3.3432013e-08, 2.3712569e-06],\n",
       "       [8.0344093e-01, 3.1988521e-04, 1.6083652e-01, 3.5402600e-02],\n",
       "       [2.3813325e-01, 7.4740624e-01, 5.3952914e-03, 9.0653030e-03]],\n",
       "      dtype=float32)"
      ]
     },
     "execution_count": 29,
     "metadata": {},
     "output_type": "execute_result"
    }
   ],
   "source": [
    "prediction = model.predict(padding_test)\n",
    "prediction"
   ]
  },
  {
   "cell_type": "code",
   "execution_count": 30,
   "id": "60cf19b7",
   "metadata": {},
   "outputs": [],
   "source": [
    "predicted_labels = np.argmax(prediction, axis=1)"
   ]
  },
  {
   "cell_type": "code",
   "execution_count": 28,
   "id": "7d2e01bc",
   "metadata": {},
   "outputs": [],
   "source": [
    "# 패딩처리\n",
    "padding_test = tf.keras.preprocessing.sequence.pad_sequences(\n",
    "    [tokenizer.encode_as_ids(sentence) for sentence in test_sentence],\n",
    "    padding='post'\n",
    ")"
   ]
  },
  {
   "cell_type": "code",
   "execution_count": 32,
   "id": "7a1a6069",
   "metadata": {},
   "outputs": [],
   "source": [
    "submission['class'] = predicted_labels\n",
    "submission.head()\n",
    "\n",
    "file_path = \"/aiffel/submission_okt.csv\"\n",
    "\n",
    "# Save the DataFrame to a CSV file\n",
    "submission.to_csv(file_path, index=False) "
   ]
  },
  {
   "cell_type": "code",
   "execution_count": 21,
   "id": "04804865",
   "metadata": {},
   "outputs": [
    {
     "name": "stderr",
     "output_type": "stream",
     "text": [
      "\u001b[34m\u001b[1mwandb\u001b[0m: Currently logged in as: \u001b[33mbitna3192\u001b[0m (\u001b[33maiffelnlp\u001b[0m). Use \u001b[1m`wandb login --relogin`\u001b[0m to force relogin\n",
      "\u001b[34m\u001b[1mwandb\u001b[0m: \u001b[33mWARNING\u001b[0m If you're specifying your api key in code, ensure this code is not shared publicly.\n",
      "\u001b[34m\u001b[1mwandb\u001b[0m: \u001b[33mWARNING\u001b[0m Consider setting the WANDB_API_KEY environment variable, or running `wandb login` from the command line.\n",
      "\u001b[34m\u001b[1mwandb\u001b[0m: Appending key for api.wandb.ai to your netrc file: /aiffel/.netrc\n"
     ]
    },
    {
     "data": {
      "text/plain": [
       "True"
      ]
     },
     "execution_count": 21,
     "metadata": {},
     "output_type": "execute_result"
    }
   ],
   "source": [
    "wandb.login(key = '5dc8d67fbbb38643e6c0b3fa911c6fea399c3019')"
   ]
  },
  {
   "cell_type": "code",
   "execution_count": 22,
   "id": "e083a11f",
   "metadata": {},
   "outputs": [],
   "source": [
    "sweep_config = {\n",
    "    \"name\": \"sweep_test_nlp\",\n",
    "    \"metric\": {\"name\": \"val_loss\", \"goal\": \"minimize\"},\n",
    "    \"method\": \"random\",\n",
    "    \"parameters\": {\n",
    "        \"learning_rate\" : {\n",
    "            \"min\" : 0.001,\n",
    "            \"max\" : 0.1\n",
    "            },\n",
    "        \"epoch\" : {\n",
    "            \"distribution\" : \"int_uniform\",\n",
    "            \"min\" : 5,\n",
    "            \"max\" : 10\n",
    "            }\n",
    "                    \n",
    "        }\n",
    "    }"
   ]
  },
  {
   "cell_type": "code",
   "execution_count": 33,
   "id": "ffb07c6b",
   "metadata": {},
   "outputs": [],
   "source": [
    "def train():\n",
    "    default_config = {\n",
    "        \"vocab\" : 1000,\n",
    "        \"embeddings\" : 64,\n",
    "        \"units_1\" : 128,\n",
    "        \"units_2\" : 128,\n",
    "        \"units_3\" : 32,\n",
    "        \"class_num\" : 4,\n",
    "        \"learning_rate\" : 0.005,\n",
    "        \"optimizer\" : \"adam\",\n",
    "        \"loss\" : \"sparse_categorical_crossentropy\",\n",
    "        \"metrics\" : [\"accuracy\"],\n",
    "        \"epoch\" : 10,\n",
    "        \"batch_size\" : 32\n",
    "    }\n",
    "\n",
    "    wandb.init(config = default_config)\n",
    "    config = wandb.config\n",
    "\n",
    "    # Model\n",
    "\n",
    "    # 모델 파라미터 설정\n",
    "    MAX_NB_WORDS = 50000\n",
    "    MAX_SEQUENCE_LENGTH = 500\n",
    "    EMBEDDING_DIM = 256\n",
    "\n",
    "    # 1D CNN 모델 구성\n",
    "    model = Sequential()\n",
    "    model.add(Embedding(MAX_NB_WORDS, EMBEDDING_DIM, input_length=MAX_SEQUENCE_LENGTH))\n",
    "    model.add(Conv1D(128, 5, activation='relu'))\n",
    "    model.add(GlobalMaxPooling1D())\n",
    "    model.add(Dense(64, activation='relu'))\n",
    "    model.add(Dense(4, activation='softmax'))\n",
    "\n",
    "    # 모델 컴파일\n",
    "    if config.optimizer == 'adam':\n",
    "        optimizer = keras.optimizers.Adam(learning_rate=config.learning_rate)\n",
    "\n",
    "    model.compile(optimizer=optimizer,\n",
    "                  loss=config.loss,\n",
    "                  metrics=config.metrics)\n",
    "\n",
    "    # WandbCallback 함수는 후술합니다.\n",
    "    model.fit(X_train, y_train,\n",
    "              epochs=config.epoch,\n",
    "              batch_size=config.batch_size,\n",
    "              validation_data=(X_val, y_val),\n",
    "              callbacks=[WandbCallback()])\n",
    "\n",
    "    test_loss, test_accuracy = model.evaluate(X_val, y_val, verbose=2)\n",
    "\n",
    "    # wandb.log 함수 안에 기록하고 싶은 정보를 담습니다.\n",
    "    wandb.log({\"Test Accuracy Rate: \": round(test_accuracy * 100, 2),\n",
    "               \"Test Error Rate: \": round((1 - test_accuracy) * 100, 2)})"
   ]
  },
  {
   "cell_type": "code",
   "execution_count": 34,
   "id": "26475b1b",
   "metadata": {},
   "outputs": [
    {
     "name": "stdout",
     "output_type": "stream",
     "text": [
      "Create sweep with ID: 7f3b18ju\n",
      "Sweep URL: https://wandb.ai/bitna3192/DLThon/sweeps/7f3b18ju\n"
     ]
    },
    {
     "name": "stderr",
     "output_type": "stream",
     "text": [
      "\u001b[34m\u001b[1mwandb\u001b[0m: Agent Starting Run: uyst4s4r with config:\n",
      "\u001b[34m\u001b[1mwandb\u001b[0m: \tepoch: 9\n",
      "\u001b[34m\u001b[1mwandb\u001b[0m: \tlearning_rate: 0.061830749806622634\n"
     ]
    },
    {
     "data": {
      "text/html": [
       "wandb version 0.16.2 is available!  To upgrade, please run:\n",
       " $ pip install wandb --upgrade"
      ],
      "text/plain": [
       "<IPython.core.display.HTML object>"
      ]
     },
     "metadata": {},
     "output_type": "display_data"
    },
    {
     "data": {
      "text/html": [
       "Tracking run with wandb version 0.16.0"
      ],
      "text/plain": [
       "<IPython.core.display.HTML object>"
      ]
     },
     "metadata": {},
     "output_type": "display_data"
    },
    {
     "data": {
      "text/html": [
       "Run data is saved locally in <code>/aiffel/aiffel/wandb/run-20240111_222926-uyst4s4r</code>"
      ],
      "text/plain": [
       "<IPython.core.display.HTML object>"
      ]
     },
     "metadata": {},
     "output_type": "display_data"
    },
    {
     "data": {
      "text/html": [
       "Syncing run <strong><a href='https://wandb.ai/bitna3192/DLThon/runs/uyst4s4r' target=\"_blank\">stellar-sweep-1</a></strong> to <a href='https://wandb.ai/bitna3192/DLThon' target=\"_blank\">Weights & Biases</a> (<a href='https://wandb.me/run' target=\"_blank\">docs</a>)<br/>Sweep page: <a href='https://wandb.ai/bitna3192/DLThon/sweeps/7f3b18ju' target=\"_blank\">https://wandb.ai/bitna3192/DLThon/sweeps/7f3b18ju</a>"
      ],
      "text/plain": [
       "<IPython.core.display.HTML object>"
      ]
     },
     "metadata": {},
     "output_type": "display_data"
    },
    {
     "data": {
      "text/html": [
       " View project at <a href='https://wandb.ai/bitna3192/DLThon' target=\"_blank\">https://wandb.ai/bitna3192/DLThon</a>"
      ],
      "text/plain": [
       "<IPython.core.display.HTML object>"
      ]
     },
     "metadata": {},
     "output_type": "display_data"
    },
    {
     "data": {
      "text/html": [
       " View sweep at <a href='https://wandb.ai/bitna3192/DLThon/sweeps/7f3b18ju' target=\"_blank\">https://wandb.ai/bitna3192/DLThon/sweeps/7f3b18ju</a>"
      ],
      "text/plain": [
       "<IPython.core.display.HTML object>"
      ]
     },
     "metadata": {},
     "output_type": "display_data"
    },
    {
     "data": {
      "text/html": [
       " View run at <a href='https://wandb.ai/bitna3192/DLThon/runs/uyst4s4r' target=\"_blank\">https://wandb.ai/bitna3192/DLThon/runs/uyst4s4r</a>"
      ],
      "text/plain": [
       "<IPython.core.display.HTML object>"
      ]
     },
     "metadata": {},
     "output_type": "display_data"
    },
    {
     "name": "stdout",
     "output_type": "stream",
     "text": [
      "Epoch 1/9\n",
      "94/94 [==============================] - 2s 16ms/step - loss: 1.5304 - accuracy: 0.3493 - val_loss: 1.3677 - val_accuracy: 0.2720\n",
      "INFO:tensorflow:Assets written to: /aiffel/aiffel/wandb/run-20240111_222926-uyst4s4r/files/model-best/assets\n"
     ]
    },
    {
     "name": "stderr",
     "output_type": "stream",
     "text": [
      "\u001b[34m\u001b[1mwandb\u001b[0m: Adding directory to artifact (/aiffel/aiffel/wandb/run-20240111_222926-uyst4s4r/files/model-best)... Done. 1.6s\n"
     ]
    },
    {
     "name": "stdout",
     "output_type": "stream",
     "text": [
      "Epoch 2/9\n",
      "94/94 [==============================] - 1s 15ms/step - loss: 1.3936 - accuracy: 0.2633 - val_loss: 1.3866 - val_accuracy: 0.2493\n",
      "Epoch 3/9\n",
      "94/94 [==============================] - 1s 15ms/step - loss: 1.3888 - accuracy: 0.2520 - val_loss: 1.3895 - val_accuracy: 0.2600\n",
      "Epoch 4/9\n",
      "94/94 [==============================] - 1s 14ms/step - loss: 1.3897 - accuracy: 0.2603 - val_loss: 1.3898 - val_accuracy: 0.2600\n",
      "Epoch 5/9\n",
      "94/94 [==============================] - 1s 14ms/step - loss: 1.3924 - accuracy: 0.2347 - val_loss: 1.3893 - val_accuracy: 0.2560\n",
      "Epoch 6/9\n",
      "94/94 [==============================] - 1s 14ms/step - loss: 1.3887 - accuracy: 0.2523 - val_loss: 1.3894 - val_accuracy: 0.2347\n",
      "Epoch 7/9\n",
      "94/94 [==============================] - 1s 14ms/step - loss: 1.3893 - accuracy: 0.2643 - val_loss: 1.3889 - val_accuracy: 0.2600\n",
      "Epoch 8/9\n",
      "94/94 [==============================] - 1s 14ms/step - loss: 1.3903 - accuracy: 0.2557 - val_loss: 1.3929 - val_accuracy: 0.2560\n",
      "Epoch 9/9\n",
      "94/94 [==============================] - 1s 14ms/step - loss: 1.3895 - accuracy: 0.2497 - val_loss: 1.3873 - val_accuracy: 0.2600\n",
      "24/24 - 0s - loss: 1.3873 - accuracy: 0.2600\n"
     ]
    },
    {
     "data": {
      "application/vnd.jupyter.widget-view+json": {
       "model_id": "",
       "version_major": 2,
       "version_minor": 0
      },
      "text/plain": [
       "VBox(children=(Label(value='297.087 MB of 297.087 MB uploaded\\r'), FloatProgress(value=1.0, max=1.0)))"
      ]
     },
     "metadata": {},
     "output_type": "display_data"
    },
    {
     "data": {
      "text/html": [
       "<style>\n",
       "    table.wandb td:nth-child(1) { padding: 0 10px; text-align: left ; width: auto;} td:nth-child(2) {text-align: left ; width: 100%}\n",
       "    .wandb-row { display: flex; flex-direction: row; flex-wrap: wrap; justify-content: flex-start; width: 100% }\n",
       "    .wandb-col { display: flex; flex-direction: column; flex-basis: 100%; flex: 1; padding: 10px; }\n",
       "    </style>\n",
       "<div class=\"wandb-row\"><div class=\"wandb-col\"><h3>Run history:</h3><br/><table class=\"wandb\"><tr><td>Test Accuracy Rate: </td><td>▁</td></tr><tr><td>Test Error Rate: </td><td>▁</td></tr><tr><td>accuracy</td><td>█▃▂▃▁▂▃▂▂</td></tr><tr><td>epoch</td><td>▁▂▃▄▅▅▆▇█</td></tr><tr><td>loss</td><td>█▁▁▁▁▁▁▁▁</td></tr><tr><td>val_accuracy</td><td>█▄▆▆▅▁▆▅▆</td></tr><tr><td>val_loss</td><td>▁▆▇▇▇▇▇█▆</td></tr></table><br/></div><div class=\"wandb-col\"><h3>Run summary:</h3><br/><table class=\"wandb\"><tr><td>Test Accuracy Rate: </td><td>26.0</td></tr><tr><td>Test Error Rate: </td><td>74.0</td></tr><tr><td>accuracy</td><td>0.24967</td></tr><tr><td>best_epoch</td><td>0</td></tr><tr><td>best_val_loss</td><td>1.3677</td></tr><tr><td>epoch</td><td>8</td></tr><tr><td>loss</td><td>1.38951</td></tr><tr><td>val_accuracy</td><td>0.26</td></tr><tr><td>val_loss</td><td>1.38734</td></tr></table><br/></div></div>"
      ],
      "text/plain": [
       "<IPython.core.display.HTML object>"
      ]
     },
     "metadata": {},
     "output_type": "display_data"
    },
    {
     "data": {
      "text/html": [
       " View run <strong style=\"color:#cdcd00\">stellar-sweep-1</strong> at: <a href='https://wandb.ai/bitna3192/DLThon/runs/uyst4s4r' target=\"_blank\">https://wandb.ai/bitna3192/DLThon/runs/uyst4s4r</a><br/>Synced 5 W&B file(s), 1 media file(s), 4 artifact file(s) and 1 other file(s)"
      ],
      "text/plain": [
       "<IPython.core.display.HTML object>"
      ]
     },
     "metadata": {},
     "output_type": "display_data"
    },
    {
     "data": {
      "text/html": [
       "Find logs at: <code>./wandb/run-20240111_222926-uyst4s4r/logs</code>"
      ],
      "text/plain": [
       "<IPython.core.display.HTML object>"
      ]
     },
     "metadata": {},
     "output_type": "display_data"
    },
    {
     "name": "stderr",
     "output_type": "stream",
     "text": [
      "\u001b[34m\u001b[1mwandb\u001b[0m: Agent Starting Run: sdxu7pz4 with config:\n",
      "\u001b[34m\u001b[1mwandb\u001b[0m: \tepoch: 10\n",
      "\u001b[34m\u001b[1mwandb\u001b[0m: \tlearning_rate: 0.02355391863651369\n"
     ]
    },
    {
     "data": {
      "text/html": [
       "wandb version 0.16.2 is available!  To upgrade, please run:\n",
       " $ pip install wandb --upgrade"
      ],
      "text/plain": [
       "<IPython.core.display.HTML object>"
      ]
     },
     "metadata": {},
     "output_type": "display_data"
    },
    {
     "data": {
      "text/html": [
       "Tracking run with wandb version 0.16.0"
      ],
      "text/plain": [
       "<IPython.core.display.HTML object>"
      ]
     },
     "metadata": {},
     "output_type": "display_data"
    },
    {
     "data": {
      "text/html": [
       "Run data is saved locally in <code>/aiffel/aiffel/wandb/run-20240111_222952-sdxu7pz4</code>"
      ],
      "text/plain": [
       "<IPython.core.display.HTML object>"
      ]
     },
     "metadata": {},
     "output_type": "display_data"
    },
    {
     "data": {
      "text/html": [
       "Syncing run <strong><a href='https://wandb.ai/bitna3192/DLThon/runs/sdxu7pz4' target=\"_blank\">stoic-sweep-2</a></strong> to <a href='https://wandb.ai/bitna3192/DLThon' target=\"_blank\">Weights & Biases</a> (<a href='https://wandb.me/run' target=\"_blank\">docs</a>)<br/>Sweep page: <a href='https://wandb.ai/bitna3192/DLThon/sweeps/7f3b18ju' target=\"_blank\">https://wandb.ai/bitna3192/DLThon/sweeps/7f3b18ju</a>"
      ],
      "text/plain": [
       "<IPython.core.display.HTML object>"
      ]
     },
     "metadata": {},
     "output_type": "display_data"
    },
    {
     "data": {
      "text/html": [
       " View project at <a href='https://wandb.ai/bitna3192/DLThon' target=\"_blank\">https://wandb.ai/bitna3192/DLThon</a>"
      ],
      "text/plain": [
       "<IPython.core.display.HTML object>"
      ]
     },
     "metadata": {},
     "output_type": "display_data"
    },
    {
     "data": {
      "text/html": [
       " View sweep at <a href='https://wandb.ai/bitna3192/DLThon/sweeps/7f3b18ju' target=\"_blank\">https://wandb.ai/bitna3192/DLThon/sweeps/7f3b18ju</a>"
      ],
      "text/plain": [
       "<IPython.core.display.HTML object>"
      ]
     },
     "metadata": {},
     "output_type": "display_data"
    },
    {
     "data": {
      "text/html": [
       " View run at <a href='https://wandb.ai/bitna3192/DLThon/runs/sdxu7pz4' target=\"_blank\">https://wandb.ai/bitna3192/DLThon/runs/sdxu7pz4</a>"
      ],
      "text/plain": [
       "<IPython.core.display.HTML object>"
      ]
     },
     "metadata": {},
     "output_type": "display_data"
    },
    {
     "name": "stdout",
     "output_type": "stream",
     "text": [
      "Epoch 1/10\n",
      "94/94 [==============================] - 2s 16ms/step - loss: 0.8425 - accuracy: 0.6863 - val_loss: 0.7713 - val_accuracy: 0.7653\n",
      "INFO:tensorflow:Assets written to: /aiffel/aiffel/wandb/run-20240111_222952-sdxu7pz4/files/model-best/assets\n"
     ]
    },
    {
     "name": "stderr",
     "output_type": "stream",
     "text": [
      "\u001b[34m\u001b[1mwandb\u001b[0m: Adding directory to artifact (/aiffel/aiffel/wandb/run-20240111_222952-sdxu7pz4/files/model-best)... Done. 1.8s\n"
     ]
    },
    {
     "name": "stdout",
     "output_type": "stream",
     "text": [
      "Epoch 2/10\n",
      "94/94 [==============================] - 1s 15ms/step - loss: 0.4665 - accuracy: 0.8493 - val_loss: 0.6805 - val_accuracy: 0.7813\n",
      "INFO:tensorflow:Assets written to: /aiffel/aiffel/wandb/run-20240111_222952-sdxu7pz4/files/model-best/assets\n"
     ]
    },
    {
     "name": "stderr",
     "output_type": "stream",
     "text": [
      "\u001b[34m\u001b[1mwandb\u001b[0m: Adding directory to artifact (/aiffel/aiffel/wandb/run-20240111_222952-sdxu7pz4/files/model-best)... Done. 1.8s\n"
     ]
    },
    {
     "name": "stdout",
     "output_type": "stream",
     "text": [
      "Epoch 3/10\n",
      "94/94 [==============================] - 1s 15ms/step - loss: 0.5225 - accuracy: 0.8320 - val_loss: 1.1157 - val_accuracy: 0.7293\n",
      "Epoch 4/10\n",
      "94/94 [==============================] - 1s 14ms/step - loss: 0.8324 - accuracy: 0.6913 - val_loss: 1.3837 - val_accuracy: 0.4533\n",
      "Epoch 5/10\n",
      "94/94 [==============================] - 1s 14ms/step - loss: 1.0983 - accuracy: 0.5283 - val_loss: 1.5705 - val_accuracy: 0.4947\n",
      "Epoch 6/10\n",
      "94/94 [==============================] - 1s 14ms/step - loss: 0.9944 - accuracy: 0.5500 - val_loss: 1.3574 - val_accuracy: 0.3813\n",
      "Epoch 7/10\n",
      "94/94 [==============================] - 1s 14ms/step - loss: 1.1345 - accuracy: 0.4117 - val_loss: 2.0067 - val_accuracy: 0.3893\n",
      "Epoch 8/10\n",
      "94/94 [==============================] - 1s 14ms/step - loss: 1.3042 - accuracy: 0.3310 - val_loss: 2.1870 - val_accuracy: 0.3413\n",
      "Epoch 9/10\n",
      "94/94 [==============================] - 1s 14ms/step - loss: 1.3813 - accuracy: 0.2663 - val_loss: 1.3889 - val_accuracy: 0.2600\n",
      "Epoch 10/10\n",
      "94/94 [==============================] - 1s 14ms/step - loss: 1.3871 - accuracy: 0.2503 - val_loss: 1.3882 - val_accuracy: 0.2560\n",
      "24/24 - 0s - loss: 1.3882 - accuracy: 0.2560\n"
     ]
    },
    {
     "data": {
      "application/vnd.jupyter.widget-view+json": {
       "model_id": "",
       "version_major": 2,
       "version_minor": 0
      },
      "text/plain": [
       "VBox(children=(Label(value='445.678 MB of 445.678 MB uploaded (0.011 MB deduped)\\r'), FloatProgress(value=1.0,…"
      ]
     },
     "metadata": {},
     "output_type": "display_data"
    },
    {
     "data": {
      "text/html": [
       "<style>\n",
       "    table.wandb td:nth-child(1) { padding: 0 10px; text-align: left ; width: auto;} td:nth-child(2) {text-align: left ; width: 100%}\n",
       "    .wandb-row { display: flex; flex-direction: row; flex-wrap: wrap; justify-content: flex-start; width: 100% }\n",
       "    .wandb-col { display: flex; flex-direction: column; flex-basis: 100%; flex: 1; padding: 10px; }\n",
       "    </style>\n",
       "<div class=\"wandb-row\"><div class=\"wandb-col\"><h3>Run history:</h3><br/><table class=\"wandb\"><tr><td>Test Accuracy Rate: </td><td>▁</td></tr><tr><td>Test Error Rate: </td><td>▁</td></tr><tr><td>accuracy</td><td>▆██▆▄▅▃▂▁▁</td></tr><tr><td>epoch</td><td>▁▂▃▃▄▅▆▆▇█</td></tr><tr><td>loss</td><td>▄▁▁▄▆▅▆▇██</td></tr><tr><td>val_accuracy</td><td>██▇▄▄▃▃▂▁▁</td></tr><tr><td>val_loss</td><td>▁▁▃▄▅▄▇█▄▄</td></tr></table><br/></div><div class=\"wandb-col\"><h3>Run summary:</h3><br/><table class=\"wandb\"><tr><td>Test Accuracy Rate: </td><td>25.6</td></tr><tr><td>Test Error Rate: </td><td>74.4</td></tr><tr><td>accuracy</td><td>0.25033</td></tr><tr><td>best_epoch</td><td>1</td></tr><tr><td>best_val_loss</td><td>0.68046</td></tr><tr><td>epoch</td><td>9</td></tr><tr><td>loss</td><td>1.3871</td></tr><tr><td>val_accuracy</td><td>0.256</td></tr><tr><td>val_loss</td><td>1.3882</td></tr></table><br/></div></div>"
      ],
      "text/plain": [
       "<IPython.core.display.HTML object>"
      ]
     },
     "metadata": {},
     "output_type": "display_data"
    },
    {
     "data": {
      "text/html": [
       " View run <strong style=\"color:#cdcd00\">stoic-sweep-2</strong> at: <a href='https://wandb.ai/bitna3192/DLThon/runs/sdxu7pz4' target=\"_blank\">https://wandb.ai/bitna3192/DLThon/runs/sdxu7pz4</a><br/>Synced 5 W&B file(s), 1 media file(s), 8 artifact file(s) and 1 other file(s)"
      ],
      "text/plain": [
       "<IPython.core.display.HTML object>"
      ]
     },
     "metadata": {},
     "output_type": "display_data"
    },
    {
     "data": {
      "text/html": [
       "Find logs at: <code>./wandb/run-20240111_222952-sdxu7pz4/logs</code>"
      ],
      "text/plain": [
       "<IPython.core.display.HTML object>"
      ]
     },
     "metadata": {},
     "output_type": "display_data"
    },
    {
     "name": "stderr",
     "output_type": "stream",
     "text": [
      "\u001b[34m\u001b[1mwandb\u001b[0m: Agent Starting Run: eigsb4ez with config:\n",
      "\u001b[34m\u001b[1mwandb\u001b[0m: \tepoch: 7\n",
      "\u001b[34m\u001b[1mwandb\u001b[0m: \tlearning_rate: 0.06734700604452647\n"
     ]
    },
    {
     "data": {
      "text/html": [
       "wandb version 0.16.2 is available!  To upgrade, please run:\n",
       " $ pip install wandb --upgrade"
      ],
      "text/plain": [
       "<IPython.core.display.HTML object>"
      ]
     },
     "metadata": {},
     "output_type": "display_data"
    },
    {
     "data": {
      "text/html": [
       "Tracking run with wandb version 0.16.0"
      ],
      "text/plain": [
       "<IPython.core.display.HTML object>"
      ]
     },
     "metadata": {},
     "output_type": "display_data"
    },
    {
     "data": {
      "text/html": [
       "Run data is saved locally in <code>/aiffel/aiffel/wandb/run-20240111_223044-eigsb4ez</code>"
      ],
      "text/plain": [
       "<IPython.core.display.HTML object>"
      ]
     },
     "metadata": {},
     "output_type": "display_data"
    },
    {
     "data": {
      "text/html": [
       "Syncing run <strong><a href='https://wandb.ai/bitna3192/DLThon/runs/eigsb4ez' target=\"_blank\">autumn-sweep-3</a></strong> to <a href='https://wandb.ai/bitna3192/DLThon' target=\"_blank\">Weights & Biases</a> (<a href='https://wandb.me/run' target=\"_blank\">docs</a>)<br/>Sweep page: <a href='https://wandb.ai/bitna3192/DLThon/sweeps/7f3b18ju' target=\"_blank\">https://wandb.ai/bitna3192/DLThon/sweeps/7f3b18ju</a>"
      ],
      "text/plain": [
       "<IPython.core.display.HTML object>"
      ]
     },
     "metadata": {},
     "output_type": "display_data"
    },
    {
     "data": {
      "text/html": [
       " View project at <a href='https://wandb.ai/bitna3192/DLThon' target=\"_blank\">https://wandb.ai/bitna3192/DLThon</a>"
      ],
      "text/plain": [
       "<IPython.core.display.HTML object>"
      ]
     },
     "metadata": {},
     "output_type": "display_data"
    },
    {
     "data": {
      "text/html": [
       " View sweep at <a href='https://wandb.ai/bitna3192/DLThon/sweeps/7f3b18ju' target=\"_blank\">https://wandb.ai/bitna3192/DLThon/sweeps/7f3b18ju</a>"
      ],
      "text/plain": [
       "<IPython.core.display.HTML object>"
      ]
     },
     "metadata": {},
     "output_type": "display_data"
    },
    {
     "data": {
      "text/html": [
       " View run at <a href='https://wandb.ai/bitna3192/DLThon/runs/eigsb4ez' target=\"_blank\">https://wandb.ai/bitna3192/DLThon/runs/eigsb4ez</a>"
      ],
      "text/plain": [
       "<IPython.core.display.HTML object>"
      ]
     },
     "metadata": {},
     "output_type": "display_data"
    },
    {
     "name": "stdout",
     "output_type": "stream",
     "text": [
      "Epoch 1/7\n",
      "94/94 [==============================] - 2s 16ms/step - loss: 1.5749 - accuracy: 0.3190 - val_loss: 1.3880 - val_accuracy: 0.2627\n",
      "INFO:tensorflow:Assets written to: /aiffel/aiffel/wandb/run-20240111_223044-eigsb4ez/files/model-best/assets\n"
     ]
    },
    {
     "name": "stderr",
     "output_type": "stream",
     "text": [
      "\u001b[34m\u001b[1mwandb\u001b[0m: Adding directory to artifact (/aiffel/aiffel/wandb/run-20240111_223044-eigsb4ez/files/model-best)... Done. 1.9s\n"
     ]
    },
    {
     "name": "stdout",
     "output_type": "stream",
     "text": [
      "Epoch 2/7\n",
      "94/94 [==============================] - 1s 15ms/step - loss: 1.3872 - accuracy: 0.2587 - val_loss: 1.3866 - val_accuracy: 0.2493\n",
      "INFO:tensorflow:Assets written to: /aiffel/aiffel/wandb/run-20240111_223044-eigsb4ez/files/model-best/assets\n"
     ]
    },
    {
     "name": "stderr",
     "output_type": "stream",
     "text": [
      "\u001b[34m\u001b[1mwandb\u001b[0m: Adding directory to artifact (/aiffel/aiffel/wandb/run-20240111_223044-eigsb4ez/files/model-best)... Done. 1.8s\n"
     ]
    },
    {
     "name": "stdout",
     "output_type": "stream",
     "text": [
      "Epoch 3/7\n",
      "94/94 [==============================] - 1s 15ms/step - loss: 1.3853 - accuracy: 0.2577 - val_loss: 1.3943 - val_accuracy: 0.2493\n",
      "Epoch 4/7\n",
      "94/94 [==============================] - 1s 14ms/step - loss: 1.3823 - accuracy: 0.2590 - val_loss: 1.5446 - val_accuracy: 0.2680\n",
      "Epoch 5/7\n",
      "94/94 [==============================] - 1s 14ms/step - loss: 1.6519 - accuracy: 0.2620 - val_loss: 1.3879 - val_accuracy: 0.2493\n",
      "Epoch 6/7\n",
      "94/94 [==============================] - 1s 15ms/step - loss: 1.3902 - accuracy: 0.2437 - val_loss: 1.3892 - val_accuracy: 0.2560\n",
      "Epoch 7/7\n",
      "94/94 [==============================] - 1s 14ms/step - loss: 1.3896 - accuracy: 0.2490 - val_loss: 1.3892 - val_accuracy: 0.2560\n",
      "24/24 - 0s - loss: 1.3892 - accuracy: 0.2560\n"
     ]
    },
    {
     "data": {
      "application/vnd.jupyter.widget-view+json": {
       "model_id": "",
       "version_major": 2,
       "version_minor": 0
      },
      "text/plain": [
       "VBox(children=(Label(value='445.678 MB of 445.678 MB uploaded (0.011 MB deduped)\\r'), FloatProgress(value=1.0,…"
      ]
     },
     "metadata": {},
     "output_type": "display_data"
    },
    {
     "data": {
      "text/html": [
       "<style>\n",
       "    table.wandb td:nth-child(1) { padding: 0 10px; text-align: left ; width: auto;} td:nth-child(2) {text-align: left ; width: 100%}\n",
       "    .wandb-row { display: flex; flex-direction: row; flex-wrap: wrap; justify-content: flex-start; width: 100% }\n",
       "    .wandb-col { display: flex; flex-direction: column; flex-basis: 100%; flex: 1; padding: 10px; }\n",
       "    </style>\n",
       "<div class=\"wandb-row\"><div class=\"wandb-col\"><h3>Run history:</h3><br/><table class=\"wandb\"><tr><td>Test Accuracy Rate: </td><td>▁</td></tr><tr><td>Test Error Rate: </td><td>▁</td></tr><tr><td>accuracy</td><td>█▂▂▂▃▁▁</td></tr><tr><td>epoch</td><td>▁▂▃▅▆▇█</td></tr><tr><td>loss</td><td>▆▁▁▁█▁▁</td></tr><tr><td>val_accuracy</td><td>▆▁▁█▁▄▄</td></tr><tr><td>val_loss</td><td>▁▁▁█▁▁▁</td></tr></table><br/></div><div class=\"wandb-col\"><h3>Run summary:</h3><br/><table class=\"wandb\"><tr><td>Test Accuracy Rate: </td><td>25.6</td></tr><tr><td>Test Error Rate: </td><td>74.4</td></tr><tr><td>accuracy</td><td>0.249</td></tr><tr><td>best_epoch</td><td>1</td></tr><tr><td>best_val_loss</td><td>1.38658</td></tr><tr><td>epoch</td><td>6</td></tr><tr><td>loss</td><td>1.38956</td></tr><tr><td>val_accuracy</td><td>0.256</td></tr><tr><td>val_loss</td><td>1.38918</td></tr></table><br/></div></div>"
      ],
      "text/plain": [
       "<IPython.core.display.HTML object>"
      ]
     },
     "metadata": {},
     "output_type": "display_data"
    },
    {
     "data": {
      "text/html": [
       " View run <strong style=\"color:#cdcd00\">autumn-sweep-3</strong> at: <a href='https://wandb.ai/bitna3192/DLThon/runs/eigsb4ez' target=\"_blank\">https://wandb.ai/bitna3192/DLThon/runs/eigsb4ez</a><br/>Synced 5 W&B file(s), 1 media file(s), 8 artifact file(s) and 1 other file(s)"
      ],
      "text/plain": [
       "<IPython.core.display.HTML object>"
      ]
     },
     "metadata": {},
     "output_type": "display_data"
    },
    {
     "data": {
      "text/html": [
       "Find logs at: <code>./wandb/run-20240111_223044-eigsb4ez/logs</code>"
      ],
      "text/plain": [
       "<IPython.core.display.HTML object>"
      ]
     },
     "metadata": {},
     "output_type": "display_data"
    },
    {
     "name": "stderr",
     "output_type": "stream",
     "text": [
      "\u001b[34m\u001b[1mwandb\u001b[0m: Agent Starting Run: pnxuuwrg with config:\n",
      "\u001b[34m\u001b[1mwandb\u001b[0m: \tepoch: 9\n",
      "\u001b[34m\u001b[1mwandb\u001b[0m: \tlearning_rate: 0.08448898401751691\n"
     ]
    },
    {
     "data": {
      "text/html": [
       "wandb version 0.16.2 is available!  To upgrade, please run:\n",
       " $ pip install wandb --upgrade"
      ],
      "text/plain": [
       "<IPython.core.display.HTML object>"
      ]
     },
     "metadata": {},
     "output_type": "display_data"
    },
    {
     "data": {
      "text/html": [
       "Tracking run with wandb version 0.16.0"
      ],
      "text/plain": [
       "<IPython.core.display.HTML object>"
      ]
     },
     "metadata": {},
     "output_type": "display_data"
    },
    {
     "data": {
      "text/html": [
       "Run data is saved locally in <code>/aiffel/aiffel/wandb/run-20240111_223118-pnxuuwrg</code>"
      ],
      "text/plain": [
       "<IPython.core.display.HTML object>"
      ]
     },
     "metadata": {},
     "output_type": "display_data"
    },
    {
     "data": {
      "text/html": [
       "Syncing run <strong><a href='https://wandb.ai/bitna3192/DLThon/runs/pnxuuwrg' target=\"_blank\">olive-sweep-4</a></strong> to <a href='https://wandb.ai/bitna3192/DLThon' target=\"_blank\">Weights & Biases</a> (<a href='https://wandb.me/run' target=\"_blank\">docs</a>)<br/>Sweep page: <a href='https://wandb.ai/bitna3192/DLThon/sweeps/7f3b18ju' target=\"_blank\">https://wandb.ai/bitna3192/DLThon/sweeps/7f3b18ju</a>"
      ],
      "text/plain": [
       "<IPython.core.display.HTML object>"
      ]
     },
     "metadata": {},
     "output_type": "display_data"
    },
    {
     "data": {
      "text/html": [
       " View project at <a href='https://wandb.ai/bitna3192/DLThon' target=\"_blank\">https://wandb.ai/bitna3192/DLThon</a>"
      ],
      "text/plain": [
       "<IPython.core.display.HTML object>"
      ]
     },
     "metadata": {},
     "output_type": "display_data"
    },
    {
     "data": {
      "text/html": [
       " View sweep at <a href='https://wandb.ai/bitna3192/DLThon/sweeps/7f3b18ju' target=\"_blank\">https://wandb.ai/bitna3192/DLThon/sweeps/7f3b18ju</a>"
      ],
      "text/plain": [
       "<IPython.core.display.HTML object>"
      ]
     },
     "metadata": {},
     "output_type": "display_data"
    },
    {
     "data": {
      "text/html": [
       " View run at <a href='https://wandb.ai/bitna3192/DLThon/runs/pnxuuwrg' target=\"_blank\">https://wandb.ai/bitna3192/DLThon/runs/pnxuuwrg</a>"
      ],
      "text/plain": [
       "<IPython.core.display.HTML object>"
      ]
     },
     "metadata": {},
     "output_type": "display_data"
    },
    {
     "name": "stdout",
     "output_type": "stream",
     "text": [
      "Epoch 1/9\n",
      "94/94 [==============================] - 2s 17ms/step - loss: 1.9541 - accuracy: 0.2663 - val_loss: 1.3916 - val_accuracy: 0.2560\n",
      "INFO:tensorflow:Assets written to: /aiffel/aiffel/wandb/run-20240111_223118-pnxuuwrg/files/model-best/assets\n"
     ]
    },
    {
     "name": "stderr",
     "output_type": "stream",
     "text": [
      "\u001b[34m\u001b[1mwandb\u001b[0m: Adding directory to artifact (/aiffel/aiffel/wandb/run-20240111_223118-pnxuuwrg/files/model-best)... Done. 1.7s\n"
     ]
    },
    {
     "name": "stdout",
     "output_type": "stream",
     "text": [
      "Epoch 2/9\n",
      "94/94 [==============================] - 1s 15ms/step - loss: 1.3879 - accuracy: 0.2677 - val_loss: 1.3942 - val_accuracy: 0.2493\n",
      "Epoch 3/9\n",
      "94/94 [==============================] - 1s 15ms/step - loss: 1.3895 - accuracy: 0.2590 - val_loss: 1.3911 - val_accuracy: 0.2600\n",
      "INFO:tensorflow:Assets written to: /aiffel/aiffel/wandb/run-20240111_223118-pnxuuwrg/files/model-best/assets\n"
     ]
    },
    {
     "name": "stderr",
     "output_type": "stream",
     "text": [
      "\u001b[34m\u001b[1mwandb\u001b[0m: Adding directory to artifact (/aiffel/aiffel/wandb/run-20240111_223118-pnxuuwrg/files/model-best)... Done. 1.8s\n"
     ]
    },
    {
     "name": "stdout",
     "output_type": "stream",
     "text": [
      "Epoch 4/9\n",
      "94/94 [==============================] - 1s 15ms/step - loss: 1.3896 - accuracy: 0.2517 - val_loss: 1.3898 - val_accuracy: 0.2493\n",
      "INFO:tensorflow:Assets written to: /aiffel/aiffel/wandb/run-20240111_223118-pnxuuwrg/files/model-best/assets\n"
     ]
    },
    {
     "name": "stderr",
     "output_type": "stream",
     "text": [
      "\u001b[34m\u001b[1mwandb\u001b[0m: Adding directory to artifact (/aiffel/aiffel/wandb/run-20240111_223118-pnxuuwrg/files/model-best)... Done. 1.7s\n"
     ]
    },
    {
     "name": "stdout",
     "output_type": "stream",
     "text": [
      "Epoch 5/9\n",
      "94/94 [==============================] - 1s 16ms/step - loss: 1.3914 - accuracy: 0.2523 - val_loss: 1.3913 - val_accuracy: 0.2493\n",
      "Epoch 6/9\n",
      "94/94 [==============================] - 1s 14ms/step - loss: 1.3943 - accuracy: 0.2390 - val_loss: 1.3922 - val_accuracy: 0.2560\n",
      "Epoch 7/9\n",
      "94/94 [==============================] - 1s 14ms/step - loss: 1.3901 - accuracy: 0.2617 - val_loss: 1.3866 - val_accuracy: 0.2493\n",
      "INFO:tensorflow:Assets written to: /aiffel/aiffel/wandb/run-20240111_223118-pnxuuwrg/files/model-best/assets\n"
     ]
    },
    {
     "name": "stderr",
     "output_type": "stream",
     "text": [
      "\u001b[34m\u001b[1mwandb\u001b[0m: Adding directory to artifact (/aiffel/aiffel/wandb/run-20240111_223118-pnxuuwrg/files/model-best)... Done. 1.6s\n"
     ]
    },
    {
     "name": "stdout",
     "output_type": "stream",
     "text": [
      "Epoch 8/9\n",
      "94/94 [==============================] - 1s 15ms/step - loss: 1.3896 - accuracy: 0.2640 - val_loss: 1.3861 - val_accuracy: 0.2600\n",
      "INFO:tensorflow:Assets written to: /aiffel/aiffel/wandb/run-20240111_223118-pnxuuwrg/files/model-best/assets\n"
     ]
    },
    {
     "name": "stderr",
     "output_type": "stream",
     "text": [
      "\u001b[34m\u001b[1mwandb\u001b[0m: Adding directory to artifact (/aiffel/aiffel/wandb/run-20240111_223118-pnxuuwrg/files/model-best)... Done. 3.8s\n"
     ]
    },
    {
     "name": "stdout",
     "output_type": "stream",
     "text": [
      "Epoch 9/9\n",
      "94/94 [==============================] - 1s 15ms/step - loss: 1.3903 - accuracy: 0.2630 - val_loss: 1.3875 - val_accuracy: 0.2560\n",
      "24/24 - 0s - loss: 1.3875 - accuracy: 0.2560\n"
     ]
    },
    {
     "data": {
      "application/vnd.jupyter.widget-view+json": {
       "model_id": "",
       "version_major": 2,
       "version_minor": 0
      },
      "text/plain": [
       "VBox(children=(Label(value='792.461 MB of 792.461 MB uploaded (0.044 MB deduped)\\r'), FloatProgress(value=1.0,…"
      ]
     },
     "metadata": {},
     "output_type": "display_data"
    },
    {
     "data": {
      "text/html": [
       "<style>\n",
       "    table.wandb td:nth-child(1) { padding: 0 10px; text-align: left ; width: auto;} td:nth-child(2) {text-align: left ; width: 100%}\n",
       "    .wandb-row { display: flex; flex-direction: row; flex-wrap: wrap; justify-content: flex-start; width: 100% }\n",
       "    .wandb-col { display: flex; flex-direction: column; flex-basis: 100%; flex: 1; padding: 10px; }\n",
       "    </style>\n",
       "<div class=\"wandb-row\"><div class=\"wandb-col\"><h3>Run history:</h3><br/><table class=\"wandb\"><tr><td>Test Accuracy Rate: </td><td>▁</td></tr><tr><td>Test Error Rate: </td><td>▁</td></tr><tr><td>accuracy</td><td>██▆▄▄▁▇▇▇</td></tr><tr><td>epoch</td><td>▁▂▃▄▅▅▆▇█</td></tr><tr><td>loss</td><td>█▁▁▁▁▁▁▁▁</td></tr><tr><td>val_accuracy</td><td>▅▁█▁▁▅▁█▅</td></tr><tr><td>val_loss</td><td>▆█▅▄▅▆▁▁▂</td></tr></table><br/></div><div class=\"wandb-col\"><h3>Run summary:</h3><br/><table class=\"wandb\"><tr><td>Test Accuracy Rate: </td><td>25.6</td></tr><tr><td>Test Error Rate: </td><td>74.4</td></tr><tr><td>accuracy</td><td>0.263</td></tr><tr><td>best_epoch</td><td>7</td></tr><tr><td>best_val_loss</td><td>1.38607</td></tr><tr><td>epoch</td><td>8</td></tr><tr><td>loss</td><td>1.39028</td></tr><tr><td>val_accuracy</td><td>0.256</td></tr><tr><td>val_loss</td><td>1.38746</td></tr></table><br/></div></div>"
      ],
      "text/plain": [
       "<IPython.core.display.HTML object>"
      ]
     },
     "metadata": {},
     "output_type": "display_data"
    },
    {
     "data": {
      "text/html": [
       " View run <strong style=\"color:#cdcd00\">olive-sweep-4</strong> at: <a href='https://wandb.ai/bitna3192/DLThon/runs/pnxuuwrg' target=\"_blank\">https://wandb.ai/bitna3192/DLThon/runs/pnxuuwrg</a><br/>Synced 5 W&B file(s), 1 media file(s), 20 artifact file(s) and 1 other file(s)"
      ],
      "text/plain": [
       "<IPython.core.display.HTML object>"
      ]
     },
     "metadata": {},
     "output_type": "display_data"
    },
    {
     "data": {
      "text/html": [
       "Find logs at: <code>./wandb/run-20240111_223118-pnxuuwrg/logs</code>"
      ],
      "text/plain": [
       "<IPython.core.display.HTML object>"
      ]
     },
     "metadata": {},
     "output_type": "display_data"
    },
    {
     "name": "stderr",
     "output_type": "stream",
     "text": [
      "\u001b[34m\u001b[1mwandb\u001b[0m: Agent Starting Run: bzxe4zk2 with config:\n",
      "\u001b[34m\u001b[1mwandb\u001b[0m: \tepoch: 7\n",
      "\u001b[34m\u001b[1mwandb\u001b[0m: \tlearning_rate: 0.002109164209869849\n"
     ]
    },
    {
     "data": {
      "text/html": [
       "wandb version 0.16.2 is available!  To upgrade, please run:\n",
       " $ pip install wandb --upgrade"
      ],
      "text/plain": [
       "<IPython.core.display.HTML object>"
      ]
     },
     "metadata": {},
     "output_type": "display_data"
    },
    {
     "data": {
      "text/html": [
       "Tracking run with wandb version 0.16.0"
      ],
      "text/plain": [
       "<IPython.core.display.HTML object>"
      ]
     },
     "metadata": {},
     "output_type": "display_data"
    },
    {
     "data": {
      "text/html": [
       "Run data is saved locally in <code>/aiffel/aiffel/wandb/run-20240111_223209-bzxe4zk2</code>"
      ],
      "text/plain": [
       "<IPython.core.display.HTML object>"
      ]
     },
     "metadata": {},
     "output_type": "display_data"
    },
    {
     "data": {
      "text/html": [
       "Syncing run <strong><a href='https://wandb.ai/bitna3192/DLThon/runs/bzxe4zk2' target=\"_blank\">leafy-sweep-5</a></strong> to <a href='https://wandb.ai/bitna3192/DLThon' target=\"_blank\">Weights & Biases</a> (<a href='https://wandb.me/run' target=\"_blank\">docs</a>)<br/>Sweep page: <a href='https://wandb.ai/bitna3192/DLThon/sweeps/7f3b18ju' target=\"_blank\">https://wandb.ai/bitna3192/DLThon/sweeps/7f3b18ju</a>"
      ],
      "text/plain": [
       "<IPython.core.display.HTML object>"
      ]
     },
     "metadata": {},
     "output_type": "display_data"
    },
    {
     "data": {
      "text/html": [
       " View project at <a href='https://wandb.ai/bitna3192/DLThon' target=\"_blank\">https://wandb.ai/bitna3192/DLThon</a>"
      ],
      "text/plain": [
       "<IPython.core.display.HTML object>"
      ]
     },
     "metadata": {},
     "output_type": "display_data"
    },
    {
     "data": {
      "text/html": [
       " View sweep at <a href='https://wandb.ai/bitna3192/DLThon/sweeps/7f3b18ju' target=\"_blank\">https://wandb.ai/bitna3192/DLThon/sweeps/7f3b18ju</a>"
      ],
      "text/plain": [
       "<IPython.core.display.HTML object>"
      ]
     },
     "metadata": {},
     "output_type": "display_data"
    },
    {
     "data": {
      "text/html": [
       " View run at <a href='https://wandb.ai/bitna3192/DLThon/runs/bzxe4zk2' target=\"_blank\">https://wandb.ai/bitna3192/DLThon/runs/bzxe4zk2</a>"
      ],
      "text/plain": [
       "<IPython.core.display.HTML object>"
      ]
     },
     "metadata": {},
     "output_type": "display_data"
    },
    {
     "name": "stdout",
     "output_type": "stream",
     "text": [
      "Epoch 1/7\n",
      "94/94 [==============================] - 2s 16ms/step - loss: 0.8425 - accuracy: 0.6723 - val_loss: 0.4896 - val_accuracy: 0.8320\n",
      "INFO:tensorflow:Assets written to: /aiffel/aiffel/wandb/run-20240111_223209-bzxe4zk2/files/model-best/assets\n"
     ]
    },
    {
     "name": "stderr",
     "output_type": "stream",
     "text": [
      "\u001b[34m\u001b[1mwandb\u001b[0m: Adding directory to artifact (/aiffel/aiffel/wandb/run-20240111_223209-bzxe4zk2/files/model-best)... Done. 1.7s\n"
     ]
    },
    {
     "name": "stdout",
     "output_type": "stream",
     "text": [
      "Epoch 2/7\n",
      "94/94 [==============================] - 1s 15ms/step - loss: 0.1792 - accuracy: 0.9417 - val_loss: 0.5064 - val_accuracy: 0.8373\n",
      "Epoch 3/7\n",
      "94/94 [==============================] - 1s 14ms/step - loss: 0.0120 - accuracy: 0.9993 - val_loss: 0.4591 - val_accuracy: 0.8453\n",
      "INFO:tensorflow:Assets written to: /aiffel/aiffel/wandb/run-20240111_223209-bzxe4zk2/files/model-best/assets\n"
     ]
    },
    {
     "name": "stderr",
     "output_type": "stream",
     "text": [
      "\u001b[34m\u001b[1mwandb\u001b[0m: Adding directory to artifact (/aiffel/aiffel/wandb/run-20240111_223209-bzxe4zk2/files/model-best)... Done. 2.4s\n"
     ]
    },
    {
     "name": "stdout",
     "output_type": "stream",
     "text": [
      "Epoch 4/7\n",
      "94/94 [==============================] - 1s 15ms/step - loss: 0.0013 - accuracy: 1.0000 - val_loss: 0.4725 - val_accuracy: 0.8533\n",
      "Epoch 5/7\n",
      "94/94 [==============================] - 1s 14ms/step - loss: 7.2910e-04 - accuracy: 1.0000 - val_loss: 0.4827 - val_accuracy: 0.8547\n",
      "Epoch 6/7\n",
      "94/94 [==============================] - 1s 14ms/step - loss: 4.9889e-04 - accuracy: 1.0000 - val_loss: 0.4906 - val_accuracy: 0.8560\n",
      "Epoch 7/7\n",
      "94/94 [==============================] - 1s 14ms/step - loss: 3.6682e-04 - accuracy: 1.0000 - val_loss: 0.4989 - val_accuracy: 0.8560\n",
      "24/24 - 0s - loss: 0.4989 - accuracy: 0.8560\n"
     ]
    },
    {
     "data": {
      "application/vnd.jupyter.widget-view+json": {
       "model_id": "",
       "version_major": 2,
       "version_minor": 0
      },
      "text/plain": [
       "VBox(children=(Label(value='346.688 MB of 346.688 MB uploaded (0.011 MB deduped)\\r'), FloatProgress(value=1.0,…"
      ]
     },
     "metadata": {},
     "output_type": "display_data"
    },
    {
     "data": {
      "text/html": [
       "<style>\n",
       "    table.wandb td:nth-child(1) { padding: 0 10px; text-align: left ; width: auto;} td:nth-child(2) {text-align: left ; width: 100%}\n",
       "    .wandb-row { display: flex; flex-direction: row; flex-wrap: wrap; justify-content: flex-start; width: 100% }\n",
       "    .wandb-col { display: flex; flex-direction: column; flex-basis: 100%; flex: 1; padding: 10px; }\n",
       "    </style>\n",
       "<div class=\"wandb-row\"><div class=\"wandb-col\"><h3>Run history:</h3><br/><table class=\"wandb\"><tr><td>Test Accuracy Rate: </td><td>▁</td></tr><tr><td>Test Error Rate: </td><td>▁</td></tr><tr><td>accuracy</td><td>▁▇█████</td></tr><tr><td>epoch</td><td>▁▂▃▅▆▇█</td></tr><tr><td>loss</td><td>█▂▁▁▁▁▁</td></tr><tr><td>val_accuracy</td><td>▁▃▅▇███</td></tr><tr><td>val_loss</td><td>▆█▁▃▄▆▇</td></tr></table><br/></div><div class=\"wandb-col\"><h3>Run summary:</h3><br/><table class=\"wandb\"><tr><td>Test Accuracy Rate: </td><td>85.6</td></tr><tr><td>Test Error Rate: </td><td>14.4</td></tr><tr><td>accuracy</td><td>1.0</td></tr><tr><td>best_epoch</td><td>2</td></tr><tr><td>best_val_loss</td><td>0.45913</td></tr><tr><td>epoch</td><td>6</td></tr><tr><td>loss</td><td>0.00037</td></tr><tr><td>val_accuracy</td><td>0.856</td></tr><tr><td>val_loss</td><td>0.49887</td></tr></table><br/></div></div>"
      ],
      "text/plain": [
       "<IPython.core.display.HTML object>"
      ]
     },
     "metadata": {},
     "output_type": "display_data"
    },
    {
     "data": {
      "text/html": [
       " View run <strong style=\"color:#cdcd00\">leafy-sweep-5</strong> at: <a href='https://wandb.ai/bitna3192/DLThon/runs/bzxe4zk2' target=\"_blank\">https://wandb.ai/bitna3192/DLThon/runs/bzxe4zk2</a><br/>Synced 5 W&B file(s), 1 media file(s), 8 artifact file(s) and 1 other file(s)"
      ],
      "text/plain": [
       "<IPython.core.display.HTML object>"
      ]
     },
     "metadata": {},
     "output_type": "display_data"
    },
    {
     "data": {
      "text/html": [
       "Find logs at: <code>./wandb/run-20240111_223209-bzxe4zk2/logs</code>"
      ],
      "text/plain": [
       "<IPython.core.display.HTML object>"
      ]
     },
     "metadata": {},
     "output_type": "display_data"
    },
    {
     "name": "stderr",
     "output_type": "stream",
     "text": [
      "\u001b[34m\u001b[1mwandb\u001b[0m: Agent Starting Run: m8izz2ot with config:\n",
      "\u001b[34m\u001b[1mwandb\u001b[0m: \tepoch: 6\n",
      "\u001b[34m\u001b[1mwandb\u001b[0m: \tlearning_rate: 0.08764873022760944\n"
     ]
    },
    {
     "data": {
      "text/html": [
       "wandb version 0.16.2 is available!  To upgrade, please run:\n",
       " $ pip install wandb --upgrade"
      ],
      "text/plain": [
       "<IPython.core.display.HTML object>"
      ]
     },
     "metadata": {},
     "output_type": "display_data"
    },
    {
     "data": {
      "text/html": [
       "Tracking run with wandb version 0.16.0"
      ],
      "text/plain": [
       "<IPython.core.display.HTML object>"
      ]
     },
     "metadata": {},
     "output_type": "display_data"
    },
    {
     "data": {
      "text/html": [
       "Run data is saved locally in <code>/aiffel/aiffel/wandb/run-20240111_223240-m8izz2ot</code>"
      ],
      "text/plain": [
       "<IPython.core.display.HTML object>"
      ]
     },
     "metadata": {},
     "output_type": "display_data"
    },
    {
     "data": {
      "text/html": [
       "Syncing run <strong><a href='https://wandb.ai/bitna3192/DLThon/runs/m8izz2ot' target=\"_blank\">colorful-sweep-6</a></strong> to <a href='https://wandb.ai/bitna3192/DLThon' target=\"_blank\">Weights & Biases</a> (<a href='https://wandb.me/run' target=\"_blank\">docs</a>)<br/>Sweep page: <a href='https://wandb.ai/bitna3192/DLThon/sweeps/7f3b18ju' target=\"_blank\">https://wandb.ai/bitna3192/DLThon/sweeps/7f3b18ju</a>"
      ],
      "text/plain": [
       "<IPython.core.display.HTML object>"
      ]
     },
     "metadata": {},
     "output_type": "display_data"
    },
    {
     "data": {
      "text/html": [
       " View project at <a href='https://wandb.ai/bitna3192/DLThon' target=\"_blank\">https://wandb.ai/bitna3192/DLThon</a>"
      ],
      "text/plain": [
       "<IPython.core.display.HTML object>"
      ]
     },
     "metadata": {},
     "output_type": "display_data"
    },
    {
     "data": {
      "text/html": [
       " View sweep at <a href='https://wandb.ai/bitna3192/DLThon/sweeps/7f3b18ju' target=\"_blank\">https://wandb.ai/bitna3192/DLThon/sweeps/7f3b18ju</a>"
      ],
      "text/plain": [
       "<IPython.core.display.HTML object>"
      ]
     },
     "metadata": {},
     "output_type": "display_data"
    },
    {
     "data": {
      "text/html": [
       " View run at <a href='https://wandb.ai/bitna3192/DLThon/runs/m8izz2ot' target=\"_blank\">https://wandb.ai/bitna3192/DLThon/runs/m8izz2ot</a>"
      ],
      "text/plain": [
       "<IPython.core.display.HTML object>"
      ]
     },
     "metadata": {},
     "output_type": "display_data"
    },
    {
     "name": "stdout",
     "output_type": "stream",
     "text": [
      "Epoch 1/6\n",
      "94/94 [==============================] - 2s 16ms/step - loss: 1.7833 - accuracy: 0.2620 - val_loss: 1.3866 - val_accuracy: 0.2560\n",
      "INFO:tensorflow:Assets written to: /aiffel/aiffel/wandb/run-20240111_223240-m8izz2ot/files/model-best/assets\n"
     ]
    },
    {
     "name": "stderr",
     "output_type": "stream",
     "text": [
      "\u001b[34m\u001b[1mwandb\u001b[0m: Adding directory to artifact (/aiffel/aiffel/wandb/run-20240111_223240-m8izz2ot/files/model-best)... Done. 1.6s\n"
     ]
    },
    {
     "name": "stdout",
     "output_type": "stream",
     "text": [
      "Epoch 2/6\n",
      "94/94 [==============================] - 1s 15ms/step - loss: 1.3923 - accuracy: 0.2453 - val_loss: 1.3882 - val_accuracy: 0.2560\n",
      "Epoch 3/6\n",
      "94/94 [==============================] - 1s 14ms/step - loss: 1.3911 - accuracy: 0.2607 - val_loss: 1.3918 - val_accuracy: 0.2560\n",
      "Epoch 4/6\n",
      "94/94 [==============================] - 1s 14ms/step - loss: 1.3894 - accuracy: 0.2547 - val_loss: 1.3864 - val_accuracy: 0.2600\n",
      "INFO:tensorflow:Assets written to: /aiffel/aiffel/wandb/run-20240111_223240-m8izz2ot/files/model-best/assets\n"
     ]
    },
    {
     "name": "stderr",
     "output_type": "stream",
     "text": [
      "\u001b[34m\u001b[1mwandb\u001b[0m: Adding directory to artifact (/aiffel/aiffel/wandb/run-20240111_223240-m8izz2ot/files/model-best)... Done. 2.3s\n"
     ]
    },
    {
     "name": "stdout",
     "output_type": "stream",
     "text": [
      "Epoch 5/6\n",
      "94/94 [==============================] - 1s 15ms/step - loss: 1.3908 - accuracy: 0.2460 - val_loss: 1.3880 - val_accuracy: 0.2600\n",
      "Epoch 6/6\n",
      "94/94 [==============================] - 1s 15ms/step - loss: 1.3920 - accuracy: 0.2520 - val_loss: 1.3861 - val_accuracy: 0.2560\n",
      "INFO:tensorflow:Assets written to: /aiffel/aiffel/wandb/run-20240111_223240-m8izz2ot/files/model-best/assets\n"
     ]
    },
    {
     "name": "stderr",
     "output_type": "stream",
     "text": [
      "\u001b[34m\u001b[1mwandb\u001b[0m: Adding directory to artifact (/aiffel/aiffel/wandb/run-20240111_223240-m8izz2ot/files/model-best)... Done. 2.3s\n"
     ]
    },
    {
     "name": "stdout",
     "output_type": "stream",
     "text": [
      "24/24 - 0s - loss: 1.3861 - accuracy: 0.2560\n"
     ]
    },
    {
     "data": {
      "application/vnd.jupyter.widget-view+json": {
       "model_id": "",
       "version_major": 2,
       "version_minor": 0
      },
      "text/plain": [
       "VBox(children=(Label(value='495.279 MB of 495.279 MB uploaded (0.022 MB deduped)\\r'), FloatProgress(value=1.0,…"
      ]
     },
     "metadata": {},
     "output_type": "display_data"
    },
    {
     "data": {
      "text/html": [
       "<style>\n",
       "    table.wandb td:nth-child(1) { padding: 0 10px; text-align: left ; width: auto;} td:nth-child(2) {text-align: left ; width: 100%}\n",
       "    .wandb-row { display: flex; flex-direction: row; flex-wrap: wrap; justify-content: flex-start; width: 100% }\n",
       "    .wandb-col { display: flex; flex-direction: column; flex-basis: 100%; flex: 1; padding: 10px; }\n",
       "    </style>\n",
       "<div class=\"wandb-row\"><div class=\"wandb-col\"><h3>Run history:</h3><br/><table class=\"wandb\"><tr><td>Test Accuracy Rate: </td><td>▁</td></tr><tr><td>Test Error Rate: </td><td>▁</td></tr><tr><td>accuracy</td><td>█▁▇▅▁▄</td></tr><tr><td>epoch</td><td>▁▂▄▅▇█</td></tr><tr><td>loss</td><td>█▁▁▁▁▁</td></tr><tr><td>val_accuracy</td><td>▁▁▁██▁</td></tr><tr><td>val_loss</td><td>▂▄█▁▃▁</td></tr></table><br/></div><div class=\"wandb-col\"><h3>Run summary:</h3><br/><table class=\"wandb\"><tr><td>Test Accuracy Rate: </td><td>25.6</td></tr><tr><td>Test Error Rate: </td><td>74.4</td></tr><tr><td>accuracy</td><td>0.252</td></tr><tr><td>best_epoch</td><td>5</td></tr><tr><td>best_val_loss</td><td>1.38615</td></tr><tr><td>epoch</td><td>5</td></tr><tr><td>loss</td><td>1.39199</td></tr><tr><td>val_accuracy</td><td>0.256</td></tr><tr><td>val_loss</td><td>1.38615</td></tr></table><br/></div></div>"
      ],
      "text/plain": [
       "<IPython.core.display.HTML object>"
      ]
     },
     "metadata": {},
     "output_type": "display_data"
    },
    {
     "data": {
      "text/html": [
       " View run <strong style=\"color:#cdcd00\">colorful-sweep-6</strong> at: <a href='https://wandb.ai/bitna3192/DLThon/runs/m8izz2ot' target=\"_blank\">https://wandb.ai/bitna3192/DLThon/runs/m8izz2ot</a><br/>Synced 5 W&B file(s), 1 media file(s), 12 artifact file(s) and 1 other file(s)"
      ],
      "text/plain": [
       "<IPython.core.display.HTML object>"
      ]
     },
     "metadata": {},
     "output_type": "display_data"
    },
    {
     "data": {
      "text/html": [
       "Find logs at: <code>./wandb/run-20240111_223240-m8izz2ot/logs</code>"
      ],
      "text/plain": [
       "<IPython.core.display.HTML object>"
      ]
     },
     "metadata": {},
     "output_type": "display_data"
    },
    {
     "name": "stderr",
     "output_type": "stream",
     "text": [
      "\u001b[34m\u001b[1mwandb\u001b[0m: Agent Starting Run: mo6j2ikp with config:\n",
      "\u001b[34m\u001b[1mwandb\u001b[0m: \tepoch: 5\n",
      "\u001b[34m\u001b[1mwandb\u001b[0m: \tlearning_rate: 0.05249454691935406\n"
     ]
    },
    {
     "data": {
      "text/html": [
       "wandb version 0.16.2 is available!  To upgrade, please run:\n",
       " $ pip install wandb --upgrade"
      ],
      "text/plain": [
       "<IPython.core.display.HTML object>"
      ]
     },
     "metadata": {},
     "output_type": "display_data"
    },
    {
     "data": {
      "text/html": [
       "Tracking run with wandb version 0.16.0"
      ],
      "text/plain": [
       "<IPython.core.display.HTML object>"
      ]
     },
     "metadata": {},
     "output_type": "display_data"
    },
    {
     "data": {
      "text/html": [
       "Run data is saved locally in <code>/aiffel/aiffel/wandb/run-20240111_223315-mo6j2ikp</code>"
      ],
      "text/plain": [
       "<IPython.core.display.HTML object>"
      ]
     },
     "metadata": {},
     "output_type": "display_data"
    },
    {
     "data": {
      "text/html": [
       "Syncing run <strong><a href='https://wandb.ai/bitna3192/DLThon/runs/mo6j2ikp' target=\"_blank\">efficient-sweep-7</a></strong> to <a href='https://wandb.ai/bitna3192/DLThon' target=\"_blank\">Weights & Biases</a> (<a href='https://wandb.me/run' target=\"_blank\">docs</a>)<br/>Sweep page: <a href='https://wandb.ai/bitna3192/DLThon/sweeps/7f3b18ju' target=\"_blank\">https://wandb.ai/bitna3192/DLThon/sweeps/7f3b18ju</a>"
      ],
      "text/plain": [
       "<IPython.core.display.HTML object>"
      ]
     },
     "metadata": {},
     "output_type": "display_data"
    },
    {
     "data": {
      "text/html": [
       " View project at <a href='https://wandb.ai/bitna3192/DLThon' target=\"_blank\">https://wandb.ai/bitna3192/DLThon</a>"
      ],
      "text/plain": [
       "<IPython.core.display.HTML object>"
      ]
     },
     "metadata": {},
     "output_type": "display_data"
    },
    {
     "data": {
      "text/html": [
       " View sweep at <a href='https://wandb.ai/bitna3192/DLThon/sweeps/7f3b18ju' target=\"_blank\">https://wandb.ai/bitna3192/DLThon/sweeps/7f3b18ju</a>"
      ],
      "text/plain": [
       "<IPython.core.display.HTML object>"
      ]
     },
     "metadata": {},
     "output_type": "display_data"
    },
    {
     "data": {
      "text/html": [
       " View run at <a href='https://wandb.ai/bitna3192/DLThon/runs/mo6j2ikp' target=\"_blank\">https://wandb.ai/bitna3192/DLThon/runs/mo6j2ikp</a>"
      ],
      "text/plain": [
       "<IPython.core.display.HTML object>"
      ]
     },
     "metadata": {},
     "output_type": "display_data"
    },
    {
     "name": "stdout",
     "output_type": "stream",
     "text": [
      "Epoch 1/5\n",
      "94/94 [==============================] - 2s 16ms/step - loss: 1.5250 - accuracy: 0.3503 - val_loss: 1.3170 - val_accuracy: 0.3640\n",
      "INFO:tensorflow:Assets written to: /aiffel/aiffel/wandb/run-20240111_223315-mo6j2ikp/files/model-best/assets\n"
     ]
    },
    {
     "name": "stderr",
     "output_type": "stream",
     "text": [
      "\u001b[34m\u001b[1mwandb\u001b[0m: Adding directory to artifact (/aiffel/aiffel/wandb/run-20240111_223315-mo6j2ikp/files/model-best)... Done. 1.8s\n"
     ]
    },
    {
     "name": "stdout",
     "output_type": "stream",
     "text": [
      "Epoch 2/5\n",
      "94/94 [==============================] - 1s 16ms/step - loss: 1.3811 - accuracy: 0.2813 - val_loss: 1.3952 - val_accuracy: 0.2560\n",
      "Epoch 3/5\n",
      "94/94 [==============================] - 1s 14ms/step - loss: 1.3904 - accuracy: 0.2520 - val_loss: 1.3871 - val_accuracy: 0.2493\n",
      "Epoch 4/5\n",
      "94/94 [==============================] - 1s 14ms/step - loss: 1.3899 - accuracy: 0.2470 - val_loss: 1.3857 - val_accuracy: 0.2493\n",
      "Epoch 5/5\n",
      "94/94 [==============================] - 1s 14ms/step - loss: 1.3882 - accuracy: 0.2500 - val_loss: 1.3867 - val_accuracy: 0.2560\n",
      "24/24 - 0s - loss: 1.3867 - accuracy: 0.2560\n"
     ]
    },
    {
     "data": {
      "application/vnd.jupyter.widget-view+json": {
       "model_id": "",
       "version_major": 2,
       "version_minor": 0
      },
      "text/plain": [
       "VBox(children=(Label(value='297.087 MB of 297.087 MB uploaded\\r'), FloatProgress(value=1.0, max=1.0)))"
      ]
     },
     "metadata": {},
     "output_type": "display_data"
    },
    {
     "data": {
      "text/html": [
       "<style>\n",
       "    table.wandb td:nth-child(1) { padding: 0 10px; text-align: left ; width: auto;} td:nth-child(2) {text-align: left ; width: 100%}\n",
       "    .wandb-row { display: flex; flex-direction: row; flex-wrap: wrap; justify-content: flex-start; width: 100% }\n",
       "    .wandb-col { display: flex; flex-direction: column; flex-basis: 100%; flex: 1; padding: 10px; }\n",
       "    </style>\n",
       "<div class=\"wandb-row\"><div class=\"wandb-col\"><h3>Run history:</h3><br/><table class=\"wandb\"><tr><td>Test Accuracy Rate: </td><td>▁</td></tr><tr><td>Test Error Rate: </td><td>▁</td></tr><tr><td>accuracy</td><td>█▃▁▁▁</td></tr><tr><td>epoch</td><td>▁▃▅▆█</td></tr><tr><td>loss</td><td>█▁▁▁▁</td></tr><tr><td>val_accuracy</td><td>█▁▁▁▁</td></tr><tr><td>val_loss</td><td>▁█▇▇▇</td></tr></table><br/></div><div class=\"wandb-col\"><h3>Run summary:</h3><br/><table class=\"wandb\"><tr><td>Test Accuracy Rate: </td><td>25.6</td></tr><tr><td>Test Error Rate: </td><td>74.4</td></tr><tr><td>accuracy</td><td>0.25</td></tr><tr><td>best_epoch</td><td>0</td></tr><tr><td>best_val_loss</td><td>1.31702</td></tr><tr><td>epoch</td><td>4</td></tr><tr><td>loss</td><td>1.38818</td></tr><tr><td>val_accuracy</td><td>0.256</td></tr><tr><td>val_loss</td><td>1.38667</td></tr></table><br/></div></div>"
      ],
      "text/plain": [
       "<IPython.core.display.HTML object>"
      ]
     },
     "metadata": {},
     "output_type": "display_data"
    },
    {
     "data": {
      "text/html": [
       " View run <strong style=\"color:#cdcd00\">efficient-sweep-7</strong> at: <a href='https://wandb.ai/bitna3192/DLThon/runs/mo6j2ikp' target=\"_blank\">https://wandb.ai/bitna3192/DLThon/runs/mo6j2ikp</a><br/>Synced 5 W&B file(s), 1 media file(s), 4 artifact file(s) and 1 other file(s)"
      ],
      "text/plain": [
       "<IPython.core.display.HTML object>"
      ]
     },
     "metadata": {},
     "output_type": "display_data"
    },
    {
     "data": {
      "text/html": [
       "Find logs at: <code>./wandb/run-20240111_223315-mo6j2ikp/logs</code>"
      ],
      "text/plain": [
       "<IPython.core.display.HTML object>"
      ]
     },
     "metadata": {},
     "output_type": "display_data"
    },
    {
     "name": "stderr",
     "output_type": "stream",
     "text": [
      "\u001b[34m\u001b[1mwandb\u001b[0m: Agent Starting Run: dy8vytkr with config:\n",
      "\u001b[34m\u001b[1mwandb\u001b[0m: \tepoch: 6\n",
      "\u001b[34m\u001b[1mwandb\u001b[0m: \tlearning_rate: 0.02204966904977713\n"
     ]
    },
    {
     "data": {
      "text/html": [
       "wandb version 0.16.2 is available!  To upgrade, please run:\n",
       " $ pip install wandb --upgrade"
      ],
      "text/plain": [
       "<IPython.core.display.HTML object>"
      ]
     },
     "metadata": {},
     "output_type": "display_data"
    },
    {
     "data": {
      "text/html": [
       "Tracking run with wandb version 0.16.0"
      ],
      "text/plain": [
       "<IPython.core.display.HTML object>"
      ]
     },
     "metadata": {},
     "output_type": "display_data"
    },
    {
     "data": {
      "text/html": [
       "Run data is saved locally in <code>/aiffel/aiffel/wandb/run-20240111_223336-dy8vytkr</code>"
      ],
      "text/plain": [
       "<IPython.core.display.HTML object>"
      ]
     },
     "metadata": {},
     "output_type": "display_data"
    },
    {
     "data": {
      "text/html": [
       "Syncing run <strong><a href='https://wandb.ai/bitna3192/DLThon/runs/dy8vytkr' target=\"_blank\">wandering-sweep-8</a></strong> to <a href='https://wandb.ai/bitna3192/DLThon' target=\"_blank\">Weights & Biases</a> (<a href='https://wandb.me/run' target=\"_blank\">docs</a>)<br/>Sweep page: <a href='https://wandb.ai/bitna3192/DLThon/sweeps/7f3b18ju' target=\"_blank\">https://wandb.ai/bitna3192/DLThon/sweeps/7f3b18ju</a>"
      ],
      "text/plain": [
       "<IPython.core.display.HTML object>"
      ]
     },
     "metadata": {},
     "output_type": "display_data"
    },
    {
     "data": {
      "text/html": [
       " View project at <a href='https://wandb.ai/bitna3192/DLThon' target=\"_blank\">https://wandb.ai/bitna3192/DLThon</a>"
      ],
      "text/plain": [
       "<IPython.core.display.HTML object>"
      ]
     },
     "metadata": {},
     "output_type": "display_data"
    },
    {
     "data": {
      "text/html": [
       " View sweep at <a href='https://wandb.ai/bitna3192/DLThon/sweeps/7f3b18ju' target=\"_blank\">https://wandb.ai/bitna3192/DLThon/sweeps/7f3b18ju</a>"
      ],
      "text/plain": [
       "<IPython.core.display.HTML object>"
      ]
     },
     "metadata": {},
     "output_type": "display_data"
    },
    {
     "data": {
      "text/html": [
       " View run at <a href='https://wandb.ai/bitna3192/DLThon/runs/dy8vytkr' target=\"_blank\">https://wandb.ai/bitna3192/DLThon/runs/dy8vytkr</a>"
      ],
      "text/plain": [
       "<IPython.core.display.HTML object>"
      ]
     },
     "metadata": {},
     "output_type": "display_data"
    },
    {
     "name": "stdout",
     "output_type": "stream",
     "text": [
      "Epoch 1/6\n",
      "94/94 [==============================] - 2s 17ms/step - loss: 0.8517 - accuracy: 0.6837 - val_loss: 0.6973 - val_accuracy: 0.7253\n",
      "INFO:tensorflow:Assets written to: /aiffel/aiffel/wandb/run-20240111_223336-dy8vytkr/files/model-best/assets\n"
     ]
    },
    {
     "name": "stderr",
     "output_type": "stream",
     "text": [
      "\u001b[34m\u001b[1mwandb\u001b[0m: Adding directory to artifact (/aiffel/aiffel/wandb/run-20240111_223336-dy8vytkr/files/model-best)... Done. 2.1s\n"
     ]
    },
    {
     "name": "stdout",
     "output_type": "stream",
     "text": [
      "Epoch 2/6\n",
      "94/94 [==============================] - 1s 15ms/step - loss: 0.4226 - accuracy: 0.8643 - val_loss: 0.6671 - val_accuracy: 0.7720\n",
      "INFO:tensorflow:Assets written to: /aiffel/aiffel/wandb/run-20240111_223336-dy8vytkr/files/model-best/assets\n"
     ]
    },
    {
     "name": "stderr",
     "output_type": "stream",
     "text": [
      "\u001b[34m\u001b[1mwandb\u001b[0m: Adding directory to artifact (/aiffel/aiffel/wandb/run-20240111_223336-dy8vytkr/files/model-best)... Done. 1.7s\n"
     ]
    },
    {
     "name": "stdout",
     "output_type": "stream",
     "text": [
      "Epoch 3/6\n",
      "94/94 [==============================] - 1s 15ms/step - loss: 0.4117 - accuracy: 0.8920 - val_loss: 0.9367 - val_accuracy: 0.6067\n",
      "Epoch 4/6\n",
      "94/94 [==============================] - 1s 15ms/step - loss: 0.5867 - accuracy: 0.7900 - val_loss: 1.1903 - val_accuracy: 0.7413\n",
      "Epoch 5/6\n",
      "94/94 [==============================] - 1s 14ms/step - loss: 0.5685 - accuracy: 0.8073 - val_loss: 1.4333 - val_accuracy: 0.5853\n",
      "Epoch 6/6\n",
      "94/94 [==============================] - 1s 14ms/step - loss: 1.0453 - accuracy: 0.5280 - val_loss: 1.4238 - val_accuracy: 0.3200\n",
      "24/24 - 0s - loss: 1.4238 - accuracy: 0.3200\n"
     ]
    },
    {
     "data": {
      "application/vnd.jupyter.widget-view+json": {
       "model_id": "",
       "version_major": 2,
       "version_minor": 0
      },
      "text/plain": [
       "VBox(children=(Label(value='346.688 MB of 346.688 MB uploaded (0.011 MB deduped)\\r'), FloatProgress(value=1.0,…"
      ]
     },
     "metadata": {},
     "output_type": "display_data"
    },
    {
     "data": {
      "text/html": [
       "<style>\n",
       "    table.wandb td:nth-child(1) { padding: 0 10px; text-align: left ; width: auto;} td:nth-child(2) {text-align: left ; width: 100%}\n",
       "    .wandb-row { display: flex; flex-direction: row; flex-wrap: wrap; justify-content: flex-start; width: 100% }\n",
       "    .wandb-col { display: flex; flex-direction: column; flex-basis: 100%; flex: 1; padding: 10px; }\n",
       "    </style>\n",
       "<div class=\"wandb-row\"><div class=\"wandb-col\"><h3>Run history:</h3><br/><table class=\"wandb\"><tr><td>Test Accuracy Rate: </td><td>▁</td></tr><tr><td>Test Error Rate: </td><td>▁</td></tr><tr><td>accuracy</td><td>▄▇█▆▆▁</td></tr><tr><td>epoch</td><td>▁▂▄▅▇█</td></tr><tr><td>loss</td><td>▆▁▁▃▃█</td></tr><tr><td>val_accuracy</td><td>▇█▅█▅▁</td></tr><tr><td>val_loss</td><td>▁▁▃▆██</td></tr></table><br/></div><div class=\"wandb-col\"><h3>Run summary:</h3><br/><table class=\"wandb\"><tr><td>Test Accuracy Rate: </td><td>32.0</td></tr><tr><td>Test Error Rate: </td><td>68.0</td></tr><tr><td>accuracy</td><td>0.528</td></tr><tr><td>best_epoch</td><td>1</td></tr><tr><td>best_val_loss</td><td>0.66705</td></tr><tr><td>epoch</td><td>5</td></tr><tr><td>loss</td><td>1.04531</td></tr><tr><td>val_accuracy</td><td>0.32</td></tr><tr><td>val_loss</td><td>1.42377</td></tr></table><br/></div></div>"
      ],
      "text/plain": [
       "<IPython.core.display.HTML object>"
      ]
     },
     "metadata": {},
     "output_type": "display_data"
    },
    {
     "data": {
      "text/html": [
       " View run <strong style=\"color:#cdcd00\">wandering-sweep-8</strong> at: <a href='https://wandb.ai/bitna3192/DLThon/runs/dy8vytkr' target=\"_blank\">https://wandb.ai/bitna3192/DLThon/runs/dy8vytkr</a><br/>Synced 5 W&B file(s), 1 media file(s), 8 artifact file(s) and 1 other file(s)"
      ],
      "text/plain": [
       "<IPython.core.display.HTML object>"
      ]
     },
     "metadata": {},
     "output_type": "display_data"
    },
    {
     "data": {
      "text/html": [
       "Find logs at: <code>./wandb/run-20240111_223336-dy8vytkr/logs</code>"
      ],
      "text/plain": [
       "<IPython.core.display.HTML object>"
      ]
     },
     "metadata": {},
     "output_type": "display_data"
    },
    {
     "name": "stderr",
     "output_type": "stream",
     "text": [
      "\u001b[34m\u001b[1mwandb\u001b[0m: Agent Starting Run: jqozdnfm with config:\n",
      "\u001b[34m\u001b[1mwandb\u001b[0m: \tepoch: 6\n",
      "\u001b[34m\u001b[1mwandb\u001b[0m: \tlearning_rate: 0.012832876149654789\n"
     ]
    },
    {
     "data": {
      "text/html": [
       "wandb version 0.16.2 is available!  To upgrade, please run:\n",
       " $ pip install wandb --upgrade"
      ],
      "text/plain": [
       "<IPython.core.display.HTML object>"
      ]
     },
     "metadata": {},
     "output_type": "display_data"
    },
    {
     "data": {
      "text/html": [
       "Tracking run with wandb version 0.16.0"
      ],
      "text/plain": [
       "<IPython.core.display.HTML object>"
      ]
     },
     "metadata": {},
     "output_type": "display_data"
    },
    {
     "data": {
      "text/html": [
       "Run data is saved locally in <code>/aiffel/aiffel/wandb/run-20240111_223406-jqozdnfm</code>"
      ],
      "text/plain": [
       "<IPython.core.display.HTML object>"
      ]
     },
     "metadata": {},
     "output_type": "display_data"
    },
    {
     "data": {
      "text/html": [
       "Syncing run <strong><a href='https://wandb.ai/bitna3192/DLThon/runs/jqozdnfm' target=\"_blank\">smooth-sweep-9</a></strong> to <a href='https://wandb.ai/bitna3192/DLThon' target=\"_blank\">Weights & Biases</a> (<a href='https://wandb.me/run' target=\"_blank\">docs</a>)<br/>Sweep page: <a href='https://wandb.ai/bitna3192/DLThon/sweeps/7f3b18ju' target=\"_blank\">https://wandb.ai/bitna3192/DLThon/sweeps/7f3b18ju</a>"
      ],
      "text/plain": [
       "<IPython.core.display.HTML object>"
      ]
     },
     "metadata": {},
     "output_type": "display_data"
    },
    {
     "data": {
      "text/html": [
       " View project at <a href='https://wandb.ai/bitna3192/DLThon' target=\"_blank\">https://wandb.ai/bitna3192/DLThon</a>"
      ],
      "text/plain": [
       "<IPython.core.display.HTML object>"
      ]
     },
     "metadata": {},
     "output_type": "display_data"
    },
    {
     "data": {
      "text/html": [
       " View sweep at <a href='https://wandb.ai/bitna3192/DLThon/sweeps/7f3b18ju' target=\"_blank\">https://wandb.ai/bitna3192/DLThon/sweeps/7f3b18ju</a>"
      ],
      "text/plain": [
       "<IPython.core.display.HTML object>"
      ]
     },
     "metadata": {},
     "output_type": "display_data"
    },
    {
     "data": {
      "text/html": [
       " View run at <a href='https://wandb.ai/bitna3192/DLThon/runs/jqozdnfm' target=\"_blank\">https://wandb.ai/bitna3192/DLThon/runs/jqozdnfm</a>"
      ],
      "text/plain": [
       "<IPython.core.display.HTML object>"
      ]
     },
     "metadata": {},
     "output_type": "display_data"
    },
    {
     "name": "stdout",
     "output_type": "stream",
     "text": [
      "Epoch 1/6\n",
      "94/94 [==============================] - 2s 21ms/step - loss: 0.7237 - accuracy: 0.7140 - val_loss: 0.6731 - val_accuracy: 0.7640\n",
      "INFO:tensorflow:Assets written to: /aiffel/aiffel/wandb/run-20240111_223406-jqozdnfm/files/model-best/assets\n"
     ]
    },
    {
     "name": "stderr",
     "output_type": "stream",
     "text": [
      "\u001b[34m\u001b[1mwandb\u001b[0m: Adding directory to artifact (/aiffel/aiffel/wandb/run-20240111_223406-jqozdnfm/files/model-best)... Done. 1.6s\n"
     ]
    },
    {
     "name": "stdout",
     "output_type": "stream",
     "text": [
      "Epoch 2/6\n",
      "94/94 [==============================] - 1s 16ms/step - loss: 0.2235 - accuracy: 0.9293 - val_loss: 1.1666 - val_accuracy: 0.7360\n",
      "Epoch 3/6\n",
      "94/94 [==============================] - 1s 15ms/step - loss: 0.0961 - accuracy: 0.9673 - val_loss: 0.6426 - val_accuracy: 0.8347\n",
      "INFO:tensorflow:Assets written to: /aiffel/aiffel/wandb/run-20240111_223406-jqozdnfm/files/model-best/assets\n"
     ]
    },
    {
     "name": "stderr",
     "output_type": "stream",
     "text": [
      "\u001b[34m\u001b[1mwandb\u001b[0m: Adding directory to artifact (/aiffel/aiffel/wandb/run-20240111_223406-jqozdnfm/files/model-best)... Done. 1.5s\n"
     ]
    },
    {
     "name": "stdout",
     "output_type": "stream",
     "text": [
      "Epoch 4/6\n",
      "94/94 [==============================] - 1s 15ms/step - loss: 0.0793 - accuracy: 0.9740 - val_loss: 1.0162 - val_accuracy: 0.8053\n",
      "Epoch 5/6\n",
      "94/94 [==============================] - 1s 14ms/step - loss: 0.0922 - accuracy: 0.9733 - val_loss: 0.9610 - val_accuracy: 0.7867\n",
      "Epoch 6/6\n",
      "94/94 [==============================] - 1s 14ms/step - loss: 0.1700 - accuracy: 0.9557 - val_loss: 1.1051 - val_accuracy: 0.7813\n",
      "24/24 - 0s - loss: 1.1051 - accuracy: 0.7813\n"
     ]
    },
    {
     "data": {
      "application/vnd.jupyter.widget-view+json": {
       "model_id": "",
       "version_major": 2,
       "version_minor": 0
      },
      "text/plain": [
       "VBox(children=(Label(value='445.679 MB of 445.679 MB uploaded (0.011 MB deduped)\\r'), FloatProgress(value=1.0,…"
      ]
     },
     "metadata": {},
     "output_type": "display_data"
    },
    {
     "data": {
      "text/html": [
       "<style>\n",
       "    table.wandb td:nth-child(1) { padding: 0 10px; text-align: left ; width: auto;} td:nth-child(2) {text-align: left ; width: 100%}\n",
       "    .wandb-row { display: flex; flex-direction: row; flex-wrap: wrap; justify-content: flex-start; width: 100% }\n",
       "    .wandb-col { display: flex; flex-direction: column; flex-basis: 100%; flex: 1; padding: 10px; }\n",
       "    </style>\n",
       "<div class=\"wandb-row\"><div class=\"wandb-col\"><h3>Run history:</h3><br/><table class=\"wandb\"><tr><td>Test Accuracy Rate: </td><td>▁</td></tr><tr><td>Test Error Rate: </td><td>▁</td></tr><tr><td>accuracy</td><td>▁▇████</td></tr><tr><td>epoch</td><td>▁▂▄▅▇█</td></tr><tr><td>loss</td><td>█▃▁▁▁▂</td></tr><tr><td>val_accuracy</td><td>▃▁█▆▅▄</td></tr><tr><td>val_loss</td><td>▁█▁▆▅▇</td></tr></table><br/></div><div class=\"wandb-col\"><h3>Run summary:</h3><br/><table class=\"wandb\"><tr><td>Test Accuracy Rate: </td><td>78.13</td></tr><tr><td>Test Error Rate: </td><td>21.87</td></tr><tr><td>accuracy</td><td>0.95567</td></tr><tr><td>best_epoch</td><td>2</td></tr><tr><td>best_val_loss</td><td>0.6426</td></tr><tr><td>epoch</td><td>5</td></tr><tr><td>loss</td><td>0.17004</td></tr><tr><td>val_accuracy</td><td>0.78133</td></tr><tr><td>val_loss</td><td>1.10511</td></tr></table><br/></div></div>"
      ],
      "text/plain": [
       "<IPython.core.display.HTML object>"
      ]
     },
     "metadata": {},
     "output_type": "display_data"
    },
    {
     "data": {
      "text/html": [
       " View run <strong style=\"color:#cdcd00\">smooth-sweep-9</strong> at: <a href='https://wandb.ai/bitna3192/DLThon/runs/jqozdnfm' target=\"_blank\">https://wandb.ai/bitna3192/DLThon/runs/jqozdnfm</a><br/>Synced 5 W&B file(s), 1 media file(s), 8 artifact file(s) and 1 other file(s)"
      ],
      "text/plain": [
       "<IPython.core.display.HTML object>"
      ]
     },
     "metadata": {},
     "output_type": "display_data"
    },
    {
     "data": {
      "text/html": [
       "Find logs at: <code>./wandb/run-20240111_223406-jqozdnfm/logs</code>"
      ],
      "text/plain": [
       "<IPython.core.display.HTML object>"
      ]
     },
     "metadata": {},
     "output_type": "display_data"
    },
    {
     "name": "stderr",
     "output_type": "stream",
     "text": [
      "\u001b[34m\u001b[1mwandb\u001b[0m: Agent Starting Run: y4f6dxd5 with config:\n",
      "\u001b[34m\u001b[1mwandb\u001b[0m: \tepoch: 9\n",
      "\u001b[34m\u001b[1mwandb\u001b[0m: \tlearning_rate: 0.05511893449844813\n"
     ]
    },
    {
     "data": {
      "text/html": [
       "wandb version 0.16.2 is available!  To upgrade, please run:\n",
       " $ pip install wandb --upgrade"
      ],
      "text/plain": [
       "<IPython.core.display.HTML object>"
      ]
     },
     "metadata": {},
     "output_type": "display_data"
    },
    {
     "data": {
      "text/html": [
       "Tracking run with wandb version 0.16.0"
      ],
      "text/plain": [
       "<IPython.core.display.HTML object>"
      ]
     },
     "metadata": {},
     "output_type": "display_data"
    },
    {
     "data": {
      "text/html": [
       "Run data is saved locally in <code>/aiffel/aiffel/wandb/run-20240111_223437-y4f6dxd5</code>"
      ],
      "text/plain": [
       "<IPython.core.display.HTML object>"
      ]
     },
     "metadata": {},
     "output_type": "display_data"
    },
    {
     "data": {
      "text/html": [
       "Syncing run <strong><a href='https://wandb.ai/bitna3192/DLThon/runs/y4f6dxd5' target=\"_blank\">radiant-sweep-10</a></strong> to <a href='https://wandb.ai/bitna3192/DLThon' target=\"_blank\">Weights & Biases</a> (<a href='https://wandb.me/run' target=\"_blank\">docs</a>)<br/>Sweep page: <a href='https://wandb.ai/bitna3192/DLThon/sweeps/7f3b18ju' target=\"_blank\">https://wandb.ai/bitna3192/DLThon/sweeps/7f3b18ju</a>"
      ],
      "text/plain": [
       "<IPython.core.display.HTML object>"
      ]
     },
     "metadata": {},
     "output_type": "display_data"
    },
    {
     "data": {
      "text/html": [
       " View project at <a href='https://wandb.ai/bitna3192/DLThon' target=\"_blank\">https://wandb.ai/bitna3192/DLThon</a>"
      ],
      "text/plain": [
       "<IPython.core.display.HTML object>"
      ]
     },
     "metadata": {},
     "output_type": "display_data"
    },
    {
     "data": {
      "text/html": [
       " View sweep at <a href='https://wandb.ai/bitna3192/DLThon/sweeps/7f3b18ju' target=\"_blank\">https://wandb.ai/bitna3192/DLThon/sweeps/7f3b18ju</a>"
      ],
      "text/plain": [
       "<IPython.core.display.HTML object>"
      ]
     },
     "metadata": {},
     "output_type": "display_data"
    },
    {
     "data": {
      "text/html": [
       " View run at <a href='https://wandb.ai/bitna3192/DLThon/runs/y4f6dxd5' target=\"_blank\">https://wandb.ai/bitna3192/DLThon/runs/y4f6dxd5</a>"
      ],
      "text/plain": [
       "<IPython.core.display.HTML object>"
      ]
     },
     "metadata": {},
     "output_type": "display_data"
    },
    {
     "name": "stdout",
     "output_type": "stream",
     "text": [
      "Epoch 1/9\n",
      "94/94 [==============================] - 2s 16ms/step - loss: 1.4207 - accuracy: 0.3800 - val_loss: 1.3861 - val_accuracy: 0.2600\n",
      "INFO:tensorflow:Assets written to: /aiffel/aiffel/wandb/run-20240111_223437-y4f6dxd5/files/model-best/assets\n"
     ]
    },
    {
     "name": "stderr",
     "output_type": "stream",
     "text": [
      "\u001b[34m\u001b[1mwandb\u001b[0m: Adding directory to artifact (/aiffel/aiffel/wandb/run-20240111_223437-y4f6dxd5/files/model-best)... Done. 1.8s\n"
     ]
    },
    {
     "name": "stdout",
     "output_type": "stream",
     "text": [
      "Epoch 2/9\n",
      "94/94 [==============================] - 1s 16ms/step - loss: 1.3892 - accuracy: 0.2570 - val_loss: 1.3880 - val_accuracy: 0.2560\n",
      "Epoch 3/9\n",
      "94/94 [==============================] - 1s 15ms/step - loss: 1.3902 - accuracy: 0.2463 - val_loss: 1.3896 - val_accuracy: 0.2560\n",
      "Epoch 4/9\n",
      "94/94 [==============================] - 1s 15ms/step - loss: 1.3899 - accuracy: 0.2457 - val_loss: 1.3890 - val_accuracy: 0.2560\n",
      "Epoch 5/9\n",
      "94/94 [==============================] - 1s 14ms/step - loss: 1.3895 - accuracy: 0.2467 - val_loss: 1.3901 - val_accuracy: 0.2560\n",
      "Epoch 6/9\n",
      "94/94 [==============================] - 1s 14ms/step - loss: 1.3877 - accuracy: 0.2540 - val_loss: 1.3857 - val_accuracy: 0.2600\n",
      "INFO:tensorflow:Assets written to: /aiffel/aiffel/wandb/run-20240111_223437-y4f6dxd5/files/model-best/assets\n"
     ]
    },
    {
     "name": "stderr",
     "output_type": "stream",
     "text": [
      "\u001b[34m\u001b[1mwandb\u001b[0m: Adding directory to artifact (/aiffel/aiffel/wandb/run-20240111_223437-y4f6dxd5/files/model-best)... Done. 1.6s\n"
     ]
    },
    {
     "name": "stdout",
     "output_type": "stream",
     "text": [
      "Epoch 7/9\n",
      "94/94 [==============================] - 1s 16ms/step - loss: 1.3905 - accuracy: 0.2410 - val_loss: 1.3893 - val_accuracy: 0.2493\n",
      "Epoch 8/9\n",
      "94/94 [==============================] - 1s 15ms/step - loss: 1.3895 - accuracy: 0.2473 - val_loss: 1.3874 - val_accuracy: 0.2493\n",
      "Epoch 9/9\n",
      "94/94 [==============================] - 1s 15ms/step - loss: 1.3889 - accuracy: 0.2507 - val_loss: 1.3908 - val_accuracy: 0.2493\n",
      "24/24 - 0s - loss: 1.3908 - accuracy: 0.2493\n"
     ]
    },
    {
     "data": {
      "application/vnd.jupyter.widget-view+json": {
       "model_id": "",
       "version_major": 2,
       "version_minor": 0
      },
      "text/plain": [
       "VBox(children=(Label(value='445.679 MB of 445.679 MB uploaded (0.011 MB deduped)\\r'), FloatProgress(value=1.0,…"
      ]
     },
     "metadata": {},
     "output_type": "display_data"
    },
    {
     "data": {
      "text/html": [
       "<style>\n",
       "    table.wandb td:nth-child(1) { padding: 0 10px; text-align: left ; width: auto;} td:nth-child(2) {text-align: left ; width: 100%}\n",
       "    .wandb-row { display: flex; flex-direction: row; flex-wrap: wrap; justify-content: flex-start; width: 100% }\n",
       "    .wandb-col { display: flex; flex-direction: column; flex-basis: 100%; flex: 1; padding: 10px; }\n",
       "    </style>\n",
       "<div class=\"wandb-row\"><div class=\"wandb-col\"><h3>Run history:</h3><br/><table class=\"wandb\"><tr><td>Test Accuracy Rate: </td><td>▁</td></tr><tr><td>Test Error Rate: </td><td>▁</td></tr><tr><td>accuracy</td><td>█▂▁▁▁▂▁▁▁</td></tr><tr><td>epoch</td><td>▁▂▃▄▅▅▆▇█</td></tr><tr><td>loss</td><td>█▁▂▁▁▁▂▁▁</td></tr><tr><td>val_accuracy</td><td>█▅▅▅▅█▁▁▁</td></tr><tr><td>val_loss</td><td>▂▄▆▆▇▁▆▃█</td></tr></table><br/></div><div class=\"wandb-col\"><h3>Run summary:</h3><br/><table class=\"wandb\"><tr><td>Test Accuracy Rate: </td><td>24.93</td></tr><tr><td>Test Error Rate: </td><td>75.07</td></tr><tr><td>accuracy</td><td>0.25067</td></tr><tr><td>best_epoch</td><td>5</td></tr><tr><td>best_val_loss</td><td>1.38567</td></tr><tr><td>epoch</td><td>8</td></tr><tr><td>loss</td><td>1.38892</td></tr><tr><td>val_accuracy</td><td>0.24933</td></tr><tr><td>val_loss</td><td>1.39078</td></tr></table><br/></div></div>"
      ],
      "text/plain": [
       "<IPython.core.display.HTML object>"
      ]
     },
     "metadata": {},
     "output_type": "display_data"
    },
    {
     "data": {
      "text/html": [
       " View run <strong style=\"color:#cdcd00\">radiant-sweep-10</strong> at: <a href='https://wandb.ai/bitna3192/DLThon/runs/y4f6dxd5' target=\"_blank\">https://wandb.ai/bitna3192/DLThon/runs/y4f6dxd5</a><br/>Synced 5 W&B file(s), 1 media file(s), 8 artifact file(s) and 1 other file(s)"
      ],
      "text/plain": [
       "<IPython.core.display.HTML object>"
      ]
     },
     "metadata": {},
     "output_type": "display_data"
    },
    {
     "data": {
      "text/html": [
       "Find logs at: <code>./wandb/run-20240111_223437-y4f6dxd5/logs</code>"
      ],
      "text/plain": [
       "<IPython.core.display.HTML object>"
      ]
     },
     "metadata": {},
     "output_type": "display_data"
    }
   ],
   "source": [
    "# entity와 project에 본인의 아이디와 프로젝트명을 입력하세요\n",
    "\n",
    "sweep_id = wandb.sweep(sweep_config,\n",
    "                       entity = \"bitna3192\",\n",
    "                       project = \"DLThon\")\n",
    "\n",
    "# run the sweep\n",
    "wandb.agent(sweep_id,\n",
    "            function=train,\n",
    "            count=10)"
   ]
  },
  {
   "cell_type": "code",
   "execution_count": 31,
   "id": "8c54d7b3",
   "metadata": {},
   "outputs": [],
   "source": [
    "#from os.path import join\n",
    "#data_dir = os.getenv('HOME')+'/aiffel/dktc/data'\n",
    "\n",
    "#submission_path = join(data_dir, 'submission.csv')\n",
    "#submission = pd.read_csv(submission_path)\n",
    "#submission.head()"
   ]
  },
  {
   "cell_type": "code",
   "execution_count": null,
   "id": "640400d9",
   "metadata": {},
   "outputs": [],
   "source": []
  },
  {
   "cell_type": "code",
   "execution_count": null,
   "id": "bf31584a",
   "metadata": {},
   "outputs": [],
   "source": []
  },
  {
   "cell_type": "code",
   "execution_count": null,
   "id": "46eb2bca",
   "metadata": {},
   "outputs": [],
   "source": []
  }
 ],
 "metadata": {
  "kernelspec": {
   "display_name": "Python 3 (ipykernel)",
   "language": "python",
   "name": "python3"
  },
  "language_info": {
   "codemirror_mode": {
    "name": "ipython",
    "version": 3
   },
   "file_extension": ".py",
   "mimetype": "text/x-python",
   "name": "python",
   "nbconvert_exporter": "python",
   "pygments_lexer": "ipython3",
   "version": "3.9.7"
  }
 },
 "nbformat": 4,
 "nbformat_minor": 5
}
